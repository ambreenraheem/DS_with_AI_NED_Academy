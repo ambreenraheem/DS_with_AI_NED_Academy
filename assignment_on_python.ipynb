{
 "cells": [
  {
   "cell_type": "markdown",
   "metadata": {},
   "source": [
    "### Teacher Name: Sir Sajid Majeed\n",
    "### Student Name: Ambreen Abdul Raheem\n",
    "### Course Name: Data Science With Artificial Intelligence\n",
    "### Topic Name: Python For Data Science (Tutorials)\n",
    "### University Name: NED Academy (Empowering For Professional Excellence)\n",
    "### GitHub: https://github.com/ambreenraheem\n",
    "### LinkedIn: https://www.linkedin.com/in/ambreen-abdulraheem-122509300/\n",
    "### Started Date: 20-July-2024"
   ]
  },
  {
   "cell_type": "markdown",
   "metadata": {},
   "source": [
    "#### \"This tutorial is about regular class assignments in Python given by Sir Sajid Majeed.\" "
   ]
  },
  {
   "cell_type": "markdown",
   "metadata": {},
   "source": [
    "# First Week (20-07-2024/21-07-24)"
   ]
  },
  {
   "cell_type": "markdown",
   "metadata": {},
   "source": [
    "### HOME WORK"
   ]
  },
  {
   "cell_type": "markdown",
   "metadata": {},
   "source": [
    "#### 1. Static Program:\n",
    "Assign any value to a variable with your own data, is called \"Static Program\".\\\n",
    "We don't use Static Program usually."
   ]
  },
  {
   "cell_type": "code",
   "execution_count": 1,
   "metadata": {},
   "outputs": [],
   "source": [
    "name=(\"Ambreen Abdulraheem\")\n",
    "gender=(\"Female\")\n",
    "age=40\n",
    "designetion=(\"Student\")\n",
    "organization=(\"NED Academy\")\n",
    "is_working=True\n",
    "CGPA=3.9"
   ]
  },
  {
   "cell_type": "code",
   "execution_count": 2,
   "metadata": {},
   "outputs": [
    {
     "name": "stdout",
     "output_type": "stream",
     "text": [
      "================================================================================\n",
      "                             Profile                             \n",
      "================================================================================\n",
      "Name:\t\t Ambreen Abdulraheem\n",
      "Gender:\t\t Female\n",
      "Age:\t\t 40\n",
      "Designetion:     Student\n",
      "Organization:    NED Academy\n",
      "Is Working:\t True\n",
      "CGPA:\t\t 3.9\n",
      "================================================================================\n"
     ]
    }
   ],
   "source": [
    "print(\"================================================================================\")\n",
    "print(\"                             Profile                             \")\n",
    "print(\"================================================================================\")\n",
    "print(\"Name:\\t\\t\", name)\n",
    "print(\"Gender:\\t\\t\", gender)\n",
    "print(\"Age:\\t\\t\", age)\n",
    "print(\"Designetion:    \", designetion)\n",
    "print(\"Organization:   \", organization)\n",
    "print(\"Is Working:\\t\",  is_working)\n",
    "print(\"CGPA:\\t\\t\",  CGPA)\n",
    "print(\"================================================================================\")"
   ]
  },
  {
   "cell_type": "markdown",
   "metadata": {},
   "source": [
    "#### 2. Dynamic Program:\n",
    "Taking input from any user, is called \"Dynamic Program\".\\\n",
    "We use it a lot in data analysis. Here we will use input function which is called built-in function.\\\n",
    "Input function is built-in function because input ask for the user's detail and print it."
   ]
  },
  {
   "cell_type": "code",
   "execution_count": 3,
   "metadata": {},
   "outputs": [],
   "source": [
    "name=(\"Ambreen Abdulraheem\")\n",
    "gender=(\"Female\")\n",
    "age=40\n",
    "designetion=(\"Student\")\n",
    "organization=(\"NED Academy\")\n",
    "is_working=True\n",
    "CGPA=3.9"
   ]
  },
  {
   "cell_type": "code",
   "execution_count": 4,
   "metadata": {},
   "outputs": [],
   "source": [
    "# name=(input(\"Enter your name?\"))\n",
    "# gender=(input(\"Enter your gender?\"))\n",
    "# age=(input(\"Enter your age?\"))\n",
    "# designetion=(input(\"Enter your designation?\"))\n",
    "# organization=(input(\"Enter your organization?\"))\n",
    "# in_working=(input(\"Are you working?\"))\n",
    "# CGPA=(input(\"Enter your CGPA?\"))"
   ]
  },
  {
   "cell_type": "code",
   "execution_count": 5,
   "metadata": {},
   "outputs": [],
   "source": [
    "# print(\"Name:\\t\\t\", name)\n",
    "# print(\"Gender:\\t\\t\", gender)\n",
    "# print(\"Age:\\t\\t\",age)\n",
    "# print(\"Designetion:\\t\",designetion)\n",
    "# print(\"Organization:\\t\",organization)\n",
    "# print(\"In Working:\\t\", in_working)\n",
    "# print(\"CGPA:\\t\\t\",CGPA)"
   ]
  },
  {
   "cell_type": "markdown",
   "metadata": {},
   "source": [
    "In Python, you can easily convert strings to uppercase or lowercase using built-in string methods.\\\n",
    "Here are the functions you can use:\n",
    "\n",
    "Uppercase: To convert a string to uppercase, use the upper() method."
   ]
  },
  {
   "cell_type": "code",
   "execution_count": 28,
   "metadata": {},
   "outputs": [
    {
     "name": "stdout",
     "output_type": "stream",
     "text": [
      "We are learning Python.\n",
      "WE ARE LEARNING PYTHON\n"
     ]
    }
   ],
   "source": [
    "text='We are learning Python.' \n",
    "print(text)\n",
    "text = \"we are learning python\"\n",
    "upper_text = text.upper()     # for uppercase text\n",
    "print(upper_text) "
   ]
  },
  {
   "cell_type": "markdown",
   "metadata": {},
   "source": [
    "Lowercase: To convert a string to lowercase, use the lower() method."
   ]
  },
  {
   "cell_type": "code",
   "execution_count": 29,
   "metadata": {},
   "outputs": [
    {
     "name": "stdout",
     "output_type": "stream",
     "text": [
      "we are learning python.\n"
     ]
    }
   ],
   "source": [
    "text = \"WE ARE LEARNING PYTHON.\"\n",
    "lower_text = text.lower()\n",
    "print(lower_text) "
   ]
  },
  {
   "cell_type": "markdown",
   "metadata": {},
   "source": [
    "Capitalize: To capitalize the first letter of a string (and make all other letters lowercase), use the capitalize() method."
   ]
  },
  {
   "cell_type": "code",
   "execution_count": 30,
   "metadata": {},
   "outputs": [
    {
     "name": "stdout",
     "output_type": "stream",
     "text": [
      "We are learning python.\n"
     ]
    }
   ],
   "source": [
    "text = \"we are learning python.\"\n",
    "capitalized_text = text.capitalize()\n",
    "print(capitalized_text)"
   ]
  },
  {
   "cell_type": "markdown",
   "metadata": {},
   "source": [
    "# Second Week (27-07-2024/28-07-2024)"
   ]
  },
  {
   "cell_type": "markdown",
   "metadata": {},
   "source": [
    "#### 3. Arithmatic Operators: (==,+,-,*,/)\n",
    "### Class Work"
   ]
  },
  {
   "cell_type": "code",
   "execution_count": 9,
   "metadata": {},
   "outputs": [
    {
     "name": "stdout",
     "output_type": "stream",
     "text": [
      "The force of mass and acceleration: 800\n",
      "The mass of force and acceleration: 0.5\n",
      "The acceleraation of force and mass: 2.0\n"
     ]
    }
   ],
   "source": [
    "# For finding force:\n",
    "force= '?' \n",
    "mass= 40\n",
    "acc= 20\n",
    "\n",
    "force=40*20                 # force= maass*acceeration\n",
    "print(\"The force of mass and acceleration:\",force)\n",
    "\n",
    "# # For finding mass:\n",
    "mass='?'\n",
    "force= 10\n",
    "acc= 20\n",
    "\n",
    "mass= 10/20                  # mass= force/acceleration\n",
    "print(\"The mass of force and acceleration:\",mass)\n",
    "\n",
    "# For finding acceleration:\n",
    "acc= '?'\n",
    "force= 80\n",
    "mass= 40\n",
    "\n",
    "acc= 80/40                  # accelleration= force/mass\n",
    "print(\"The acceleraation of force and mass:\",acc)"
   ]
  },
  {
   "cell_type": "markdown",
   "metadata": {},
   "source": [
    "### HOME WORK"
   ]
  },
  {
   "cell_type": "markdown",
   "metadata": {},
   "source": [
    "#### Question: 1\n",
    ". Create the variable first name and your last name and compare the length of your first and your last name.?\\\n",
    ". Using the .len() built-in function find the length. "
   ]
  },
  {
   "cell_type": "code",
   "execution_count": 10,
   "metadata": {},
   "outputs": [],
   "source": [
    "# first_name=str(input(\"Enter your First name:\"))\n",
    "# last_name=str(input(\"Enter your Last name:\"))\n",
    "# print(\"First Name: \\t\\t\", first_name)\n",
    "# print(\"Last Name:\\t\\t\", last_name)\n",
    "# len(first_name) > len(last_name)\n",
    "# print(\"Last Name 'Abdulraheem' is longer than 'Ambreen'.\")"
   ]
  },
  {
   "cell_type": "markdown",
   "metadata": {},
   "source": [
    "#### Question: 2\n",
    "Declare 5 as num_one and 4 as num_two.\\\n",
    ". Add num_one and num_two and assign the value to a variable total.\\\n",
    ". Subtract num_two from num_one and assign the value to a variable diff.\\\n",
    ". Divide num_one by num_two and assign the value to a variable division.\\\n",
    ". Use dodulus division to find num_two divided by num_one and assign the value to a variable reminder.\\\n",
    ". Calculate num_one to the power of num_two and assign the value to a variable exp.\\\n",
    ". Find floor division of num_one by num_two and assign the value to a variable floor_division."
   ]
  },
  {
   "cell_type": "code",
   "execution_count": 11,
   "metadata": {},
   "outputs": [
    {
     "name": "stdout",
     "output_type": "stream",
     "text": [
      "Sum of 5 and 4 is:\t\t\t 9\n",
      "Difference of 4 from 5 is:\t\t -1\n",
      "Division of 5 by 4 is:\t\t\t 1.25\n",
      "Reminder of 4 divided by 5 is:\t\t 4\n",
      "Product of 5 to power of 4 is:\t\t 20\n",
      "Floor Division of 5 by 4 is:\t\t 1\n"
     ]
    }
   ],
   "source": [
    "# num_one=5\n",
    "# num_two=4\n",
    "# num_one=int(input(\"Enter your First Number:\"))\n",
    "# num_two=int(input(\"Enter your Second Number:\"))\n",
    "# add= num_one + num_two\n",
    "# diff= num_two - num_one\n",
    "# division= num_one / num_two\n",
    "# reminder= num_two % num_one\n",
    "# exp= num_one * num_two\n",
    "# floor_division= num_one // num_two\n",
    "\n",
    "# print(\"Sum of\", num_one,\"and\", num_two,\"is:\\t\\t\\t\", add)                        # add\n",
    "# print(\"Difference of\", num_two, \"from\", num_one, \"is:\\t\\t\", diff)               # subtract\n",
    "# print(\"Division of\",num_one, \"by\" ,num_two ,\"is:\\t\\t\\t\", division)              # division\n",
    "# print(\"Reminder of\", num_two, \"divided by\", num_one, \"is:\\t\\t\", reminder)       # division with reminder\n",
    "# print(\"Product of\" ,num_one, \"to power of\",num_two, \"is:\\t\\t\", exp)             # multiplication\n",
    "# print(\"Floor Division of\",num_one, \"by\",num_two, \"is:\\t\\t\", floor_division)     # floor division"
   ]
  },
  {
   "cell_type": "markdown",
   "metadata": {},
   "source": [
    "#### Question: 3  \n",
    ". The radius of a circle is 30 meters.\\\n",
    ". Calculate the area of a circle and assign the value to a variable name of area_of_circle.\\\n",
    ". Calculate the circumference of a circle and assign the value to a variable name of circum_of_circle.\\\n",
    ". Take radius as user input and calculate the area."
   ]
  },
  {
   "cell_type": "code",
   "execution_count": 12,
   "metadata": {},
   "outputs": [
    {
     "name": "stdout",
     "output_type": "stream",
     "text": [
      "The Area of Circle is: 2827.4333882308138\n"
     ]
    }
   ],
   "source": [
    "import math\n",
    "radius = 30  # in meters\n",
    "area_of_circle = math.pi * 30 ** 2\n",
    "\n",
    "print(\"The Area of Circle is:\", area_of_circle)"
   ]
  },
  {
   "cell_type": "code",
   "execution_count": 13,
   "metadata": {},
   "outputs": [
    {
     "name": "stdout",
     "output_type": "stream",
     "text": [
      "The Circum of Circle is: 188.49555921538757\n"
     ]
    }
   ],
   "source": [
    "import math\n",
    "\n",
    "# Given radius\n",
    "radius = 30\n",
    "\n",
    "# Calculate circumference\n",
    "circum_of_circle = 2 *math.pi* 30\n",
    "\n",
    "# Print the result\n",
    "print(\"The Circum of Circle is:\", circum_of_circle)"
   ]
  },
  {
   "cell_type": "code",
   "execution_count": 2,
   "metadata": {},
   "outputs": [
    {
     "name": "stdout",
     "output_type": "stream",
     "text": [
      "The area of the circle with radius 2827.433 is: 2827.4333882308138\n"
     ]
    }
   ],
   "source": [
    "import math                      # can't complete\n",
    "\n",
    "# Function to calculate area of a circle\n",
    "def calculate_area(radius):\n",
    "    return math.pi * (30 ** 2)\n",
    "\n",
    "# Taking user input\n",
    "# (if you want to write above output of (radius of circle) or user wants to write it's own, it will answer, user should give input number in float.)\n",
    "radius = float(input(\"Enter the radius of the circle: \"))\n",
    "area = calculate_area(30)\n",
    "\n",
    "print(\"The area of the circle with radius 2827.433 is:\", area)"
   ]
  },
  {
   "cell_type": "markdown",
   "metadata": {},
   "source": [
    "#### Question: 4\n",
    "A grocery store sells a bag of ice for $1.25 and makes a 20% profit. If it sells 500 bags of ice, how much total profit does it make? "
   ]
  },
  {
   "cell_type": "code",
   "execution_count": 3,
   "metadata": {},
   "outputs": [
    {
     "name": "stdout",
     "output_type": "stream",
     "text": [
      "Profit on Sales = $ 125.0\n"
     ]
    }
   ],
   "source": [
    "price  = 1.25\n",
    "profit  = 20\n",
    "sales  = 500\n",
    "\n",
    "profit_amount = price * sales * (profit/100)       # 1.25*500*(20/100) for understanding\n",
    "print(\"Profit on Sales = $\", profit_amount )"
   ]
  },
  {
   "cell_type": "code",
   "execution_count": 16,
   "metadata": {},
   "outputs": [
    {
     "data": {
      "text/plain": [
       "125.0"
      ]
     },
     "execution_count": 16,
     "metadata": {},
     "output_type": "execute_result"
    }
   ],
   "source": [
    "1.25*500*(20/100)"
   ]
  },
  {
   "cell_type": "markdown",
   "metadata": {},
   "source": [
    "#### Question: 5\n",
    ". A travel company wants to fly a plane to the Bahamas. Flying the plane costs 5000 dollars. So far, 29 people have signed up for the trip. If the company charges 200 dollars per ticket, what is the profit made by the company?\\\n",
    "Create variables for each numeric quantity and use appropriate arithmetic operations. "
   ]
  },
  {
   "cell_type": "code",
   "execution_count": 17,
   "metadata": {},
   "outputs": [
    {
     "name": "stdout",
     "output_type": "stream",
     "text": [
      "The company will make $ 800 profit per flight.\n"
     ]
    }
   ],
   "source": [
    "\n",
    "cost = 5000\n",
    "customers = 29\n",
    "ticket_cost = 200\n",
    "\n",
    "profit = ( ticket_cost * customers ) - cost                     # ( 200 * 29 ) - 5000   for understanding\n",
    "print(\"The company will make $\", profit, \"profit per flight.\" )"
   ]
  },
  {
   "cell_type": "code",
   "execution_count": 18,
   "metadata": {},
   "outputs": [
    {
     "data": {
      "text/plain": [
       "800"
      ]
     },
     "execution_count": 18,
     "metadata": {},
     "output_type": "execute_result"
    }
   ],
   "source": [
    "( 200 * 29 ) - 5000 \n"
   ]
  },
  {
   "cell_type": "markdown",
   "metadata": {},
   "source": [
    "### Reational Operaators/Comparision Operators:        (==, < , > , >= , <= , !=)\n",
    "Comparision Operators as their name suggest are used in comparing the value. The return type of these operators are either True or False."
   ]
  },
  {
   "cell_type": "code",
   "execution_count": 27,
   "metadata": {},
   "outputs": [
    {
     "name": "stdout",
     "output_type": "stream",
     "text": [
      "The Comparision of Greater than (a > b):\t\t False\n",
      "The Comparision of Less than (a < b):\t\t\t True\n",
      "The Comparision of Is equal to (a == b):\t\t False\n",
      "The Comparision of Not equal to (a != b):\t\t True\n",
      "The Comparision of Greater than or Equal to (a >= b):\t False\n",
      "The Comparision of Less than or Equal to (a <= b):\t True\n"
     ]
    }
   ],
   "source": [
    "# Assigning values to the variables\n",
    "# a=50\n",
    "# b=100\n",
    "# a=int(input(\"Enter your Number for compaarision 'a':\"))\n",
    "# b=int(input(\"Enter your Number for compaarision 'b':\"))\n",
    "# # Greater than\n",
    "# print(\"The Comparision of Greater than (a > b):\\t\\t\", a > b)\n",
    "# # Less than\n",
    "# print(\"The Comparision of Less than (a < b):\\t\\t\\t\", a < b)\n",
    "# # Is equal to\n",
    "# print(\"The Comparision of Is equal to (a == b):\\t\\t\", a == b)\n",
    "# # Not equal to\n",
    "# print(\"The Comparision of Not equal to (a != b):\\t\\t\", a != b)\n",
    "# # Greater than or Equal to\n",
    "# print(\"The Comparision of Greater than or Equal to (a >= b):\\t\", a >= b)\n",
    "# # Less than or Equal to\n",
    "# print(\"The Comparision of Less than or Equal to (a <= b):\\t\", a <= b)"
   ]
  },
  {
   "cell_type": "markdown",
   "metadata": {},
   "source": [
    "### Logical Operators: (and, or, not)\n",
    "Logical Operators are used to **evaluate the conditions** between the operands. The different type of operators are 'and' , 'or' , 'not'.\\\n",
    "The return type of these operators are either True or False.\\\n",
    "The 'and' And gates perform * multipllicaation. For 'and' gate we required minimum two inputs.\\\n",
    "The 'or' or gates perform + addition. For 'or' gate we required minimum two inputs.\\\n",
    "The 'not' gate reverses the input. For the 'not' gate, only one input is needed.\n",
    "\n",
    "**The 'and' logics work when you log in to your email or any account using the provided information for your program.**"
   ]
  },
  {
   "cell_type": "code",
   "execution_count": 34,
   "metadata": {},
   "outputs": [
    {
     "name": "stdout",
     "output_type": "stream",
     "text": [
      "Your output of 'a' is:\t\t True\n",
      "Your output of 'a and b' is:\t True\n",
      "Your output of 'a' is:\t\t False\n"
     ]
    }
   ],
   "source": [
    "# a= True\n",
    "# b= False\n",
    "# a=bool(input(\"Enter you Input:\"))\n",
    "# b=bool(input(\"Enter your Input:\"))\n",
    "# # Logical 'and'\n",
    "# print(\"Your output of 'a' is:\\t\\t\", a and b)\n",
    "# # Logical 'or'\n",
    "# print(\"Your output of 'a and b' is:\\t\", a or b)\n",
    "# # Logical 'not'\n",
    "# print(\"Your output of 'a' is:\\t\\t\", not b)"
   ]
  },
  {
   "cell_type": "markdown",
   "metadata": {},
   "source": [
    "will write more from notebool"
   ]
  },
  {
   "cell_type": "code",
   "execution_count": 35,
   "metadata": {},
   "outputs": [
    {
     "data": {
      "text/plain": [
       "''"
      ]
     },
     "execution_count": 35,
     "metadata": {},
     "output_type": "execute_result"
    }
   ],
   "source": [
    "a= \"\"\n",
    "b= \"python\"\n",
    "a and b"
   ]
  },
  {
   "cell_type": "code",
   "execution_count": 36,
   "metadata": {},
   "outputs": [
    {
     "data": {
      "text/plain": [
       "'python'"
      ]
     },
     "execution_count": 36,
     "metadata": {},
     "output_type": "execute_result"
    }
   ],
   "source": [
    "a= \"\"\n",
    "b= \"python\"\n",
    "a or b"
   ]
  },
  {
   "cell_type": "markdown",
   "metadata": {},
   "source": [
    "### Assignment Operators:    (= , += , -= , * , /= , **)"
   ]
  },
  {
   "cell_type": "code",
   "execution_count": 5,
   "metadata": {},
   "outputs": [
    {
     "name": "stdout",
     "output_type": "stream",
     "text": [
      "69\n",
      "35\n",
      "1190\n",
      "35.0\n"
     ]
    }
   ],
   "source": [
    "number1=34\n",
    "number2=35\n",
    "number1 = int(input(\"Enter your first Number:\"))          # dynamic proram\n",
    "number2 = int(input(\"Enter your second Number:\"))         # dynamic proram\n",
    "# It will work like this way : number2 = number2 + number1\n",
    "number2 += number1\n",
    "print(number2)\n",
    "# It will work like this way : number2 = number2 - number1\n",
    "# now after addition it will subtract with added number that's why its answer is 35.\n",
    "number2 -= number1\n",
    "print(number2)\n",
    "# It will work like this way : number2 = number2 * number1\n",
    "# now after subtraction it will multiply with subtracted number that's why its answer is 1190.\n",
    "number2 *= number1\n",
    "print(number2)\n",
    "# It will work like this way : number2 = number2 / number1\n",
    "# now after multiply it will divide with multiplied number that's why its answer is 35.0.\n",
    "number2 /= number1\n",
    "print(number2)\n",
    "\n",
    "# Here our updation will works with left side number all the time."
   ]
  },
  {
   "cell_type": "markdown",
   "metadata": {},
   "source": [
    "### Membership Operation:\n",
    "Membership operators are used to test whether a element is apart of a sequence or not, now a sequence can be a List, Tuple, Sets, or Strings. There are two main membership operators in Python: ('in' , 'not in').\\\n",
    "The return type of the membership operators are either 'True' or 'False'."
   ]
  },
  {
   "cell_type": "code",
   "execution_count": 12,
   "metadata": {},
   "outputs": [
    {
     "name": "stdout",
     "output_type": "stream",
     "text": [
      "True\n"
     ]
    }
   ],
   "source": [
    "# For example:\n",
    "letter = 'n'\n",
    "name = 'ambreen'\n",
    "letter in name                  # write directly\n",
    "print(letter in name)           # or print it"
   ]
  },
  {
   "cell_type": "code",
   "execution_count": 10,
   "metadata": {},
   "outputs": [
    {
     "data": {
      "text/plain": [
       "False"
      ]
     },
     "execution_count": 10,
     "metadata": {},
     "output_type": "execute_result"
    }
   ],
   "source": [
    "num = 1983\n",
    "year = 2018,83\n",
    "num in year            # write directly\n",
    "print(num in year)     # or print it"
   ]
  },
  {
   "cell_type": "code",
   "execution_count": 16,
   "metadata": {},
   "outputs": [
    {
     "name": "stdout",
     "output_type": "stream",
     "text": [
      "True\n"
     ]
    }
   ],
   "source": [
    "num = '1983'\n",
    "year = '2018,83'\n",
    "check = '123'\n",
    "b = '12345'\n",
    "print(check not in num)"
   ]
  },
  {
   "cell_type": "code",
   "execution_count": 17,
   "metadata": {},
   "outputs": [
    {
     "name": "stdout",
     "output_type": "stream",
     "text": [
      "True\n"
     ]
    }
   ],
   "source": [
    "check = '123'\n",
    "b = '12345'\n",
    "print(check in b)"
   ]
  },
  {
   "cell_type": "markdown",
   "metadata": {},
   "source": [
    "# will continue"
   ]
  }
 ],
 "metadata": {
  "kernelspec": {
   "display_name": "Python 3",
   "language": "python",
   "name": "python3"
  },
  "language_info": {
   "codemirror_mode": {
    "name": "ipython",
    "version": 3
   },
   "file_extension": ".py",
   "mimetype": "text/x-python",
   "name": "python",
   "nbconvert_exporter": "python",
   "pygments_lexer": "ipython3",
   "version": "3.12.1"
  }
 },
 "nbformat": 4,
 "nbformat_minor": 2
}
