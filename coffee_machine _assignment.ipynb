{
 "cells": [
  {
   "cell_type": "markdown",
   "metadata": {},
   "source": [
    "## Name: Ambreen AbdulRaheem\n",
    "## Assignment: Coffee Machine with some changes of money (in Rupees)\n",
    "## Teacher: Sir Sajjid Majeed\n",
    "## Date: 29-August-2024"
   ]
  },
  {
   "cell_type": "markdown",
   "metadata": {},
   "source": [
    "#### 1. Prompt user by asking\"What would you like?(Espresso/ Latte/ Cappuccino)\"\n",
    "#### a. Check the user's input to decide what to do next.\n",
    "#### b. The prompt should show every time action has completed,e.g. once the drink is dispensed. The prompt should show again to serve the next customer.\n",
    "#### 2. Turn off the coffee Machine by entering \"off\" to the prompt.\n",
    "#### a. For main tainers of the Coffee Machine,they can use \"off\"as the secret word to turn off the machine, your code should end execution when this happens.\n",
    "#### 3. Print report\n",
    "#### a. When the user enters 'report' to the prompt, a rport should be generated that shows thecurent resource values eg.\n",
    "#### Water: 500 ml, Milk: 200 ml, Coffee: 100 g\n",
    "#### 4. Check resources sufficient?\n",
    "#### a. when the user choses a drink, the program should check if there are enough resources to make that drink.\n",
    "#### b. Eg. If Latte reuires 200 ml water but there is only 100 ml left in the machine.It should not continue to make the drink but print(\"Sorry there is not enough water.\")\n",
    "#### c. The same should happen. if another resourse is depleted eg. milk or coffee\n",
    "#### 5. Process Coin:\n",
    "#### a. If thee are sufficient resources to make the drink selected,then the program should prompt the user insert coins.\n",
    "#### b. remember that quarters = $ 0.25, dimes = $ 0.10, mickles = $ 0.05, pennies = $ 0.01.\n",
    "#### c. calculate the monetary value of te coin inserted. Eg.1 quarter, 2 dimes, 1 nickel, 2 pennies= 0.25+0.1*2+0.05+0.01*2= $ 0.52.\n",
    "#### 6. Check transaction successful?\n",
    "#### a. Check that the user has inserted enough money to purchase the drink they selected.  Eg. Latte cost $ 2.50, but they only inserted $ 0.52 then after counting the coin the program should say, \"Sorry that's not enough money. Money refused.\"\n",
    "#### b. But if the user haas inserted enough money, then the cost of the drink gets added to the machine aas the profit and this will be reflect the next time \"report\" is triggered.Eg.   Water: 100 ml, Milk: 50 ml, Coffee: 76g, Money: $ 2.5\n",
    "#### c. If the user has inserted too much money, the mchine should offer change. Eg. \"Here is $ 2.45 dollars in change.\" The change should be rounded to 2 deciml places.\n",
    "#### 7. Mke Coffee\n",
    "#### a. If the trnsaction is successful and there are enough resources to make the drink the user selected, then the ingredients to mke the drink should be deducted from the coffee mchine resources. Eg. report before purchasing Latte: Water: 300ml, Milk: 200 ml, Coffee: 100g, Money: $ 0.\n",
    "#### Report after purchasing Latte:  Water:100 ml, Milk: 50 ml, Coffee: 76 g, Money: $ 2.5\n",
    "#### b. Once all resources have been deducted, tell the user. \"Here is your Latte. Enjoy\", if Laatte was their choice of drink."
   ]
  },
  {
   "cell_type": "code",
   "execution_count": 7,
   "metadata": {},
   "outputs": [
    {
     "name": "stdout",
     "output_type": "stream",
     "text": [
      "{'ingredients': {'water': 200, 'milk': 150, 'coffee': 24}, 'cost': 150}\n",
      "Please insert coin.\n",
      "Here is your Rs25 in change.\n",
      "Here is yourLatte ☕ Enjoy...!!\n",
      "Here is yourLatte ☕ Enjoy...!!\n",
      "Here is yourLatte ☕ Enjoy...!!\n",
      "{'ingredients': {'water': 50, 'coffee': 18}, 'cost': 100}\n",
      "Please insert coin.\n",
      "Here is your Rs75 in change.\n",
      "Here is yourEspresso ☕ Enjoy...!!\n",
      "Here is yourEspresso ☕ Enjoy...!!\n",
      "{'ingredients': {'water': 250, 'milk': 100, 'coffee': 24}, 'cost': 200}\n",
      "Sorry! There is not enough milk\n",
      "{'ingredients': {'water': 250, 'milk': 100, 'coffee': 24}, 'cost': 200}\n",
      "Sorry! There is not enough milk\n"
     ]
    }
   ],
   "source": [
    "# first we need a dictionary for the menu of coffee, where we can store our flavours and cost of each flavour. we will make two dictionaries in one dictionary.\n",
    "menu={\"Latte\":{\"ingredients\":{\"water\":200, \"milk\":150, \"coffee\":24,},\"cost\":150,},\n",
    "      \"Espresso\":{\"ingredients\":{\"water\":50,\"coffee\":18,},\"cost\":100,},\n",
    "      \"Cappuccino\":{\"ingredients\":{\"water\":250,\"milk\":100,\"coffee\":24,},\"cost\":200}\n",
    "      }\n",
    "# first we will make a ditionary for the resources we need to make Coffee with it's profit=0\n",
    "# and we will use while loop for runing our program again and again. And choice of coffee.\n",
    "profit=0\n",
    "resources={\"water\":500, \"milk\":200, \"coffee\":100}\n",
    "\n",
    "def check_resources(order_ingredients):\n",
    "    for item in order_ingredients:          # water # milk # coffee\n",
    "        if order_ingredients[item]>resources[item]:\n",
    "            print(f\"Sorry! There is not enough {item}\")\n",
    "            return False\n",
    "    return True\n",
    "\n",
    "def process_coins():\n",
    "    print(\"Please insert coin.\")\n",
    "    total=0\n",
    "    coins_five=int(input(\"How many 5rs coin?: \"))   #1\n",
    "    coins_ten=int(input(\"How many 10rs coin?: \"))    #1\n",
    "    coins_twenty=int(input(\"How many 20rs coin?: \"))\n",
    "    total= coins_five*5 + coins_ten*10 + coins_twenty*20\n",
    "    return total\n",
    "def is_payment_successful(money_received,coffee_cost):\n",
    "    if money_received>=coffee_cost:\n",
    "        global profit\n",
    "        profit+=coffee_cost\n",
    "        change= money_received-coffee_cost\n",
    "        print(f\"Here is your Rs{change} in change.\")\n",
    "        return True\n",
    "    else:\n",
    "        print(\"Sorry! That's not enough money. Money refunded.\")\n",
    "        return False\n",
    "    \n",
    "def make_coffee(coffee_name,coffee_ingredients):\n",
    "    for item in coffee_ingredients:\n",
    "        resources[item] -= coffee_ingredients[item]\n",
    "        print(f\"Here is your{coffee_name} ☕ Enjoy...!!\")    \n",
    "    \n",
    "    \n",
    "is_on=True                            # to switch on our machine\n",
    "while is_on:\n",
    "    choice=input(\"What would you like to have? (Latte/Espresso/Cappuccino): \")   # report\n",
    "    if choice==\"off\":\n",
    "        is_on=False\n",
    "    elif choice==\"report\":\n",
    "        print(f\"water={resources['water']}ml\")\n",
    "        print(f\"milk={resources['milk']}ml\")\n",
    "        print(f\"coffee={resources['coffee']}g\")\n",
    "        print(f\"Money=Rs{profit}\")\n",
    "    else:\n",
    "        coffee_type=menu[choice]\n",
    "        print(coffee_type)\n",
    "        if check_resources(coffee_type['ingredients']):\n",
    "            payment = process_coins()\n",
    "            if is_payment_successful(payment,coffee_type['cost']):\n",
    "                make_coffee(choice,coffee_type['ingredients'])\n",
    "            "
   ]
  }
 ],
 "metadata": {
  "kernelspec": {
   "display_name": "Python 3",
   "language": "python",
   "name": "python3"
  },
  "language_info": {
   "codemirror_mode": {
    "name": "ipython",
    "version": 3
   },
   "file_extension": ".py",
   "mimetype": "text/x-python",
   "name": "python",
   "nbconvert_exporter": "python",
   "pygments_lexer": "ipython3",
   "version": "3.12.1"
  }
 },
 "nbformat": 4,
 "nbformat_minor": 2
}
