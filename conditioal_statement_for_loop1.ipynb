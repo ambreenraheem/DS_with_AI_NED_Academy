{
 "cells": [
  {
   "cell_type": "markdown",
   "metadata": {},
   "source": [
    "# Loops in python\n",
    "### Loops are itretive statements:\n",
    "#### Key Concepts:\n",
    "**Iteration:** Each time a loop executes its block of code is called an iteration.\\\n",
    "**Control Statements:** You can control the flow of loops using statements like break (to exit the loop) and continue (to skip to the next iteration).\n",
    "**Nested Loops:** You can place loops inside other loops, which can be useful for working with multi-dimensional data structures.\\\n",
    "**Use Cases:**\n",
    "Processing items in a list or array.\\\n",
    "Repeating actions until a certain condition is met.\\\n",
    "Automating repetitive tasks in data processing, simulations, etc.\\\n",
    "Loops are essential for efficient programming and help reduce code redundancy"
   ]
  },
  {
   "cell_type": "markdown",
   "metadata": {},
   "source": [
    "**For Loop:**\n",
    "\n",
    "Used when the number of iterations is known."
   ]
  },
  {
   "cell_type": "code",
   "execution_count": 1,
   "metadata": {},
   "outputs": [
    {
     "name": "stdout",
     "output_type": "stream",
     "text": [
      "Month of the Year: January\n",
      "Month of the Year: Febuary\n",
      "Month of the Year: March\n",
      "Month of the Year: April\n",
      "Month of the Year: May\n",
      "Month of the Year: June\n",
      "Month of the Year: July\n",
      "Month of the Year: August\n",
      "Month of the Year: September\n",
      "Month of the Year: October\n",
      "Month of the Year: November\n",
      "Month of the Year: December\n"
     ]
    }
   ],
   "source": [
    "months_of_year = [\"January\", \"Febuary\", \"March\", \"April\", \"May\", \"June\", \"July\", \"August\",\"September\", \"October\", \"November\", \"December\"]\n",
    "for month in months_of_year:                 # i is actually place name\n",
    "    print(\"Month of the Year:\", month)       # correct code with list of rwelve month"
   ]
  },
  {
   "cell_type": "code",
   "execution_count": 2,
   "metadata": {},
   "outputs": [
    {
     "name": "stdout",
     "output_type": "stream",
     "text": [
      "My favourite fruit is: mango\n",
      "It is healthy.\n",
      "My favourite fruit is: apple\n",
      "It is healthy.\n",
      "My favourite fruit is: grapes\n",
      "It is healthy.\n",
      "My favourite fruit is: pineapple\n",
      "It is healthy.\n",
      "My favourite fruit is: cherry\n",
      "It is healthy.\n"
     ]
    }
   ],
   "source": [
    "fruits=['mango','apple','grapes','pineapple','cherry']\n",
    "for fruit in fruits:\n",
    "    print(\"My favourite fruit is:\",fruit)\n",
    "    print(\"It is healthy.\")               #fruit ia itrator and fruits is a list"
   ]
  },
  {
   "cell_type": "code",
   "execution_count": 3,
   "metadata": {},
   "outputs": [
    {
     "name": "stdout",
     "output_type": "stream",
     "text": [
      "My best friend is my sister: Shabana\n",
      "My best friend is my sister: Noureen\n",
      "My best friend is my sister: Murk\n",
      "My best brother: Salman\n",
      "My best brother: Kashif\n",
      "My best brother: Waqaur\n",
      "My best brother: Adnan\n"
     ]
    }
   ],
   "source": [
    "sisters = (\"Shabana\", \"Noureen\", \"Murk\")\n",
    "brothers = (\"Salman\", \"Kashif\",\"Waqaur\",\"Adnan\")\n",
    "for sis in sisters:\n",
    "    print(\"My best friend is my sister:\",sis)\n",
    "for bro in brothers:\n",
    "        print(\"My best brother:\",bro)"
   ]
  },
  {
   "cell_type": "code",
   "execution_count": 4,
   "metadata": {},
   "outputs": [
    {
     "name": "stdout",
     "output_type": "stream",
     "text": [
      "My best friend is my sister: Shabana\n",
      "We are best friends.\n",
      "My best friend is my sister: Noureen\n",
      "We are best friends.\n",
      "My best friend is my sister: Murk\n",
      "We are best friends.\n",
      "My best brother: Salman\n",
      "We are a family.\n",
      "My best brother: Kashif\n",
      "We are a family.\n",
      "My best brother: Waqaur\n",
      "We are a family.\n",
      "My best brother: Adnan\n",
      "We are a family.\n"
     ]
    }
   ],
   "source": [
    "sisters = (\"Shabana\", \"Noureen\", \"Murk\")\n",
    "brothers = (\"Salman\", \"Kashif\",\"Waqaur\",\"Adnan\")\n",
    "for sis in sisters:\n",
    "    print(\"My best friend is my sister:\",sis)\n",
    "    print(\"We are best friends.\")\n",
    "for bro in brothers:\n",
    "        print(\"My best brother:\",bro)\n",
    "        print(\"We are a family.\")"
   ]
  },
  {
   "cell_type": "markdown",
   "metadata": {},
   "source": [
    "#### If you want a number range up to 100, then write 101 because the last number is exclusive.\n",
    "\n",
    "writing of for loop:\\\n",
    "for itrator in iterable:\\\n",
    "______ statement"
   ]
  },
  {
   "cell_type": "code",
   "execution_count": 10,
   "metadata": {},
   "outputs": [
    {
     "name": "stdout",
     "output_type": "stream",
     "text": [
      "1\n",
      "2\n",
      "3\n",
      "4\n",
      "5\n",
      "6\n",
      "7\n",
      "8\n",
      "9\n",
      "10\n"
     ]
    }
   ],
   "source": [
    "for number in range(1,11):                # number is itrator, mean i.\n",
    "    print(number)"
   ]
  },
  {
   "cell_type": "code",
   "execution_count": 5,
   "metadata": {},
   "outputs": [
    {
     "name": "stdout",
     "output_type": "stream",
     "text": [
      "0\n",
      "1\n",
      "2\n",
      "3\n",
      "4\n",
      "5\n",
      "6\n",
      "7\n",
      "8\n",
      "9\n",
      "10\n",
      "11\n",
      "12\n",
      "13\n",
      "14\n",
      "15\n",
      "16\n",
      "17\n",
      "18\n",
      "19\n",
      "20\n",
      "21\n",
      "22\n",
      "23\n",
      "24\n",
      "25\n",
      "26\n",
      "27\n",
      "28\n",
      "29\n",
      "30\n",
      "31\n",
      "32\n",
      "33\n",
      "34\n",
      "35\n",
      "36\n",
      "37\n",
      "38\n",
      "39\n",
      "40\n",
      "41\n",
      "42\n",
      "43\n",
      "44\n",
      "45\n",
      "46\n",
      "47\n",
      "48\n",
      "49\n",
      "50\n",
      "51\n",
      "52\n",
      "53\n",
      "54\n",
      "55\n",
      "56\n",
      "57\n",
      "58\n",
      "59\n",
      "60\n",
      "61\n",
      "62\n",
      "63\n",
      "64\n",
      "65\n",
      "66\n",
      "67\n",
      "68\n",
      "69\n",
      "70\n",
      "71\n",
      "72\n",
      "73\n",
      "74\n",
      "75\n",
      "76\n",
      "77\n",
      "78\n",
      "79\n",
      "80\n",
      "81\n",
      "82\n",
      "83\n",
      "84\n",
      "85\n",
      "86\n",
      "87\n",
      "88\n",
      "89\n",
      "90\n",
      "91\n",
      "92\n",
      "93\n",
      "94\n",
      "95\n",
      "96\n",
      "97\n",
      "98\n",
      "99\n",
      "100\n"
     ]
    }
   ],
   "source": [
    "for i in range(0,101):\n",
    "    print(i)"
   ]
  },
  {
   "cell_type": "code",
   "execution_count": 6,
   "metadata": {},
   "outputs": [
    {
     "name": "stdout",
     "output_type": "stream",
     "text": [
      "0\n",
      "2\n",
      "4\n",
      "6\n",
      "8\n",
      "10\n",
      "12\n",
      "14\n",
      "16\n",
      "18\n",
      "20\n",
      "22\n",
      "24\n",
      "26\n",
      "28\n",
      "30\n",
      "32\n",
      "34\n",
      "36\n",
      "38\n",
      "40\n",
      "42\n",
      "44\n",
      "46\n",
      "48\n"
     ]
    }
   ],
   "source": [
    "for i in range(0,50,2):         # even number by steps\n",
    "    print(i)"
   ]
  },
  {
   "cell_type": "code",
   "execution_count": 7,
   "metadata": {},
   "outputs": [
    {
     "name": "stdout",
     "output_type": "stream",
     "text": [
      "1\n",
      "3\n",
      "5\n",
      "7\n",
      "9\n",
      "11\n",
      "13\n",
      "15\n",
      "17\n",
      "19\n",
      "21\n",
      "23\n",
      "25\n",
      "27\n",
      "29\n",
      "31\n",
      "33\n",
      "35\n",
      "37\n",
      "39\n",
      "41\n",
      "43\n",
      "45\n",
      "47\n",
      "49\n"
     ]
    }
   ],
   "source": [
    "for i in range(1,50,2):         # odd number by steps\n",
    "    print(i)"
   ]
  },
  {
   "cell_type": "code",
   "execution_count": 8,
   "metadata": {},
   "outputs": [
    {
     "name": "stdout",
     "output_type": "stream",
     "text": [
      "A\n",
      "h\n",
      "m\n",
      "e\n",
      "d\n",
      "A\n",
      "m\n",
      "b\n",
      "r\n",
      "e\n",
      "e\n",
      "n\n",
      "Loop Execution Completed.\n"
     ]
    }
   ],
   "source": [
    "name='Ahmed'   \n",
    "last='Ambreen'\n",
    "for char in name:\n",
    "    print(char)\n",
    "for char in last:\n",
    "        print(char)\n",
    "print(\"Loop Execution Completed.\")"
   ]
  },
  {
   "cell_type": "code",
   "execution_count": 9,
   "metadata": {},
   "outputs": [
    {
     "name": "stdout",
     "output_type": "stream",
     "text": [
      "Ahmed\n",
      "Ambreen\n",
      "Loop Execution Completed.\n"
     ]
    }
   ],
   "source": [
    "name=['Ahmed']            # this is called nested for loop (name inside the name)\n",
    "last=['Ambreen']\n",
    "for char in name:\n",
    "    print(char)\n",
    "for char in last:\n",
    "        print(char)\n",
    "print(\"Loop Execution Completed.\")             # this print is out of loop"
   ]
  },
  {
   "cell_type": "code",
   "execution_count": 11,
   "metadata": {},
   "outputs": [
    {
     "name": "stdout",
     "output_type": "stream",
     "text": [
      "5 * 1 = 5\n",
      "5 * 2 = 10\n",
      "5 * 3 = 15\n",
      "5 * 4 = 20\n",
      "5 * 5 = 25\n",
      "5 * 6 = 30\n",
      "5 * 7 = 35\n",
      "5 * 8 = 40\n",
      "5 * 9 = 45\n",
      "5 * 10 = 50\n"
     ]
    }
   ],
   "source": [
    "# 2*1=1 (number*i=number*i)\n",
    "number=int(input(\"Enter your desired number for 'Times of Table':\" ))     # this input is for any required number for \"times of table\"\n",
    "for i in range(1,11):\n",
    "    print(number,\"*\",i,\"=\",number*i)"
   ]
  },
  {
   "cell_type": "code",
   "execution_count": 12,
   "metadata": {},
   "outputs": [
    {
     "name": "stdout",
     "output_type": "stream",
     "text": [
      "5 * 0 = 0\n",
      "5 * 2 = 10\n",
      "5 * 4 = 20\n",
      "5 * 6 = 30\n",
      "5 * 8 = 40\n",
      "5 * 10 = 50\n"
     ]
    }
   ],
   "source": [
    "number=int(input(\"Enter your desired number for 'Times of Table':\" ))     # this input is for any required number for \"times of table\"\n",
    "for i in range(0,11,2):              # for even numbers use step\n",
    "    print(number,\"*\",i,\"=\",number*i)"
   ]
  },
  {
   "cell_type": "code",
   "execution_count": 13,
   "metadata": {},
   "outputs": [
    {
     "name": "stdout",
     "output_type": "stream",
     "text": [
      "6 * 1 = 6\n",
      "6 * 3 = 18\n",
      "6 * 5 = 30\n",
      "6 * 7 = 42\n",
      "6 * 9 = 54\n"
     ]
    }
   ],
   "source": [
    "number=int(input(\"Enter your desired number for 'Times of Table':\" ))     # this input is for any required number for \"times of table\"\n",
    "for i in range(1,11,2):              # for odd numbers use step\n",
    "    print(number,\"*\",i,\"=\",number*i)"
   ]
  },
  {
   "cell_type": "markdown",
   "metadata": {},
   "source": [
    "### Program- The current population of a town is 10000. the population of the town is increasing at the rate of 10% per year. You have to write a program to find out the population at the end of the last 10 years."
   ]
  },
  {
   "cell_type": "code",
   "execution_count": 15,
   "metadata": {},
   "outputs": [
    {
     "name": "stdout",
     "output_type": "stream",
     "text": [
      "1000.0\n",
      "The population in 2024 : 10000.0\n",
      "The population in 2023 : 9090.90909090909\n",
      "The population in 2022 : 8264.462809917353\n",
      "The population in 2021 : 7513.148009015775\n",
      "The population in 2020 : 6830.134553650703\n",
      "The population in 2019 : 6209.213230591548\n",
      "The population in 2018 : 5644.739300537771\n",
      "The population in 2017 : 5131.5811823070635\n",
      "The population in 2016 : 4665.07380209733\n",
      "The population in 2015 : 4240.976183724845\n"
     ]
    }
   ],
   "source": [
    "year=int(input(\"Enter your desired Year for Population:\"))\n",
    "population_of_a_town=10000\n",
    "\n",
    "population_of_a_town=float(input(\"Enter the Population of your Country: \"))\n",
    "print(population_of_a_town*10/100)\n",
    "for i in range(10):\n",
    "    print(\"The population in\",year,\":\",population_of_a_town)\n",
    "    population_of_a_town=population_of_a_town/1.1\n",
    "    year=year-1"
   ]
  },
  {
   "cell_type": "markdown",
   "metadata": {},
   "source": [
    "### Some more examples of percentage"
   ]
  },
  {
   "cell_type": "markdown",
   "metadata": {},
   "source": [
    "### The population of a village is 15000. If the population increased by 5% in a year, find the population after one year."
   ]
  },
  {
   "cell_type": "code",
   "execution_count": 16,
   "metadata": {},
   "outputs": [
    {
     "name": "stdout",
     "output_type": "stream",
     "text": [
      "750.0\n",
      "15750\n"
     ]
    }
   ],
   "source": [
    "print(15000*5/100)\n",
    "print(15000+750)"
   ]
  },
  {
   "cell_type": "markdown",
   "metadata": {},
   "source": [
    "#### now in for loop"
   ]
  },
  {
   "cell_type": "markdown",
   "metadata": {},
   "source": [
    "### The population of a village is 15000. If the population increased by 5% in a year, find the population after five years."
   ]
  },
  {
   "cell_type": "code",
   "execution_count": 17,
   "metadata": {},
   "outputs": [
    {
     "name": "stdout",
     "output_type": "stream",
     "text": [
      "750.0\n",
      "After one year: 15750\n",
      "The population in 2024 : 15000\n",
      "The population in 2025 : 15750.0\n",
      "The population in 2026 : 16537.5\n",
      "The population in 2027 : 17364.375\n",
      "The population in 2028 : 18232.59375\n"
     ]
    }
   ],
   "source": [
    "year=int(input(\"Enter your desired year: \"))\n",
    "population_of_a_village=float(input(\"Enter the population of a village: \"))\n",
    "\n",
    "village_population = 15000\n",
    "after_5_years=village_population*5/100\n",
    "print(after_5_years)\n",
    "print(\"After one year:\",village_population+750)\n",
    "for i in range(5):\n",
    "    print(\"The population in\",year,\":\",village_population)\n",
    "    village_population=village_population*1.05\n",
    "    year=year+1"
   ]
  },
  {
   "cell_type": "code",
   "execution_count": 18,
   "metadata": {},
   "outputs": [
    {
     "data": {
      "text/plain": [
       "6"
      ]
     },
     "execution_count": 18,
     "metadata": {},
     "output_type": "execute_result"
    }
   ],
   "source": [
    "import math\n",
    "math.factorial(3)         # FOR TAKING FACTORIAL OF ANY NUMBER FIRST IMPORT math library"
   ]
  },
  {
   "cell_type": "code",
   "execution_count": 19,
   "metadata": {},
   "outputs": [
    {
     "name": "stdout",
     "output_type": "stream",
     "text": [
      "result 1.0\n",
      "result 1.1\n",
      "result 1.1111111111111112\n",
      "result 1.1125\n",
      "result 1.1126984126984127\n"
     ]
    }
   ],
   "source": [
    "# factorial\n",
    "number= int(input(\"enter number\"))\n",
    "result=0\n",
    "fact=1\n",
    "for i in range(10,number,-1):                       #for reverse\n",
    "    fact=fact*i\n",
    "    result=result+i/fact\n",
    "    print(\"result\",result)"
   ]
  },
  {
   "cell_type": "code",
   "execution_count": 20,
   "metadata": {},
   "outputs": [
    {
     "name": "stdout",
     "output_type": "stream",
     "text": [
      "result 1.0\n",
      "result 2.0\n",
      "result 2.5\n",
      "result 2.6666666666666665\n",
      "result 2.708333333333333\n"
     ]
    }
   ],
   "source": [
    "number= int(input(\"enter number\"))\n",
    "result=0\n",
    "fact=1\n",
    "for i in range(1,number+1):                       # for positive\n",
    "    fact=fact*i\n",
    "    result=result+i/fact\n",
    "    print(\"result\",result)"
   ]
  },
  {
   "cell_type": "markdown",
   "metadata": {},
   "source": [
    "#### Nested loop of \"for\"\n",
    "in nested loop it is about raw and columns"
   ]
  },
  {
   "cell_type": "code",
   "execution_count": 21,
   "metadata": {},
   "outputs": [
    {
     "name": "stdout",
     "output_type": "stream",
     "text": [
      "1 1\n",
      "1 2\n",
      "1 3\n",
      "1 4\n",
      "2 1\n",
      "2 2\n",
      "2 3\n",
      "2 4\n",
      "3 1\n",
      "3 2\n",
      "3 3\n",
      "3 4\n",
      "4 1\n",
      "4 2\n",
      "4 3\n",
      "4 4\n"
     ]
    }
   ],
   "source": [
    "for i in range(1,5):\n",
    "    for j in range(1,5):\n",
    "        print(i,j)"
   ]
  },
  {
   "cell_type": "markdown",
   "metadata": {},
   "source": [
    "Whenever you pass single perameter_ argument in a range function that's always started from 0."
   ]
  },
  {
   "cell_type": "code",
   "execution_count": 22,
   "metadata": {},
   "outputs": [
    {
     "name": "stdout",
     "output_type": "stream",
     "text": [
      "range(0, 5)\n"
     ]
    }
   ],
   "source": [
    "print(range(5))"
   ]
  },
  {
   "cell_type": "code",
   "execution_count": 23,
   "metadata": {},
   "outputs": [
    {
     "name": "stdout",
     "output_type": "stream",
     "text": [
      "2 4\n",
      "2 5\n",
      "3 4\n",
      "3 5\n",
      "4 4\n",
      "4 5\n"
     ]
    }
   ],
   "source": [
    "for i in range(2,5):\n",
    "    for j in range(4,6):\n",
    "        print(i,j)"
   ]
  },
  {
   "cell_type": "code",
   "execution_count": 24,
   "metadata": {},
   "outputs": [
    {
     "name": "stdout",
     "output_type": "stream",
     "text": [
      "10\n",
      "9\n",
      "8\n",
      "7\n",
      "6\n",
      "5\n",
      "4\n",
      "3\n",
      "2\n"
     ]
    }
   ],
   "source": [
    "for i in range(10,1,-1):\n",
    "    print(i)                           # this is backward"
   ]
  },
  {
   "cell_type": "code",
   "execution_count": 25,
   "metadata": {},
   "outputs": [
    {
     "name": "stdout",
     "output_type": "stream",
     "text": [
      "10\n",
      "9\n",
      "8\n",
      "7\n",
      "6\n",
      "5\n",
      "4\n",
      "3\n",
      "2\n",
      "1\n",
      "0\n"
     ]
    }
   ],
   "source": [
    "for i in range(10,-1,-1):\n",
    "    print(i)                           # this is backward"
   ]
  },
  {
   "cell_type": "code",
   "execution_count": 26,
   "metadata": {},
   "outputs": [
    {
     "name": "stdout",
     "output_type": "stream",
     "text": [
      "range(10, -1, -1)\n"
     ]
    }
   ],
   "source": [
    "print(range(10,-1,-1))"
   ]
  },
  {
   "cell_type": "code",
   "execution_count": null,
   "metadata": {},
   "outputs": [],
   "source": [
    "name_list=[]            # two lists together in one loop\n",
    "last_name=[]\n",
    "for i in range(1,4):\n",
    "    name=input(\"Enter Student's Name:\\t\")\n",
    "    l_name=input(\"Enter Student's Last Name:\\t\")\n",
    "    name_list.append(name)\n",
    "    last_name.append(l_name)\n",
    "print(name_list)\n",
    "print(last_name)"
   ]
  },
  {
   "cell_type": "code",
   "execution_count": 28,
   "metadata": {},
   "outputs": [
    {
     "name": "stdout",
     "output_type": "stream",
     "text": [
      "Name\n",
      "Gender\n",
      "Age\n",
      "Designation\n"
     ]
    }
   ],
   "source": [
    "d={'Name':'Ambreen','Gender':'Female','Age':40,'Designation':'Student'}\n",
    "for name in d:\n",
    "    print(name)              # only for key/correct"
   ]
  },
  {
   "cell_type": "code",
   "execution_count": 29,
   "metadata": {},
   "outputs": [
    {
     "name": "stdout",
     "output_type": "stream",
     "text": [
      "Ambreen\n",
      "Female\n",
      "40\n",
      "Student\n"
     ]
    }
   ],
   "source": [
    "d2={'Name':'Ambreen','Gender':'Female','Age':40,'Designation':'Student'}\n",
    "for i in d2:\n",
    "    print(d2[i])       # it is without keys/coorect "
   ]
  },
  {
   "cell_type": "code",
   "execution_count": 30,
   "metadata": {},
   "outputs": [
    {
     "name": "stdout",
     "output_type": "stream",
     "text": [
      "Name : Ambreen\n",
      "Gender : Female\n",
      "Age : 40\n",
      "Designation : Student\n"
     ]
    }
   ],
   "source": [
    "d2={'Name':'Ambreen','Gender':'Female','Age':40,'Designation':'Student'}\n",
    "for i in d2:\n",
    "    print(i,\":\",d2[i])               # ab dono key & value chahiye. to [i] is indexing of value/correct"
   ]
  },
  {
   "cell_type": "markdown",
   "metadata": {},
   "source": [
    "Taking a sum of number list with loop.\\\n",
    "important point: \"Always initialize the sum to 0, because a sum of 0 can be added to any number during iteration.\""
   ]
  },
  {
   "cell_type": "code",
   "execution_count": 31,
   "metadata": {},
   "outputs": [
    {
     "name": "stdout",
     "output_type": "stream",
     "text": [
      "136\n"
     ]
    }
   ],
   "source": [
    "number=[34,47,0,55]\n",
    "sum=0                   # always initialize the sum to 0, because a sum of 0 can be added to any number during itration \n",
    "for i in number:\n",
    "    sum+=i            # sum = sum + i\n",
    "print(sum)"
   ]
  },
  {
   "cell_type": "code",
   "execution_count": 32,
   "metadata": {},
   "outputs": [
    {
     "name": "stdout",
     "output_type": "stream",
     "text": [
      "*\n",
      "**\n",
      "***\n",
      "******\n",
      "*********\n",
      "****\n",
      "***\n",
      "******\n",
      "*********\n"
     ]
    }
   ],
   "source": [
    "for i in range(1,2):\n",
    "    print(i*\"*\")\n",
    "    for j in range(1,3):\n",
    "        print(j*\"**\")\n",
    "        for k in range(1,4):\n",
    "            print(k*\"***\")                 # my work/ yhan apka kam ziyada multiply hota he"
   ]
  },
  {
   "cell_type": "code",
   "execution_count": 33,
   "metadata": {},
   "outputs": [
    {
     "name": "stdout",
     "output_type": "stream",
     "text": [
      "*\n",
      "**\n",
      "***\n",
      "****\n"
     ]
    }
   ],
   "source": [
    "for i in range(1,5):\n",
    "    print(i*\"*\") "
   ]
  },
  {
   "cell_type": "code",
   "execution_count": 34,
   "metadata": {},
   "outputs": [
    {
     "data": {
      "text/plain": [
       "'333'"
      ]
     },
     "execution_count": 34,
     "metadata": {},
     "output_type": "execute_result"
    }
   ],
   "source": [
    "#if you want to see your character then go for multiplication\n",
    "'&'*3                #desired time\n",
    "'3'*3"
   ]
  },
  {
   "cell_type": "code",
   "execution_count": 35,
   "metadata": {},
   "outputs": [
    {
     "name": "stdout",
     "output_type": "stream",
     "text": [
      "&\n",
      "&&\n",
      "&&&\n",
      "&&&&\n"
     ]
    }
   ],
   "source": [
    "rows=int(input(\"enter number of rows\"))\n",
    "\n",
    "for i in range(1,rows+1):\n",
    "    for j in range(1,i+1):\n",
    "        print('&',end='')\n",
    "    print()                                         # it will add one by one"
   ]
  },
  {
   "cell_type": "code",
   "execution_count": 36,
   "metadata": {},
   "outputs": [
    {
     "name": "stdout",
     "output_type": "stream",
     "text": [
      "&&\n",
      "&\n"
     ]
    }
   ],
   "source": [
    "rows=int(input(\"enter number of rows\"))\n",
    "\n",
    "for i in range(rows,0,-1):\n",
    "    for j in range(1,i+1):\n",
    "        print('&',end='')\n",
    "    print() "
   ]
  },
  {
   "cell_type": "code",
   "execution_count": 37,
   "metadata": {},
   "outputs": [
    {
     "name": "stdout",
     "output_type": "stream",
     "text": [
      "&\n",
      "&&\n",
      "&&&\n",
      "&&&&\n",
      "&&&&&\n",
      "&&&&&\n",
      "&&&&\n",
      "&&&\n",
      "&&\n",
      "&\n"
     ]
    }
   ],
   "source": [
    "rows=int(input(\"enter number of rows\"))\n",
    " \n",
    "for i in range(1,rows+1):\n",
    "    for j in range(1,i+1):\n",
    "        print('&',end='')\n",
    "    print() \n",
    "for i in range(rows,0,-1):\n",
    "    for j in range(1,i+1):\n",
    "        print('&',end='')\n",
    "    print() "
   ]
  },
  {
   "cell_type": "code",
   "execution_count": 38,
   "metadata": {},
   "outputs": [
    {
     "name": "stdout",
     "output_type": "stream",
     "text": [
      "&\n",
      "&&\n",
      "&&&\n",
      "&&&&\n",
      "&&&&\n",
      "&&&\n",
      "&&\n",
      "&\n"
     ]
    }
   ],
   "source": [
    "rows=int(input(\"enter number of rows\"))\n",
    "\n",
    "for i in range(1,rows+1):\n",
    "    for j in range(1,i+1):\n",
    "        print('&',end='')\n",
    "    print()                                    #dimond shap banana he it is incomplete\n",
    "for i in range(rows,0,-1):\n",
    "    for j in range(1,i+1):\n",
    "        print('&',end='')\n",
    "    print()"
   ]
  },
  {
   "cell_type": "markdown",
   "metadata": {},
   "source": [
    "pattern 2\\\n",
    "1\\\n",
    "121\\\n",
    "12321\\\n",
    "1234321"
   ]
  },
  {
   "cell_type": "code",
   "execution_count": 39,
   "metadata": {},
   "outputs": [
    {
     "name": "stdout",
     "output_type": "stream",
     "text": [
      "1\n",
      "121\n",
      "12321\n",
      "1234321\n",
      "123454321\n"
     ]
    }
   ],
   "source": [
    "rows=int(input(\"enter sequense\"))\n",
    "\n",
    "for i in range(1,rows+1):\n",
    "    for j in range(1,i+1):\n",
    "        print(j,end='')\n",
    "    for k in range(i-1,0,-1):\n",
    "            print(k,end='')      \n",
    "    print()"
   ]
  }
 ],
 "metadata": {
  "kernelspec": {
   "display_name": "Python 3",
   "language": "python",
   "name": "python3"
  },
  "language_info": {
   "codemirror_mode": {
    "name": "ipython",
    "version": 3
   },
   "file_extension": ".py",
   "mimetype": "text/x-python",
   "name": "python",
   "nbconvert_exporter": "python",
   "pygments_lexer": "ipython3",
   "version": "3.12.1"
  }
 },
 "nbformat": 4,
 "nbformat_minor": 2
}
