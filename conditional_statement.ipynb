{
 "cells": [
  {
   "cell_type": "markdown",
   "metadata": {},
   "source": [
    "## Conditional Statement: (Statements carry Conditions, Indentations, Branching Concepts, if-elif-else)\n",
    "#### A conditional statement in Python is a feature that allows you to execute certain blocks of code based on whether a specified condition is true or false. The most common conditional statements are if, elif, and else.\n",
    "\n",
    "### Branches in a conditional statement refer to the different paths of execution that the program can take based on the evaluation of conditions. Each branch corresponds to a specific condition and defines what action to take if that condition is met.\n",
    "\n",
    "## Types of Branches:\n",
    "### If Branch: The initial condition that is checked. If this condition is true, the code block under it is executed.\n",
    "#### if condition:\n",
    "         # Statement\n",
    "### Elif Branch: Short for \"else if,\" this branch allows you to check additional conditions if the previous if condition was false. You can have multiple elif branches.\n",
    "\n",
    "#### elif another_condition:\n",
    "          # Statement\n",
    "### Else Branch: This branch executes if none of the preceding if or elif conditions are true. It acts as a catch-all\n",
    "          # print"
   ]
  },
  {
   "cell_type": "code",
   "execution_count": 46,
   "metadata": {},
   "outputs": [
    {
     "name": "stdout",
     "output_type": "stream",
     "text": [
      "The number is positive.\n"
     ]
    }
   ],
   "source": [
    "# identify a nature of a number is +ve, Zero, -ve entered by a user\n",
    "number=int(input(\"Enter your Number\"))\n",
    "if number>0:\n",
    "       print(\"The number is positive.\")\n",
    "elif number<0:\n",
    "    print(\"The number is negative.\")\n",
    "else:\n",
    "   print(\"Your number is Zero.\")              # correct code"
   ]
  },
  {
   "cell_type": "markdown",
   "metadata": {},
   "source": [
    "# It is called nested if condition:"
   ]
  },
  {
   "cell_type": "markdown",
   "metadata": {},
   "source": [
    "[ To restrict the user to input only digits, with .isdigit( ) ]"
   ]
  },
  {
   "cell_type": "code",
   "execution_count": 43,
   "metadata": {},
   "outputs": [
    {
     "name": "stdout",
     "output_type": "stream",
     "text": [
      "That's perfect Number.\n"
     ]
    }
   ],
   "source": [
    "# 1. [user_input=input(\"Enter a number:\")]     This line checks if the input is a valid number.\n",
    "# 2. [user_input.replace(\".\", \"\")]             removes any decimal point, allowing the check to work for floating-point numbers (though it will still be treated as a string).\n",
    "# 3. [.isdigit()]                              checks if the remaining characters are all digits. If true, it means the input is a valid integer or a float without considering the decimal point\n",
    "\n",
    "user_input=input(\"Enter a number:\") \n",
    "            \n",
    "if user_input.replace(\"-\", \"\").replace(\"+\", \"\").replace(\".\", \"\").isdigit():      # check if input is a digit\n",
    "    num = float(user_input)                                 \n",
    "    if num > 50:              \n",
    "        print(\"That is Correct Number.\") \n",
    "    elif num < 30:            \n",
    "        print(\"Please try again.\")       \n",
    "    else:                               \n",
    "        print(\"That's perfect Number.\")  \n",
    "else:\n",
    "    print(\"Enter a valid Number.\")                                            # correct code"
   ]
  },
  {
   "cell_type": "markdown",
   "metadata": {},
   "source": [
    "Make sure that you meet the age criteria for the online admission form."
   ]
  },
  {
   "cell_type": "code",
   "execution_count": 11,
   "metadata": {},
   "outputs": [
    {
     "name": "stdout",
     "output_type": "stream",
     "text": [
      "Enter a valid Number.\n"
     ]
    }
   ],
   "source": [
    "user_age=input(\"Enter your age for admission in Bachlor's from NED University:\") \n",
    "            \n",
    "if user_age.replace(\".\",\"\").isdigit():      # check if input is a digit\n",
    "    age= float (user_age)                    # Convert input to float            \n",
    "    if age >= 19:              \n",
    "        print(\"That is Required age for Bachlor's:\",user_age) \n",
    "    elif age > 30:            \n",
    "        print(\"Please try for Master's.\")       \n",
    "    else:                               \n",
    "        print(\"That's not perfect age,You are in Intermidiat:\",user_age)  \n",
    "else:\n",
    "    print(\"Enter a valid Number.\")                                     # correct code"
   ]
  },
  {
   "cell_type": "markdown",
   "metadata": {},
   "source": [
    "Shop for shirts online at your desired reasonable price."
   ]
  },
  {
   "cell_type": "code",
   "execution_count": 12,
   "metadata": {},
   "outputs": [
    {
     "name": "stdout",
     "output_type": "stream",
     "text": [
      "The Price is too high.\n"
     ]
    }
   ],
   "source": [
    "user_price = input(\"Enter your desired Price of Shirt: \")\n",
    "\n",
    "if user_price.replace(\".\", \"\").isdigit():  # Check if input is a digit\n",
    "    shirt_price= float(user_price)         # Convert input to float\n",
    "    if shirt_price < 500:\n",
    "        print(\"The Price is too low.\")\n",
    "    elif 500 <= shirt_price <= 1000:\n",
    "        print(\"That's a reasonable Price.\")\n",
    "    else:\n",
    "        print(\"The Price is too high.\")\n",
    "else:\n",
    "    print(\"Enter a valid Price and get your shirt easily.\")                     # correct code"
   ]
  },
  {
   "cell_type": "markdown",
   "metadata": {},
   "source": [
    "# All 3 above programs are correct\n",
    "There are many other functions in the place of . isdigit( ) , like . isnumeric( ) , . isdecimal( ) , . isalnum( )    -for alphanumerics."
   ]
  },
  {
   "cell_type": "code",
   "execution_count": 9,
   "metadata": {},
   "outputs": [
    {
     "name": "stdout",
     "output_type": "stream",
     "text": [
      "String is numeric: 5478\n"
     ]
    }
   ],
   "source": [
    "# Using str.isnumeric():\n",
    "s = input(\"Enter your variable.\")\n",
    "if s.isnumeric():\n",
    "    print(\"String is numeric:\",s)\n",
    "else:\n",
    "    print(\"This is not numeric variable:\",s)              # correct code"
   ]
  },
  {
   "cell_type": "code",
   "execution_count": 29,
   "metadata": {},
   "outputs": [
    {
     "name": "stdout",
     "output_type": "stream",
     "text": [
      "String is decimal 585896.0\n"
     ]
    }
   ],
   "source": [
    "s= input(\"Enter any number.\")\n",
    "if s.isdecimal():\n",
    "    deci= float(s)\n",
    "    print(\"String is decimal\", deci)\n",
    "else:\n",
    "    print(\"Your input is not Decimal:\",s)            # correct code"
   ]
  },
  {
   "cell_type": "code",
   "execution_count": 36,
   "metadata": {},
   "outputs": [
    {
     "name": "stdout",
     "output_type": "stream",
     "text": [
      "Please try again your Passcode is not Alpha Numeric: -55ffff\n"
     ]
    }
   ],
   "source": [
    "str_num=input(\"Enter your Alpha Numeric Password:\")\n",
    "if str_num.isalnum():\n",
    "    print(\"Your passcode is alphanumeric:\",str_num)\n",
    "else:\n",
    "    print(\"Please try again your Passcode is not Alpha Numeric:\",str_num)               # correct code"
   ]
  },
  {
   "cell_type": "markdown",
   "metadata": {},
   "source": [
    "All above programs are working."
   ]
  },
  {
   "cell_type": "markdown",
   "metadata": {},
   "source": [
    "### Now an other:\n",
    "### Choose your dress for the office throughout the week."
   ]
  },
  {
   "cell_type": "code",
   "execution_count": 1,
   "metadata": {},
   "outputs": [
    {
     "name": "stdout",
     "output_type": "stream",
     "text": [
      "today weaar Pant shirt with tie\n"
     ]
    }
   ],
   "source": [
    "friday=\"white kurta\"\n",
    "monday=\"Pant shirt with tie\"\n",
    "wednesday=\"T-shirt\"\n",
    "\n",
    "user_input=input('Enter your day.')\n",
    "if user_input== \"friday\":\n",
    "    print(\"today weaar\", friday)\n",
    "elif user_input== \"monday\":\n",
    "    print(\"today weaar\", monday)\n",
    "elif user_input== \"wednesday\":\n",
    "    print(\"today wear\" , wednesday)\n",
    "else:\n",
    "    print('enter day in _ _ _ format')                      # correct code"
   ]
  },
  {
   "cell_type": "markdown",
   "metadata": {},
   "source": [
    "### User Login with email and Password"
   ]
  },
  {
   "cell_type": "code",
   "execution_count": 6,
   "metadata": {},
   "outputs": [
    {
     "name": "stdout",
     "output_type": "stream",
     "text": [
      "Incorrect password:\t 123df\n"
     ]
    }
   ],
   "source": [
    "# (simple program) user login name and password\n",
    "username='ambreen@gmail.com'\n",
    "password='123ab'\n",
    "\n",
    "username=input(\"Enter your Email\")\n",
    "password=input(\"Enter your password\")\n",
    "if username == 'ambreen@gmail.com' and password == '123ab':\n",
    "    print(\"Welcome to Gmail\")\n",
    "else:\n",
    "    print(\"Incorrect password:\\t\",password)                          # correct code"
   ]
  },
  {
   "cell_type": "markdown",
   "metadata": {},
   "source": [
    "#### (2nd program)user login name and password"
   ]
  },
  {
   "cell_type": "code",
   "execution_count": 20,
   "metadata": {},
   "outputs": [
    {
     "name": "stdout",
     "output_type": "stream",
     "text": [
      "Your Email ID and Password are incorrect !\n"
     ]
    }
   ],
   "source": [
    "# (2nd program)user login name and password\n",
    "username = 'ambreen@gmail.com'\n",
    "password = '123ab'\n",
    "\n",
    "username = input(\"Enter your Email\")\n",
    "password = input(\"Enter your password\")\n",
    "if username == 'ambreen@gmail.com' and password =='123ab':\n",
    "    print(\"Welcome to Gmail\")\n",
    "    if password != '123ab':\n",
    "        print(\"Please Enter your correct Passcode:\\t\",password)\n",
    "    elif username != 'ambreen@gmail.com':\n",
    "        print(\"Your email is incorrect:\\t\", username)\n",
    "else:\n",
    "    print(\"Your Email ID and Password are incorrect !\")                   # correct code"
   ]
  },
  {
   "cell_type": "markdown",
   "metadata": {},
   "source": [
    "Provide an option to re-enter the password if it is incorrect a second time.\\\n",
    "Guided by Sir Sajid Majeed."
   ]
  },
  {
   "cell_type": "code",
   "execution_count": 35,
   "metadata": {},
   "outputs": [
    {
     "name": "stdout",
     "output_type": "stream",
     "text": [
      "Incorrect E-mail ID: abda@gmail.com   and Password: 46sd . That's why your account is blocked.\n"
     ]
    }
   ],
   "source": [
    "username=input(\"Enter your E-mail Adress: \")\n",
    "passcode=input(\"Enter your Passcode: \")\n",
    "\n",
    "if username == 'abida@gmail.com' and passcode == '123ab':\n",
    "    print(\"Welcome to your gmail account.\")\n",
    "elif username == 'abida@gmail.com' and passcode != '123ab':\n",
    "    print(\"Re Enter your password:\\t\",passcode)\n",
    "    passcode = input(\"Enter your Password again!\")\n",
    "    if passcode == '123ab':\n",
    "        print(\"welcome to your gmail account after second attempt: \",passcode)\n",
    "    else:\n",
    "        print(\"You have not Enter correct password. Sorry!:\\t\",passcode)\n",
    "else:\n",
    "    print(\"Incorrect E-mail ID:\",  username,\"  and Password:\", passcode, \". That's why your account is blocked.\")             # correct code"
   ]
  },
  {
   "cell_type": "markdown",
   "metadata": {},
   "source": [
    "take out smallest number from user input\\\n",
    "take out greatest or largest number from userinput."
   ]
  },
  {
   "cell_type": "code",
   "execution_count": 49,
   "metadata": {},
   "outputs": [
    {
     "name": "stdout",
     "output_type": "stream",
     "text": [
      "Number3 is Smallest: 600\n"
     ]
    }
   ],
   "source": [
    "number1=int(input(\"Enter your Number1:\"))\n",
    "number2=int(input(\"Enter your 2nd Number2:\"))\n",
    "number3=int(input(\"Enter your 3rd Number3:\"))\n",
    "if number1<number2 and number1<number3:\n",
    "    print(\"Number1 is Smallest:\\t\",number1)\n",
    "elif number2< number3:\n",
    "    print(\"Number2 is Smallest\",number2)\n",
    "else:\n",
    "    print(\"Number3 is Smallest:\", number3)               # correct code"
   ]
  },
  {
   "cell_type": "code",
   "execution_count": 51,
   "metadata": {},
   "outputs": [
    {
     "name": "stdout",
     "output_type": "stream",
     "text": [
      "Number3 is Greater: 600\n"
     ]
    }
   ],
   "source": [
    "number1=int(input(\"Enter your Number1:\"))\n",
    "number2=int(input(\"Enter your 2nd Number2:\"))\n",
    "number3=int(input(\"Enter your 3rd Number3:\"))\n",
    "if number1 > number2 and number1 > number3:\n",
    "    print(\"Number1 is Greater:\\t\",number1)\n",
    "elif number2 > number3:\n",
    "    print(\"Number2 is Greater\",number2)\n",
    "else:\n",
    "    print(\"Number3 is Greater:\", number3)                   # correct code"
   ]
  },
  {
   "cell_type": "markdown",
   "metadata": {},
   "source": [
    "### Calculate the Electricity bill, we must understand Electricity Charges and Rates:\n",
    "1- 100 unit -1.5/=\\\n",
    "101-200 unit - 2.5/=\\\n",
    "201 - 300 unit - 4/=\\\n",
    "300 -250 unit - 5/=\\\n",
    "above 300 - fixed charge 1500/=\\\n",
    "Additional charges\\\n",
    "if units<=100 -25.00\\\n",
    "if 100 < units and units<= 200 - 50.00\\\n",
    "if 200 < units and units<=300-75.00\\\n",
    "if 300 < units and units <=350 - 100.0\\\n",
    "if units above 350 - No additional charges"
   ]
  },
  {
   "cell_type": "code",
   "execution_count": 56,
   "metadata": {},
   "outputs": [
    {
     "name": "stdout",
     "output_type": "stream",
     "text": [
      "145.0\n"
     ]
    }
   ],
   "source": [
    "units = int(input(\"Please Enter Units\"))\n",
    "\n",
    "if  units <= 100:\n",
    "    print((units*1.5)+25)\n",
    "elif units < 200:\n",
    "    print((100*1.5)+((units-100)*2.5)+25)\n",
    "elif units < 300:\n",
    "     print((100*1.5)+((units-100)*2.5)+((units-200)*4)+50)\n",
    "elif units < 350:\n",
    "     print((100*1.5)+((units-100)*2.5)+((units-200)*4)+((units-300)*5)+100)\n",
    "else:\n",
    "    print(\"Fixed bill\",1500)                                   # correct code"
   ]
  },
  {
   "cell_type": "markdown",
   "metadata": {},
   "source": [
    "#### program guided by Sir Sajid Majeed"
   ]
  },
  {
   "cell_type": "code",
   "execution_count": 61,
   "metadata": {},
   "outputs": [
    {
     "name": "stdout",
     "output_type": "stream",
     "text": [
      "Electricity Bill:\t 1500.0\n"
     ]
    }
   ],
   "source": [
    "units=int(input(\"Please Enter the number of units you consumed in a Month: \"))\n",
    "if(units<=100):\n",
    "    payAmount=units*1.5\n",
    "    fixedcharge=25.00\n",
    "elif(units<=200):\n",
    "    payAmount=(100*1.5)+(units-100)*2.5\n",
    "    fixedcharge=50.00\n",
    "elif(units<=300):\n",
    "    payAmount=(100*1.5)+(200-100)*2.5+(units-200)*4\n",
    "    fixedcharge=75.00\n",
    "elif(units<=350):\n",
    "    payAmount=(100*1.5)+(200-100)*2.5+(300-200)*4+(units-300)*5\n",
    "    fixedcharge=100.00\n",
    "else:\n",
    "    payAmount=0\n",
    "    fixedcharge=1500.00\n",
    "    \n",
    "Total=payAmount+fixedcharge\n",
    "print(\"Electricity Bill:\\t\", Total)             # correct code"
   ]
  },
  {
   "cell_type": "markdown",
   "metadata": {},
   "source": [
    "### Calculate the numbers\n",
    "#### Guided by Sir Sajid Majeed"
   ]
  },
  {
   "cell_type": "code",
   "execution_count": 19,
   "metadata": {},
   "outputs": [
    {
     "name": "stdout",
     "output_type": "stream",
     "text": [
      "The Floor Division of 55.0 and 10.0 is:\t 5.0\n"
     ]
    }
   ],
   "source": [
    "# This calculator is guided by sir Sajid Majeed\n",
    "option= input ('''\n",
    "1. Addition\n",
    "2. Subtraction\n",
    "3. Product\n",
    "4. Division\n",
    "5. Remainder\n",
    "6. Power of\n",
    "7. Floor division\n",
    "''')\n",
    "number1= float(input(\"Enter any first NUmber:\"))\n",
    "number2= float(input(\"Enter any second Number:\"))\n",
    "if option=='1':\n",
    "    print(\"The Addition of \",number1,\"and\",number2, \"is: \\t\", number1+number2)\n",
    "elif option=='2':\n",
    "    print(\"The Difference of Subtraction\",number1, \"and\", number2, \"is: \\t\",number1-number2)\n",
    "elif option=='3':\n",
    "    print(\"The Product of Multiplication\",number1,\"and\",number2, \"is:\\t\",number1*number2)\n",
    "elif option=='4':\n",
    "    print(\"The Division of\",number1, \"and\", number2,\"is:\\t\",number1/number2)\n",
    "elif option=='5':\n",
    "    print(\"The Remaider of\",number1,\"and\",number2,\"is:\\t\",number1%number2)\n",
    "elif option=='6':\n",
    "    print(\"The Power of\",number1,\"and\",number2,\"is:\\t\",number1**number2)\n",
    "elif option=='7':\n",
    "    print(\"The Floor Division of\",number1,\"and\",number2,\"is:\\t\",number1//number2)\n",
    "else:\n",
    "    print(\"Kindly Enter a valid Number..\")            # correct code"
   ]
  },
  {
   "cell_type": "markdown",
   "metadata": {},
   "source": [
    "### Car Price aand tax:\n",
    "car_cost= 5 lac,tax -> 5 %\\\n",
    "car_cost= 6 laac to 10 lac, tax -> 10 %\\\n",
    "car_cost= 11 lac to 20 lac, tax -> 20 %\\\n",
    "car_cosst= 30 lac to 40 lac, tax -> 25 %\\\n",
    "car_cost= 40 lac to 50 lac, tax -> 30 %\\\n",
    "car_cost= 1 cr to 2 cr, tax-> 45 %\\\n",
    "car > 2 cr, tax -> 50 %"
   ]
  },
  {
   "cell_type": "code",
   "execution_count": 58,
   "metadata": {},
   "outputs": [
    {
     "name": "stdout",
     "output_type": "stream",
     "text": [
      "2400000.0\n"
     ]
    }
   ],
   "source": [
    "carprice = int(input(\"Please Enter your Car_Price:\\t\"))\n",
    "\n",
    "if  carprice <= 500000:\n",
    "    print(((carprice*5)/100)+carprice)\n",
    "elif carprice <= 1000000:\n",
    "    print((carprice*10/100)+carprice)\n",
    "elif carprice <= 2000000:\n",
    "     print((carprice*20/100)+carprice)\n",
    "elif carprice <= 3000000 and carprice <= 4000000:\n",
    "     print((carprice*25/100)+carprice)\n",
    "elif carprice <= 4000000 and carprice >= 5000000:\n",
    "     print((carprice*30/100)+carprice)\n",
    "elif carprice <= 100000000:\n",
    "     print((carprice*45/100)+carprice)\n",
    "elif carprice >=200000000:\n",
    "     print((carprice*50/100)+carprice)\n",
    "else:\n",
    "     print(\"Enter the valid number...\")              # correct code"
   ]
  },
  {
   "cell_type": "markdown",
   "metadata": {},
   "source": [
    "#### Take 6 subjects marks each subject marks is 100 from Teacher and calculate obtained marks amd percentage of a student and then assign a Grade to student on the basis of the given criteria below:\n",
    "A: 90 and Above\\\n",
    "B: between 80 and 89\\\n",
    "C: between 70 and 79\\\n",
    "D: between 60 and 69\\\n",
    "F: below 60\n",
    "\n",
    "\n",
    "output:\\\n",
    "print Obtained\\\n",
    "print percentage\\\n",
    "print Grade"
   ]
  },
  {
   "cell_type": "markdown",
   "metadata": {},
   "source": [
    "### School Subject Marksheet: (Complete)"
   ]
  },
  {
   "cell_type": "code",
   "execution_count": 31,
   "metadata": {},
   "outputs": [
    {
     "name": "stdout",
     "output_type": "stream",
     "text": [
      "Obtasined marks are 78.0 percentage is  13.0 Grade is D\n"
     ]
    }
   ],
   "source": [
    "s1= float(input(\"Enter marks of English\"))\n",
    "s2= float(input(\"Enter marks of Science\"))\n",
    "s3= float(input(\"Enter marks of Social Studies\"))\n",
    "s4= float(input(\"Enter marks of Islamiat\"))\n",
    "s5= float(input(\"Enter marks of Urdu\"))\n",
    "s6= float(input(\"Enter marks of History\"))\n",
    "totalmarks=600\n",
    "obtainedmarks=s1+s2+s3+s4+s5+s6\n",
    "per = (obtainedmarks*100)/totalmarks\n",
    "\n",
    "if per < 60 and per <= 69:\n",
    "    print(\"Obtasined marks are\",obtainedmarks,\"percentage is \",per,\"Grade is D\")\n",
    "elif per <= 79:\n",
    "    print(\"Obtasined marks are\",obtainedmarks,\"percentage is \",per,\"Grade is C\")\n",
    "elif per <= 89:\n",
    "    print(\"Obtasined marks are\",obtainedmarks,\"percentage is \",per,\"Grade is B\")\n",
    "elif per > 89:\n",
    "    print(\"Obtasined marks are\",obtainedmarks,\"percentage is \",per,\"Grade is A\")\n",
    "else:\n",
    "    print(\"Obtasined marks are\",obtainedmarks,\"percentage is \",per,\"Grade is F\")            # correct code"
   ]
  },
  {
   "cell_type": "markdown",
   "metadata": {},
   "source": [
    "### An other Mark sheet"
   ]
  },
  {
   "cell_type": "markdown",
   "metadata": {},
   "source": [
    "### Marks / Grades Sheet\n",
    "Subjects:   Total marks\n",
    "Social Science  = 100\n",
    "English         = 100\n",
    "Urdu            = 100\n",
    "Maths           = 100\n",
    "Chemistry       = 100\n",
    "Physics         = 100\n",
    "\n",
    "Total Marks     = 600\n",
    "\n",
    "Grade A    : 90% and Above\n",
    "Grade B    : 80%  to 89 %\n",
    "Grade C    : 70%  to 79 %\n",
    "Grade D    : 60%  to 69 %\n",
    "Grade Fail : Below 60 %\n",
    "\n",
    "\n",
    "Outputs Required :\n",
    "Print Obtained Marks\n",
    "Print total percentage Obtained\n",
    "Print Grade Achieved"
   ]
  },
  {
   "cell_type": "code",
   "execution_count": 4,
   "metadata": {},
   "outputs": [
    {
     "name": "stdout",
     "output_type": "stream",
     "text": [
      " \n",
      "______________ Marks Sheet ___________________________\n",
      "Social Studies -  88.0 Marks out of   100 Marks \n",
      "English - - -  -  84.0 Marks out of   100 Marks \n",
      "Urdu - - -  -  -  56.0 Marks out of   100 Marks \n",
      "Maths - - -  - -  252.0 Marks out of   100 Marks \n",
      "Chemistry - - -   53.0 Marks out of   100 Marks \n",
      "Physics - - -  -  66.0 Marks out of   100 Marks \n",
      "______________________________________________________\n",
      "Obtained Marks - 599.0 Marks out of   600 Marks \n",
      " \n",
      "You Obtained \"A\" Grade.. Congratulations \n",
      "\n"
     ]
    }
   ],
   "source": [
    "S_S  = float (input(\" Enter Social Studies Marks , \"))\n",
    "Eng  = float (input(\" Enter English Marks , \"))\n",
    "Urd  = float (input(\" Enter Urdu Marks , \"))\n",
    "Math = float (input(\" Enter Maths Marks , \"))\n",
    "Chem = float (input(\" Enter Chemistry Marks , \"))\n",
    "Phy  = float (input(\" Enter Physics Marks , \"))\n",
    "\n",
    "O_Marks = S_S+Eng+Urd+Math+Chem+Phy\n",
    "T_Marks = 600\n",
    "\n",
    "O_Grade = float( O_Marks / T_Marks)\n",
    "\n",
    "A = 0.90\n",
    "B = 0.80\n",
    "C = 0.70\n",
    "D = 0.60\n",
    "Fail = 0.59\n",
    "print (\" \")\n",
    "print (\"______________ Marks Sheet ___________________________\")\n",
    "\n",
    "print (\"Social Studies - \" , S_S  , \"Marks out of   100 Marks \")\n",
    "print (\"English - - -  - \" , Eng  , \"Marks out of   100 Marks \")\n",
    "print (\"Urdu - - -  -  - \" , Urd  , \"Marks out of   100 Marks \")\n",
    "print (\"Maths - - -  - - \" , Math , \"Marks out of   100 Marks \")\n",
    "print (\"Chemistry - - -  \" , Chem , \"Marks out of   100 Marks \")\n",
    "print (\"Physics - - -  - \" , Phy  , \"Marks out of   100 Marks \")\n",
    "print (\"______________________________________________________\")\n",
    "print (\"Obtained Marks -\" , (O_Marks) , \"Marks out of   600 Marks \")\n",
    "print (\" \")\n",
    "\n",
    "if O_Grade > A: \n",
    "    print ('You Obtained \"A\" Grade.. Congratulations ' ),\n",
    "if O_Grade > B and O_Grade < A: \n",
    "    print ('You Obtained \"B\" Grade.. Congratulations ' ),\n",
    "if O_Grade > C and O_Grade < B: \n",
    "    print ('You Obtained \"C\" Grade.. Congratulations ' ),    \n",
    "if O_Grade > D and O_Grade < C: \n",
    "    print ('You Obtained \"D\" Grade.. Congratulations ' ),    \n",
    "if O_Grade < D : \n",
    "    print ('You are Declared as Fail. We are sorry we can not promot you to Next class.' ),\n",
    "else:\n",
    "   print (\"\")                         # correct code"
   ]
  },
  {
   "cell_type": "code",
   "execution_count": 10,
   "metadata": {},
   "outputs": [
    {
     "name": "stdout",
     "output_type": "stream",
     "text": [
      "['Ahmed', 'Talib', 'Wahab']\n",
      "['Sajid', 'Majeed', 'Mir']\n"
     ]
    }
   ],
   "source": [
    "name_list=[]            # two lists together in one loop\n",
    "last_name=[]\n",
    "for i in range(1,4):\n",
    "    name=input(\"Enter Student's Name:\\t\")\n",
    "    l_name=input(\"Enter Student's Last Name:\\t\")\n",
    "    name_list.append(name)\n",
    "    last_name.append(l_name)\n",
    "print(name_list)\n",
    "print(last_name)"
   ]
  },
  {
   "cell_type": "markdown",
   "metadata": {},
   "source": [
    "taking palindrome"
   ]
  },
  {
   "cell_type": "code",
   "execution_count": 6,
   "metadata": {},
   "outputs": [
    {
     "name": "stdout",
     "output_type": "stream",
     "text": [
      "mom :\tPalindrome\n"
     ]
    }
   ],
   "source": [
    "word= input(\"Enter any word:\\t\")\n",
    "if word[::-1]==word:\n",
    "    print(word,\":\\tPalindrome\")\n",
    "else:\n",
    "    print(word,\":\\tNot a palindrome..\")"
   ]
  }
 ],
 "metadata": {
  "kernelspec": {
   "display_name": "Python 3",
   "language": "python",
   "name": "python3"
  },
  "language_info": {
   "codemirror_mode": {
    "name": "ipython",
    "version": 3
   },
   "file_extension": ".py",
   "mimetype": "text/x-python",
   "name": "python",
   "nbconvert_exporter": "python",
   "pygments_lexer": "ipython3",
   "version": "3.12.1"
  }
 },
 "nbformat": 4,
 "nbformat_minor": 2
}
