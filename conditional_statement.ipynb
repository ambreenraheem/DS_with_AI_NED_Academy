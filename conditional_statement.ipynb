{
 "cells": [
  {
   "cell_type": "markdown",
   "metadata": {},
   "source": [
    "## Conditional Statement: (Statements carry Conditions, Indentations, Branching Concepts, if-elif-else)\n",
    "#### A conditional statement in Python is a feature that allows you to execute certain blocks of code based on whether a specified condition is true or false. The most common conditional statements are if, elif, and else.\n",
    "\n",
    "### Branches in a conditional statement refer to the different paths of execution that the program can take based on the evaluation of conditions. Each branch corresponds to a specific condition and defines what action to take if that condition is met.\n",
    "\n",
    "## Types of Branches:\n",
    "### If Branch: The initial condition that is checked. If this condition is true, the code block under it is executed.\n",
    "#### if condition:\n",
    "         # Statement\n",
    "### Elif Branch: Short for \"else if,\" this branch allows you to check additional conditions if the previous if condition was false. You can have multiple elif branches.\n",
    "\n",
    "#### elif another_condition:\n",
    "          # Statement\n",
    "### Else Branch: This branch executes if none of the preceding if or elif conditions are true. It acts as a catch-all\n",
    "          # print"
   ]
  },
  {
   "cell_type": "code",
   "execution_count": 46,
   "metadata": {},
   "outputs": [
    {
     "name": "stdout",
     "output_type": "stream",
     "text": [
      "The number is positive.\n"
     ]
    }
   ],
   "source": [
    "# identify a nature of a number is +ve, Zero, -ve entered by a user\n",
    "number=int(input(\"Enter your Number\"))\n",
    "if number>0:\n",
    "       print(\"The number is positive.\")\n",
    "elif number<0:\n",
    "    print(\"The number is negative.\")\n",
    "else:\n",
    "   print(\"Your number is Zero.\")"
   ]
  },
  {
   "cell_type": "markdown",
   "metadata": {},
   "source": [
    "# It is called nested if condition:"
   ]
  },
  {
   "cell_type": "markdown",
   "metadata": {},
   "source": [
    "[ To restrict the user to input only digits, with .isdigit( ) ]"
   ]
  },
  {
   "cell_type": "code",
   "execution_count": 43,
   "metadata": {},
   "outputs": [
    {
     "name": "stdout",
     "output_type": "stream",
     "text": [
      "That's perfect Number.\n"
     ]
    }
   ],
   "source": [
    "# 1. [user_input=input(\"Enter a number:\")]     This line checks if the input is a valid number.\n",
    "# 2. [user_input.replace(\".\", \"\")]             removes any decimal point, allowing the check to work for floating-point numbers (though it will still be treated as a string).\n",
    "# 3. [.isdigit()]                              checks if the remaining characters are all digits. If true, it means the input is a valid integer or a float without considering the decimal point\n",
    "\n",
    "user_input=input(\"Enter a number:\") \n",
    "            \n",
    "if user_input.replace(\"-\", \"\").replace(\"+\", \"\").replace(\".\", \"\").isdigit():      # check if input is a digit\n",
    "    num = float(user_input)                                 \n",
    "    if num > 50:              \n",
    "        print(\"That is Correct Number.\") \n",
    "    elif num < 30:            \n",
    "        print(\"Please try again.\")       \n",
    "    else:                               \n",
    "        print(\"That's perfect Number.\")  \n",
    "else:\n",
    "    print(\"Enter a valid Number.\")"
   ]
  },
  {
   "cell_type": "markdown",
   "metadata": {},
   "source": [
    "Make sure that you meet the age criteria for the online admission form."
   ]
  },
  {
   "cell_type": "code",
   "execution_count": 11,
   "metadata": {},
   "outputs": [
    {
     "name": "stdout",
     "output_type": "stream",
     "text": [
      "Enter a valid Number.\n"
     ]
    }
   ],
   "source": [
    "user_age=input(\"Enter your age for admission in Bachlor's from NED University:\") \n",
    "            \n",
    "if user_age.replace(\".\",\"\").isdigit():      # check if input is a digit\n",
    "    age= float (user_age)                    # Convert input to float            \n",
    "    if age >= 19:              \n",
    "        print(\"That is Required age for Bachlor's:\",user_age) \n",
    "    elif age > 30:            \n",
    "        print(\"Please try for Master's.\")       \n",
    "    else:                               \n",
    "        print(\"That's not perfect age,You are in Intermidiat:\",user_age)  \n",
    "else:\n",
    "    print(\"Enter a valid Number.\")"
   ]
  },
  {
   "cell_type": "markdown",
   "metadata": {},
   "source": [
    "Shop for shirts online at your desired reasonable price."
   ]
  },
  {
   "cell_type": "code",
   "execution_count": 12,
   "metadata": {},
   "outputs": [
    {
     "name": "stdout",
     "output_type": "stream",
     "text": [
      "The Price is too high.\n"
     ]
    }
   ],
   "source": [
    "user_price = input(\"Enter your desired Price of Shirt: \")\n",
    "\n",
    "if user_price.replace(\".\", \"\").isdigit():  # Check if input is a digit\n",
    "    shirt_price= float(user_price)         # Convert input to float\n",
    "    if shirt_price < 500:\n",
    "        print(\"The Price is too low.\")\n",
    "    elif 500 <= shirt_price <= 1000:\n",
    "        print(\"That's a reasonable Price.\")\n",
    "    else:\n",
    "        print(\"The Price is too high.\")\n",
    "else:\n",
    "    print(\"Enter a valid Price and get your shirt easily.\")"
   ]
  },
  {
   "cell_type": "markdown",
   "metadata": {},
   "source": [
    "# All 3 programs are correct\n",
    "There are many other functions in the place of . isdigit( ) , like . isnumeric( ) , . isdecimal( ) , . isalnum( )    -for alphanumerics."
   ]
  },
  {
   "cell_type": "code",
   "execution_count": 9,
   "metadata": {},
   "outputs": [
    {
     "name": "stdout",
     "output_type": "stream",
     "text": [
      "String is numeric: 5478\n"
     ]
    }
   ],
   "source": [
    "# Using str.isnumeric():\n",
    "s = input(\"Enter your variable.\")\n",
    "if s.isnumeric():\n",
    "    print(\"String is numeric:\",s)\n",
    "else:\n",
    "    print(\"This is not numeric variable:\",s)"
   ]
  },
  {
   "cell_type": "code",
   "execution_count": 29,
   "metadata": {},
   "outputs": [
    {
     "name": "stdout",
     "output_type": "stream",
     "text": [
      "String is decimal 585896.0\n"
     ]
    }
   ],
   "source": [
    "s= input(\"Enter any number.\")\n",
    "if s.isdecimal():\n",
    "    deci= float(s)\n",
    "    print(\"String is decimal\", deci)\n",
    "else:\n",
    "    print(\"Your input is not Decimal:\",s)"
   ]
  },
  {
   "cell_type": "code",
   "execution_count": 36,
   "metadata": {},
   "outputs": [
    {
     "name": "stdout",
     "output_type": "stream",
     "text": [
      "Please try again your Passcode is not Alpha Numeric: -55ffff\n"
     ]
    }
   ],
   "source": [
    "str_num=input(\"Enter your Alpha Numeric Password:\")\n",
    "if str_num.isalnum():\n",
    "    print(\"Your passcode is alphanumeric:\",str_num)\n",
    "else:\n",
    "    print(\"Please try again your Passcode is not Alpha Numeric:\",str_num)"
   ]
  },
  {
   "cell_type": "markdown",
   "metadata": {},
   "source": [
    "All above programs are working."
   ]
  },
  {
   "cell_type": "markdown",
   "metadata": {},
   "source": [
    "### Now an other:\n",
    "### Choose your dress for the office throughout the week."
   ]
  },
  {
   "cell_type": "code",
   "execution_count": 1,
   "metadata": {},
   "outputs": [
    {
     "name": "stdout",
     "output_type": "stream",
     "text": [
      "today weaar Pant shirt with tie\n"
     ]
    }
   ],
   "source": [
    "friday=\"white kurta\"\n",
    "monday=\"Pant shirt with tie\"\n",
    "wednesday=\"T-shirt\"\n",
    "\n",
    "user_input=input('Enter your day.')\n",
    "if user_input== \"friday\":\n",
    "    print(\"today weaar\", friday)\n",
    "elif user_input== \"monday\":\n",
    "    print(\"today weaar\", monday)\n",
    "elif user_input== \"wednesday\":\n",
    "    print(\"today wear\" , wednesday)\n",
    "else:\n",
    "    print('enter day in _ _ _ format')"
   ]
  },
  {
   "cell_type": "markdown",
   "metadata": {},
   "source": [
    "### User Login with email and Password"
   ]
  },
  {
   "cell_type": "code",
   "execution_count": 51,
   "metadata": {},
   "outputs": [
    {
     "name": "stdout",
     "output_type": "stream",
     "text": [
      "Welcome to Gmail\n"
     ]
    }
   ],
   "source": [
    "# user login name and password\n",
    "username='ambreen@gmail.com'\n",
    "password='123ab'\n",
    "\n",
    "username=input(\"Enter your Email\")\n",
    "passwor=input(\"Enter your password\")\n",
    "if username == 'ambreen@gmail.com' and password =='123ab':\n",
    "    print(\"Welcome to Gmail\",)\n",
    "elif password != '123ab':\n",
    "    print(\"Please Enter your correct Passcode:\")\n",
    "else:\n",
    "    print(\"Your Gmail ID is currupt and the account is block.\",password)"
   ]
  },
  {
   "cell_type": "code",
   "execution_count": 52,
   "metadata": {},
   "outputs": [],
   "source": [
    "# user login name and password Nestedn if condition\n",
    "# username='ambreen@gmail.com'\n",
    "# password='123ab'\n",
    "\n",
    "# username=input(\"Enter your Email\")\n",
    "# passwor=input(\"Enter your password\")\n",
    "# if password== 'ambreen@gmail.com' and password=='123ab':\n",
    "#     print(\"Welcome to Gmail\")\n",
    "# elif username== 'ambreen@gmail.com' and password!='123ab':\n",
    "#     print(\"Re Enter your password.\")\n",
    "#     if password=='123ab':\n",
    "#         print(\"Welcome to Gmail after 2nd Attempt.\")\n",
    "#     else:\n",
    "#         print(\"Try it again.\")\n",
    "# else:\n",
    "#     print(\"Incorrect Password and your account is blocked.\")"
   ]
  },
  {
   "cell_type": "code",
   "execution_count": null,
   "metadata": {},
   "outputs": [
    {
     "name": "stdout",
     "output_type": "stream",
     "text": [
      "Find the 2nd maximum number.\n"
     ]
    }
   ],
   "source": [
    "\n",
    "number1=4\n",
    "number2=5                    \n",
    "number3=6\n",
    "number1=input(\"Enter your Number:\")\n",
    "number2=input(\"Enter your 2nd Number:\")\n",
    "number3=input(\"Enter your 3rd Number:\")\n",
    "if number1>number3 and number1<number2:\n",
    "    print(\"Find the 2nd maximum number.\")\n",
    "elif number3<number1:\n",
    "    print(\"You can't find number.\")\n",
    "else:\n",
    "    print(\"Number is Greater.\")"
   ]
  },
  {
   "cell_type": "code",
   "execution_count": null,
   "metadata": {},
   "outputs": [
    {
     "name": "stdout",
     "output_type": "stream",
     "text": [
      "Twelve month of the Year: January\n",
      "Twelve month of the Year: Febuary\n",
      "Twelve month of the Year: March\n",
      "Twelve month of the Year: April\n",
      "Twelve month of the Year: May\n",
      "Twelve month of the Year: June\n",
      "Twelve month of the Year: July\n",
      "Twelve month of the Year: August\n",
      "Twelve month of the Year: September\n",
      "Twelve month of the Year: October\n",
      "Twelve month of the Year: November\n",
      "Twelve month of the Year: December\n"
     ]
    }
   ],
   "source": [
    "months_of_year = [\"January\", \"Febuary\", \"March\", \"April\", \"May\", \"June\", \"July\", \"August\",\"September\", \"October\", \"November\", \"December\"]\n",
    "for month in months_of_year:\n",
    "    print(\"Twelve month of the Year:\", month) "
   ]
  },
  {
   "cell_type": "code",
   "execution_count": null,
   "metadata": {},
   "outputs": [],
   "source": [
    "number=int(input(\"Enter your desired number for 'Times of Table':\" ))\n",
    "for i in range(1,11):\n",
    "    # print(number,\"\")   will continue times table"
   ]
  },
  {
   "cell_type": "code",
   "execution_count": null,
   "metadata": {},
   "outputs": [],
   "source": [
    "population_of_a_town=10000\n",
    "for popuation in range(1,11):\n",
    "    print(population_of_a_town/10,\"=\",popuation)\n",
    "# it will continue"
   ]
  },
  {
   "cell_type": "code",
   "execution_count": null,
   "metadata": {},
   "outputs": [
    {
     "data": {
      "text/plain": [
       "6"
      ]
     },
     "execution_count": 4,
     "metadata": {},
     "output_type": "execute_result"
    }
   ],
   "source": [
    "import math\n",
    "math.factorial(3)"
   ]
  },
  {
   "cell_type": "code",
   "execution_count": null,
   "metadata": {},
   "outputs": [
    {
     "name": "stdout",
     "output_type": "stream",
     "text": [
      "result 1.0\n",
      "result 1.1\n",
      "result 1.1111111111111112\n",
      "result 1.1125\n",
      "result 1.1126984126984127\n"
     ]
    }
   ],
   "source": [
    "# factorial\n",
    "number= int(input(\"enter number\"))\n",
    "result=0\n",
    "fact=1\n",
    "for i in range(10,number,-1):                       #for reverse\n",
    "    fact=fact*i\n",
    "    result=result+i/fact\n",
    "    print(\"result\",result)"
   ]
  },
  {
   "cell_type": "code",
   "execution_count": null,
   "metadata": {},
   "outputs": [],
   "source": [
    "number= int(input(\"enter number\"))\n",
    "result=0\n",
    "fact=1\n",
    "for i in range(1,number+1):                       # for positive\n",
    "    fact=fact*i\n",
    "    result=result+i/fact\n",
    "    print(\"result\",result)"
   ]
  },
  {
   "cell_type": "markdown",
   "metadata": {},
   "source": [
    "Nested loop of \"for\""
   ]
  },
  {
   "cell_type": "code",
   "execution_count": null,
   "metadata": {},
   "outputs": [
    {
     "name": "stdout",
     "output_type": "stream",
     "text": [
      "1 1\n",
      "1 2\n",
      "1 3\n",
      "1 4\n",
      "2 1\n",
      "2 2\n",
      "2 3\n",
      "2 4\n",
      "3 1\n",
      "3 2\n",
      "3 3\n",
      "3 4\n",
      "4 1\n",
      "4 2\n",
      "4 3\n",
      "4 4\n"
     ]
    }
   ],
   "source": [
    "for i in range(1,5):\n",
    "    for j in range(1,5):\n",
    "        print(i,j)"
   ]
  },
  {
   "cell_type": "markdown",
   "metadata": {},
   "source": [
    "# Extra Rough work"
   ]
  },
  {
   "cell_type": "code",
   "execution_count": null,
   "metadata": {},
   "outputs": [],
   "source": [
    "It seems like you're looking for alternatives to the .isdigit() function in Python. Here are some functions and methods that can be used to check if a string represents a number or to validate input:\n",
    "\n",
    "Using str.isnumeric():\n",
    "\n",
    "python\n",
    "Copy\n",
    "s = \"123\"\n",
    "if s.isnumeric():\n",
    "    print(\"String is numeric\")\n",
    "Using str.isdecimal():\n",
    "\n",
    "python\n",
    "Copy\n",
    "s = \"123\"\n",
    "if s.isdecimal():\n",
    "    print(\"String is decimal\")\n",
    "Using str.isalnum():\n",
    "This checks if the string is alphanumeric (contains both letters and numbers).\n",
    "\n",
    "python\n",
    "Copy\n",
    "s = \"abc123\"\n",
    "if s.isalnum():\n",
    "    print(\"String is alphanumeric\")\n",
    "Using Regular Expressions:\n",
    "You can use the re module to check if a string is a number.\n",
    "\n",
    "python\n",
    "Copy\n",
    "import re\n",
    "s = \"123\"\n",
    "if re.match(r'^\\d+$', s):\n",
    "    print(\"String is a number\")\n",
    "Using try-except with int() or float():\n",
    "This method attempts to convert the string to a number.\n",
    "\n",
    "python\n",
    "Copy\n",
    "s = \"123\"\n",
    "try:\n",
    "    num = int(s)\n",
    "    print(\"String can be converted to an integer\")\n",
    "except ValueError:\n",
    "    print(\"String cannot be converted to an integer\")\n",
    "Using str.replace() and str.isdigit() for floats:\n",
    "To check for float numbers, you can replace the decimal point and check.\n",
    "\n",
    "python\n",
    "Copy\n",
    "s = \"123.45\"\n",
    "if s.replace('.', '', 1).isdigit():\n",
    "    print(\"String can be a float\")"
   ]
  }
 ],
 "metadata": {
  "kernelspec": {
   "display_name": "Python 3",
   "language": "python",
   "name": "python3"
  },
  "language_info": {
   "codemirror_mode": {
    "name": "ipython",
    "version": 3
   },
   "file_extension": ".py",
   "mimetype": "text/x-python",
   "name": "python",
   "nbconvert_exporter": "python",
   "pygments_lexer": "ipython3",
   "version": "3.12.1"
  }
 },
 "nbformat": 4,
 "nbformat_minor": 2
}
