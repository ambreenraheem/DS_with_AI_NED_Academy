{
 "cells": [
  {
   "cell_type": "markdown",
   "metadata": {},
   "source": [
    "#### 1. key value pair {}\n",
    "#### 2. values are mutable in nature\n",
    "#### 3. key always be imutable\n",
    "#### 4. key always be unique\n",
    "#### 5. homogeneous archetacture"
   ]
  },
  {
   "cell_type": "code",
   "execution_count": 1,
   "metadata": {},
   "outputs": [
    {
     "name": "stdout",
     "output_type": "stream",
     "text": [
      "{'Name': 'Ambreen', 'Gender': 'Female'}\n"
     ]
    }
   ],
   "source": [
    "d={'Name':'Ambreen','Gender':'Female',}\n",
    "print(d)"
   ]
  },
  {
   "cell_type": "code",
   "execution_count": null,
   "metadata": {},
   "outputs": [],
   "source": [
    "d2=dict(name='Ambreen',Gender='Female',Age='40',Marks=[\"Data science\",\"AI\",\"GI\"],{40,60,             70})\n",
    "d.update(d2)\n",
    "print(d2)"
   ]
  },
  {
   "cell_type": "code",
   "execution_count": 3,
   "metadata": {},
   "outputs": [
    {
     "name": "stdout",
     "output_type": "stream",
     "text": [
      "The number is negative.\n"
     ]
    }
   ],
   "source": [
    "number=int(input(\"Enter your Number\"))\n",
    "if number>0:\n",
    "       print(\"The number is positive.\")\n",
    "elif number<6:\n",
    "    print(\"The number is negative.\")\n",
    "else:\n",
    "   print(\"Your number is Negative.\")"
   ]
  },
  {
   "cell_type": "code",
   "execution_count": null,
   "metadata": {},
   "outputs": [],
   "source": [
    "user_input=input(\"Enter a number:\")\n",
    "if user_input.replace(\".\",\"\").isdigit():\n",
    "    num=int(user_input)\n",
    "    if num>20(user_input):\n",
    "        print(\"That is Correct Number.\")\n",
    "    elif num<30(user_input):\n",
    "        print(\"Please try again.\")\n",
    "    else:\n",
    "        print(\"That's perfect Number.\")\n",
    "else:\n",
    "    (\"All number are not correct.\")"
   ]
  },
  {
   "cell_type": "code",
   "execution_count": 5,
   "metadata": {},
   "outputs": [
    {
     "name": "stdout",
     "output_type": "stream",
     "text": [
      "today weaar white kurta\n"
     ]
    }
   ],
   "source": [
    "fri=\"white kurta\"\n",
    "mon=\"shirt\"\n",
    "wed=\"T-shirt\"\n",
    "\n",
    "user_input=input('Enter your day.')\n",
    "if user_input== \"fri\":\n",
    "    print(\"today weaar\", fri)\n",
    "elif user_input== \"mon\":\n",
    "    print(\"today weaar\", mon)\n",
    "elif user_input== \"wed\":\n",
    "    print(\"today wear\" , wed)\n",
    "else:\n",
    "    print('enter day in _ _ _ format')"
   ]
  },
  {
   "cell_type": "code",
   "execution_count": null,
   "metadata": {},
   "outputs": [],
   "source": [
    "# user login name and password\n",
    "username='ambreen@gmail.com'\n",
    "password='123ab'\n",
    "\n",
    "username=input(\"Enter your Email\")\n",
    "passwor=input(\"Enter your password\")\n",
    "if username== 'ambreen@gmail.com' and password=='123ab':\n",
    "    print(\"Welcome to Gmail\")\n",
    "else:\n",
    "    print(\"Incorrect Password and your account is block.\")"
   ]
  },
  {
   "cell_type": "code",
   "execution_count": null,
   "metadata": {},
   "outputs": [],
   "source": [
    "# user login name and password Nestedn if condition\n",
    "username='ambreen@gmail.com'\n",
    "password='123ab'\n",
    "\n",
    "username=input(\"Enter your Email\")\n",
    "passwor=input(\"Enter your password\")\n",
    "if password== 'ambreen@gmail.com' and password=='123ab':\n",
    "    print(\"Welcome to Gmail\")\n",
    "elif username== 'ambreen@gmail.com' and password!='123ab':\n",
    "    print(\"Re Enter your password.\")\n",
    "    if password=='123ab':\n",
    "        print(\"Welcome to Gmail after 2nd Attempt.\")\n",
    "    else:\n",
    "        print(\"Try it again.\")\n",
    "else:\n",
    "    print(\"Incorrect Password and your account is blocked.\")"
   ]
  },
  {
   "cell_type": "code",
   "execution_count": 8,
   "metadata": {},
   "outputs": [
    {
     "name": "stdout",
     "output_type": "stream",
     "text": [
      "Find the 2nd maximum number.\n"
     ]
    }
   ],
   "source": [
    "\n",
    "number1=4\n",
    "number2=5                    \n",
    "number3=6\n",
    "number1=input(\"Enter your Number:\")\n",
    "number2=input(\"Enter your 2nd Number:\")\n",
    "number3=input(\"Enter your 3rd Number:\")\n",
    "if number1>number3 and number1<number2:\n",
    "    print(\"Find the 2nd maximum number.\")\n",
    "elif number3<number1:\n",
    "    print(\"You can't find number.\")\n",
    "else:\n",
    "    print(\"Number is Greater.\")"
   ]
  }
 ],
 "metadata": {
  "kernelspec": {
   "display_name": "Python 3",
   "language": "python",
   "name": "python3"
  },
  "language_info": {
   "codemirror_mode": {
    "name": "ipython",
    "version": 3
   },
   "file_extension": ".py",
   "mimetype": "text/x-python",
   "name": "python",
   "nbconvert_exporter": "python",
   "pygments_lexer": "ipython3",
   "version": "3.12.1"
  }
 },
 "nbformat": 4,
 "nbformat_minor": 2
}
