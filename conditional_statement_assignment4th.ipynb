{
 "cells": [
  {
   "cell_type": "markdown",
   "metadata": {},
   "source": [
    "# Name: Ambreen Abdul Raheem\n",
    "# Assignment: 4th Assignment on Conditional statements:\n",
    "# Date: 24 - August - 2024"
   ]
  },
  {
   "cell_type": "markdown",
   "metadata": {},
   "source": [
    "### 1- Program a Calculator using Menu driven approach and perform the selected Operation"
   ]
  },
  {
   "cell_type": "markdown",
   "metadata": {},
   "source": [
    "Follow the prompts to perform calculations.\\\n",
    "This program will continue to run until the user chooses to exit by selecting option 5."
   ]
  },
  {
   "cell_type": "code",
   "execution_count": 2,
   "metadata": {},
   "outputs": [
    {
     "name": "stdout",
     "output_type": "stream",
     "text": [
      "Select operation:\n",
      "1. Addition\n",
      "2. Subtraction\n",
      "3. Multiplication\n",
      "4. Division\n",
      "5. Exit\n",
      "55.0 + 55.0 = 110.0\n",
      "Select operation:\n",
      "1. Addition\n",
      "2. Subtraction\n",
      "3. Multiplication\n",
      "4. Division\n",
      "5. Exit\n",
      "65.0 - 44.0 = 21.0\n",
      "Select operation:\n",
      "1. Addition\n",
      "2. Subtraction\n",
      "3. Multiplication\n",
      "4. Division\n",
      "5. Exit\n",
      "36.0 * 66.0 = 2376.0\n",
      "Select operation:\n",
      "1. Addition\n",
      "2. Subtraction\n",
      "3. Multiplication\n",
      "4. Division\n",
      "5. Exit\n",
      "65.0 / 87.0 = 0.7471264367816092\n",
      "Select operation:\n",
      "1. Addition\n",
      "2. Subtraction\n",
      "3. Multiplication\n",
      "4. Division\n",
      "5. Exit\n",
      "Exiting the calculator. Goodbye!\n"
     ]
    }
   ],
   "source": [
    "def calculator():\n",
    "    while True:\n",
    "        print(\"Select operation:\")\n",
    "        print(\"1. Addition\")\n",
    "        print(\"2. Subtraction\")\n",
    "        print(\"3. Multiplication\")\n",
    "        print(\"4. Division\")\n",
    "        print(\"5. Exit\")\n",
    "\n",
    "        choice = input(\"Enter choice (1/2/3/4/5): \")\n",
    "\n",
    "        if choice in ['1', '2', '3', '4']:\n",
    "            num1 = float(input(\"Enter first number: \"))\n",
    "            num2 = float(input(\"Enter second number: \"))\n",
    "\n",
    "            if choice == '1':\n",
    "                print(f\"{num1} + {num2} = {add(num1, num2)}\")\n",
    "            elif choice == '2':\n",
    "                print(f\"{num1} - {num2} = {subtract(num1, num2)}\")\n",
    "            elif choice == '3':\n",
    "                print(f\"{num1} * {num2} = {multiply(num1, num2)}\")\n",
    "            elif choice == '4':\n",
    "                print(f\"{num1} / {num2} = {divide(num1, num2)}\")\n",
    "\n",
    "        elif choice == '5':\n",
    "            print(\"Exiting the calculator. Goodbye!\")\n",
    "            break\n",
    "        else:\n",
    "            print(\"Invalid input! Please select a valid operation.\")\n",
    "\n",
    "if __name__ == \"__main__\":\n",
    "    calculator()"
   ]
  },
  {
   "cell_type": "markdown",
   "metadata": {},
   "source": [
    "## 2- Create a Coffee Maker Program"
   ]
  },
  {
   "cell_type": "code",
   "execution_count": 8,
   "metadata": {},
   "outputs": [
    {
     "name": "stdout",
     "output_type": "stream",
     "text": [
      "Water level: 500ml\n",
      "Coffee level: 50g\n",
      "Water level: 500ml, Coffee level: 50g\n",
      "Making an espresso!\n",
      "Water level: 470ml, Coffee level: 40g\n"
     ]
    }
   ],
   "source": [
    "class CoffeeMaker:\n",
    "    def __init__(self):\n",
    "        self.water_level = 0\n",
    "        self.coffee_level = 0\n",
    "\n",
    "    def fill_water(self, amount):\n",
    "        self.water_level += amount\n",
    "        print(f\"Water level: {self.water_level}ml\")\n",
    "\n",
    "    def add_coffee(self, amount):\n",
    "        self.coffee_level += amount\n",
    "        print(f\"Coffee level: {self.coffee_level}g\")\n",
    "\n",
    "    def make_coffee(self, coffee_type):\n",
    "        if self.water_level < 200:\n",
    "            print(\"Not enough water!\")\n",
    "            return\n",
    "        if self.coffee_level < 10:\n",
    "            print(\"Not enough coffee!\")\n",
    "            return\n",
    "\n",
    "        if coffee_type == \"espresso\":\n",
    "            self.water_level -= 30\n",
    "            self.coffee_level -= 10\n",
    "            print(\"Making an espresso!\")\n",
    "        elif coffee_type == \"americano\":\n",
    "            self.water_level -= 200\n",
    "            self.coffee_level -= 10\n",
    "            print(\"Making an americano!\")\n",
    "        else:\n",
    "            print(\"Unknown coffee type!\")\n",
    "\n",
    "    def status(self):\n",
    "        print(f\"Water level: {self.water_level}ml, Coffee level: {self.coffee_level}g\")\n",
    "\n",
    "\n",
    "# Example usage\n",
    "coffee_maker = CoffeeMaker()\n",
    "coffee_maker.fill_water(500)\n",
    "coffee_maker.add_coffee(50)\n",
    "coffee_maker.status()\n",
    "coffee_maker.make_coffee(\"espresso\")\n",
    "coffee_maker.status()\n",
    "        \n",
    "        "
   ]
  },
  {
   "cell_type": "markdown",
   "metadata": {},
   "source": [
    "## 3- Program an ATM Machine Mechanism flow"
   ]
  },
  {
   "cell_type": "code",
   "execution_count": 13,
   "metadata": {},
   "outputs": [
    {
     "name": "stdout",
     "output_type": "stream",
     "text": [
      "\n",
      "--- ATM Menu ---\n",
      "1. Check Balance\n",
      "2. Deposit Money\n",
      "3. Withdraw Money\n",
      "4. Exit\n",
      "Thank you for using the ATM. Goodbye!\n"
     ]
    }
   ],
   "source": [
    "class ATM:\n",
    "    def __init__(self):\n",
    "        self.balance = 10000  # Initial balance\n",
    "\n",
    "    def check_balance(required_amount):\n",
    "        print(f\"Your current balance is: RS.{self.balance}\")\n",
    "\n",
    "    def deposit(self, amount):\n",
    "        if amount > 0:\n",
    "            self.balance += amount\n",
    "            print(f\"You have deposited: RS.{amount}\")\n",
    "        else:\n",
    "            print(\"Invalid deposit amount.\")\n",
    "\n",
    "    def withdraw(self, amount):\n",
    "        if 0 < amount <= self.balance:\n",
    "            self.balance -= amount\n",
    "            print(f\"You have withdrawn: RS.{amount}\")\n",
    "        else:\n",
    "            print(\"Invalid withdrawal amount or insufficient funds.\")\n",
    "\n",
    "def main():\n",
    "    atm = ATM()\n",
    "    while True:\n",
    "        print(\"\\n--- ATM Menu ---\")\n",
    "        print(\"1. Check Balance\")\n",
    "        print(\"2. Deposit Money\")\n",
    "        print(\"3. Withdraw Money\")\n",
    "        print(\"4. Exit\")\n",
    "        \n",
    "        choice = input(\"Select an option (1-4): \")\n",
    "        \n",
    "        if choice == '1':\n",
    "            atm.check_balance()\n",
    "        elif choice == '2':\n",
    "            amount = float(input(\"Enter amount to deposit: \"))\n",
    "            atm.deposit(amount)\n",
    "        elif choice == '3':\n",
    "            amount = float(input(\"Enter amount to withdraw: \"))\n",
    "            atm.withdraw(amount)\n",
    "        elif choice == '4':\n",
    "            print(\"Thank you for using the ATM. Goodbye!\")\n",
    "            break\n",
    "        else:\n",
    "            print(\"Invalid option. Please try again.\")\n",
    "\n",
    "if __name__ == \"__main__\":\n",
    "    main()"
   ]
  }
 ],
 "metadata": {
  "kernelspec": {
   "display_name": "Python 3",
   "language": "python",
   "name": "python3"
  },
  "language_info": {
   "codemirror_mode": {
    "name": "ipython",
    "version": 3
   },
   "file_extension": ".py",
   "mimetype": "text/x-python",
   "name": "python",
   "nbconvert_exporter": "python",
   "pygments_lexer": "ipython3",
   "version": "3.12.1"
  }
 },
 "nbformat": 4,
 "nbformat_minor": 2
}
