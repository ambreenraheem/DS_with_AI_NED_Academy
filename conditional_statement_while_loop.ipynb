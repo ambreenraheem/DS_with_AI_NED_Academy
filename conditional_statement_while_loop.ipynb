{
 "cells": [
  {
   "cell_type": "markdown",
   "metadata": {},
   "source": [
    "## **While Loop:**\n",
    "\n",
    "Used when the number of iterations is not known in advance and depends on a condition.\\\n",
    "A while loop in Python repeatedly executes a block of code as long as a specified condition is True."
   ]
  },
  {
   "cell_type": "markdown",
   "metadata": {},
   "source": [
    "while condition Statements:\\\n",
    "            the thing that you want to print"
   ]
  },
  {
   "cell_type": "markdown",
   "metadata": {},
   "source": [
    "#### TIMES TABLE IN while loop:"
   ]
  },
  {
   "cell_type": "markdown",
   "metadata": {},
   "source": [
    "iteration breaking with less than operator"
   ]
  },
  {
   "cell_type": "code",
   "execution_count": 1,
   "metadata": {},
   "outputs": [
    {
     "name": "stdout",
     "output_type": "stream",
     "text": [
      "4 * 1 = 4\n",
      "4 * 2 = 8\n",
      "4 * 3 = 12\n",
      "4 * 4 = 16\n",
      "4 * 5 = 20\n",
      "4 * 6 = 24\n",
      "4 * 7 = 28\n",
      "4 * 8 = 32\n",
      "4 * 9 = 36\n",
      "4 * 10 = 40\n"
     ]
    }
   ],
   "source": [
    "number = int(input(\"Enter your number:\\t\"))\n",
    "i = 1         # intializer\n",
    "while i < 11:                  # less than will stop the condition so  use < les than\n",
    "    print(number, \"*\",i,\"=\",number * i)\n",
    "    i += 1"
   ]
  },
  {
   "cell_type": "markdown",
   "metadata": {},
   "source": [
    "#### reverse Times Table"
   ]
  },
  {
   "cell_type": "code",
   "execution_count": 19,
   "metadata": {},
   "outputs": [
    {
     "name": "stdout",
     "output_type": "stream",
     "text": [
      "55 * 10 = 550\n",
      "55 * 9 = 495\n",
      "55 * 8 = 440\n",
      "55 * 7 = 385\n",
      "55 * 6 = 330\n",
      "55 * 5 = 275\n",
      "55 * 4 = 220\n",
      "55 * 3 = 165\n",
      "55 * 2 = 110\n",
      "55 * 1 = 55\n"
     ]
    }
   ],
   "source": [
    "number = int(input(\"Enter your number:\\t\"))\n",
    "i = 10\n",
    "while i >= 1:                  # less than will stop the condition so  use < les than\n",
    "    print(number, \"*\",i,\"=\",number * i)\n",
    "    i -= 1"
   ]
  },
  {
   "cell_type": "code",
   "execution_count": 1,
   "metadata": {},
   "outputs": [
    {
     "name": "stdout",
     "output_type": "stream",
     "text": [
      "1\n",
      "2\n",
      "3\n",
      "4\n",
      "5\n",
      "X is No longer less then 6 \n"
     ]
    }
   ],
   "source": [
    "x = 1                      # This is called innitializer\n",
    "while x < 6:               # This is conditional statement of while\n",
    "    print(x)               # This is print statement\n",
    "    x += 1                 # This is increament operator\n",
    "else:\n",
    "    print(\"X is No longer less then 6 \")     # Most of the time you can use (else:) statement with (while loop)"
   ]
  },
  {
   "cell_type": "markdown",
   "metadata": {},
   "source": [
    "with missing number (3) counting: "
   ]
  },
  {
   "cell_type": "code",
   "execution_count": 4,
   "metadata": {},
   "outputs": [
    {
     "name": "stdout",
     "output_type": "stream",
     "text": [
      "2\n",
      "4\n",
      "5\n",
      "6\n"
     ]
    }
   ],
   "source": [
    "x = 1                      # This is called innitializer\n",
    "while x < 6:               # This is conditional statement of while               # This is print statement\n",
    "    x += 1                 # This is increament operator\n",
    "    if x == 3:             # if condition\n",
    "        continue           # continue is key word of python\n",
    "    print(x)               # print of while loop"
   ]
  },
  {
   "cell_type": "markdown",
   "metadata": {},
   "source": [
    "with missing number 3 and 6"
   ]
  },
  {
   "cell_type": "code",
   "execution_count": 11,
   "metadata": {},
   "outputs": [
    {
     "name": "stdout",
     "output_type": "stream",
     "text": [
      "1\n",
      "2\n",
      "4\n",
      "5\n",
      "7\n",
      "8\n",
      "9\n",
      "10\n"
     ]
    }
   ],
   "source": [
    "x = 0                       # This is called innitializer\n",
    "while x < 10:               # This is conditional statement of while               # This is print statement\n",
    "    x += 1                  # This is increament operator\n",
    "    if x != 3 and x !=6:    # if condition\n",
    "        print(x) "
   ]
  },
  {
   "cell_type": "markdown",
   "metadata": {},
   "source": [
    "counting 1 to 10"
   ]
  },
  {
   "cell_type": "code",
   "execution_count": 13,
   "metadata": {},
   "outputs": [
    {
     "name": "stdout",
     "output_type": "stream",
     "text": [
      "1\n",
      "2\n",
      "3\n",
      "4\n",
      "5\n",
      "6\n",
      "7\n",
      "8\n",
      "9\n",
      "10\n"
     ]
    }
   ],
   "source": [
    "x = 0                     # This is called innitializer\n",
    "while x < 10:               # This is conditional statement of while               # This is print statement\n",
    "    x += 1                 # This is increament operator\n",
    "    if x == 3 and x == 6:\n",
    "        continue           # continue is key word of python\n",
    "    print(x)               # print of while loop"
   ]
  },
  {
   "cell_type": "markdown",
   "metadata": {},
   "source": [
    "### Guissing a number"
   ]
  },
  {
   "cell_type": "code",
   "execution_count": 18,
   "metadata": {},
   "outputs": [
    {
     "name": "stdout",
     "output_type": "stream",
     "text": [
      "You entered a Number is:  25\n",
      "You entered a Number is:  52\n",
      "You entered a Number is:  45\n",
      "You entered a Number is:  32\n",
      "You entered a Number is:  23\n",
      "You entered a Number is:  85\n",
      "You entered a Number is:  25\n",
      "You entered a Number is:  25\n",
      "You entered a Number is:  88\n",
      "You entered a Number is:  88\n",
      "User Entered correct number:  0\n"
     ]
    }
   ],
   "source": [
    "# Iterate until the user enter 0\n",
    "number = int(input(\"Enter your Number:\"))\n",
    "while number != 0:                           # jb tk user o nai enter krega while loop chulta rhega\n",
    "    print(\"You entered a Number is: \", number)\n",
    "    number= int(input(\"Enter your Number: \"))    \n",
    "print(\"User Entered correct number: \", number)"
   ]
  },
  {
   "cell_type": "code",
   "execution_count": 3,
   "metadata": {},
   "outputs": [],
   "source": [
    "x = 8                # this is itration\n",
    "while x > 5:           # here it is un stopable loop condition\n",
    "    print(\"x is greater than 5:\\t\", x)\n",
    "    x += 1                          # condition is unstopable\n",
    "    break         # break is for breaking of loop"
   ]
  },
  {
   "cell_type": "markdown",
   "metadata": {},
   "source": [
    "breakable while loop, because somtimes you need to stop your loop"
   ]
  },
  {
   "cell_type": "code",
   "execution_count": 7,
   "metadata": {},
   "outputs": [],
   "source": [
    "x = int(input(\"Enter your Number greater than 5:\"))              # this is itration\n",
    "while x > 5:           # here it is un stopable loop condition\n",
    "    print(\"x is greater than 5:\\t\", x)\n",
    "    x += 1                          # condition is unstopable\n",
    "    break         # break is for breaking of loop"
   ]
  },
  {
   "cell_type": "markdown",
   "metadata": {},
   "source": [
    "### Age condition for Elections:\n",
    "done by myself"
   ]
  },
  {
   "cell_type": "code",
   "execution_count": 20,
   "metadata": {},
   "outputs": [
    {
     "name": "stdout",
     "output_type": "stream",
     "text": [
      "You are not Eligible to cast a Vote:\t 23.0\n",
      "You can cast a Vote:\t 52.0\n"
     ]
    }
   ],
   "source": [
    "userage = float(input(\"Enter your age: \"))                # iteration is userage\n",
    "age = 32                                                  # and age is the condition of while loop\n",
    "\n",
    "while userage <= age: \n",
    "    print(\"You are not Eligible to cast a Vote:\\t\", userage)\n",
    "    userage = float(input(\"Enter your age: \"))           # again ask for input\n",
    "else:\n",
    "    print(\"You can cast a Vote:\\t\", userage)             # else is finale statement in while condition"
   ]
  },
  {
   "cell_type": "markdown",
   "metadata": {},
   "source": [
    "an other program/ rough work\\\n",
    "little bit complecated/ not working like above is doing perfect work "
   ]
  },
  {
   "cell_type": "code",
   "execution_count": 25,
   "metadata": {},
   "outputs": [
    {
     "name": "stdout",
     "output_type": "stream",
     "text": [
      "You can cast a Vote:\t 65.0\n"
     ]
    }
   ],
   "source": [
    "while True:\n",
    "    try:\n",
    "        userage = float(input(\"Enter your age (or type 'exit' to quit): \"))\n",
    "        \n",
    "        if userage >= 32:\n",
    "            print(\"You can cast a Vote:\\t\", userage)\n",
    "        else:\n",
    "            print(\"You are not Eligible to cast a Vote:\\t\", userage)\n",
    "        \n",
    "    except ValueError:\n",
    "        print(\"Invalid input. Please enter a valid number for your age.\")\n",
    "    \n",
    "    # Option to exit the loop\n",
    "    exit_choice = input(\"Do you want to enter another age? (yes/no): \").strip().lower()\n",
    "    if exit_choice != 'yes':\n",
    "        break                                 # little bit complecated/ not working like above is doing perfect work "
   ]
  },
  {
   "cell_type": "markdown",
   "metadata": {},
   "source": [
    "### School admission\n",
    "done by myself"
   ]
  },
  {
   "cell_type": "code",
   "execution_count": 63,
   "metadata": {},
   "outputs": [
    {
     "name": "stdout",
     "output_type": "stream",
     "text": [
      "Sorry!, you are very late. 5.0\n",
      "Congratulation! you have secured the admission 3.0\n",
      "Please! Try next year. The chid is very small. 2.0\n"
     ]
    }
   ],
   "source": [
    "# Admission required age for school\n",
    "# student_age = 3\n",
    "school_required_age = 3\n",
    "student_age = float(input(\"Enter the age of your child:\\t\"))\n",
    "\n",
    "\n",
    "while student_age >= school_required_age:\n",
    "    if student_age <= school_required_age:\n",
    "        print(\"Congratulation! you have secured the admission\", student_age)\n",
    "    else:\n",
    "        print(\"Sorry!, you are very late.\",student_age)\n",
    "        \n",
    "    student_age=float(input(\"Enter the age of your child again:\\t\"))\n",
    "else:\n",
    "    print(\"Please! Try next year. The chid is very small.\",student_age)             "
   ]
  },
  {
   "cell_type": "markdown",
   "metadata": {},
   "source": [
    "### Guissing game\n",
    "guided by sir sajid majeed"
   ]
  },
  {
   "cell_type": "code",
   "execution_count": null,
   "metadata": {},
   "outputs": [],
   "source": [
    "# generating a random integer between 1 and 100\n",
    "import random      # random is library\n",
    "\n",
    "jackpot = random.randint(1,100)\n",
    "guess = int(input(\"guess any number\"))\n",
    "\n",
    "counter = 1        # counter is iteration\n",
    "\n",
    "while guess != jackpot:\n",
    "    if guess < jackpot:\n",
    "        print(\"Wrong! guess higher.\")\n",
    "    else:\n",
    "        print(\"Wrong! guess lower\")\n",
    "        \n",
    "    guess = int(input(\"guess Again\"))\n",
    "    counter += 1          #\n",
    "else:               # this else is with while\n",
    "        print(\"Correct guess\")\n",
    "        print(\"attempted\", counter)                    # little problem"
   ]
  },
  {
   "cell_type": "markdown",
   "metadata": {},
   "source": [
    "### Predefined number to guess\n",
    "done by me"
   ]
  },
  {
   "cell_type": "code",
   "execution_count": 2,
   "metadata": {},
   "outputs": [
    {
     "name": "stdout",
     "output_type": "stream",
     "text": [
      "Too high! Try again.  25\n",
      "Too high! Try again.  55\n",
      "Congratulations! You've guessed the secret number.  7\n"
     ]
    }
   ],
   "source": [
    "# Predefined number to guess\n",
    "secret_number = 7\n",
    "guess = None\n",
    "\n",
    "# While loop to keep asking for a guess\n",
    "while guess != secret_number:\n",
    "    # Get user input\n",
    "    guess = int(input(\"Guess the secret number (between 1 and 10): \"))\n",
    "    \n",
    "    # Check the guess\n",
    "    if guess < secret_number:\n",
    "        print(\"Too low! Try again. \",guess)\n",
    "    elif guess > secret_number:\n",
    "        print(\"Too high! Try again. \",guess)\n",
    "    else:\n",
    "        print(\"Congratulations! You've guessed the secret number. \",guess)"
   ]
  },
  {
   "cell_type": "markdown",
   "metadata": {},
   "source": [
    "### lucky_draw = 786\n",
    "done by me"
   ]
  },
  {
   "cell_type": "code",
   "execution_count": 4,
   "metadata": {},
   "outputs": [
    {
     "name": "stdout",
     "output_type": "stream",
     "text": [
      "Your number is too low. Please try again.\n",
      "Your number is too low. Please try again.\n",
      "Congratulations! You are the winner of the lucky draw for year 2024: 786\n"
     ]
    }
   ],
   "source": [
    "lucky_draw = 786\n",
    "\n",
    "while True: # this will keep running until the following code makes it False\n",
    "\n",
    "    user_num = input(\"Enter your number for Lucky Draw: \") # asking user for input\n",
    "    try: # using error handling, ignore it.\n",
    "        user_num = int(user_num) #renaming input to user_num\n",
    "        if user_num == lucky_draw:\n",
    "            print(f\"Congratulations! You are the winner of the lucky draw for year 2024: {lucky_draw}\")\n",
    "            break #here I am breaking the loop as the user has won\n",
    "        elif user_num < lucky_draw: #next I am providing hints to the user\n",
    "            print(\"Your number is too low. Please try again.\")\n",
    "        else:\n",
    "            print(\"Your number is too high. Please try again.\")\n",
    "    except ValueError: #this is for error if user inputs anything other than a number\n",
    "        print(\"Please enter a valid number.\")"
   ]
  }
 ],
 "metadata": {
  "kernelspec": {
   "display_name": "Python 3",
   "language": "python",
   "name": "python3"
  },
  "language_info": {
   "codemirror_mode": {
    "name": "ipython",
    "version": 3
   },
   "file_extension": ".py",
   "mimetype": "text/x-python",
   "name": "python",
   "nbconvert_exporter": "python",
   "pygments_lexer": "ipython3",
   "version": "3.12.1"
  }
 },
 "nbformat": 4,
 "nbformat_minor": 2
}
