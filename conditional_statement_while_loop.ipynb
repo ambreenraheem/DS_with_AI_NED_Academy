{
 "cells": [
  {
   "cell_type": "markdown",
   "metadata": {},
   "source": [
    "**While Loop:**\n",
    "\n",
    "Used when the number of iterations is not known in advance and depends on a condition.\\\n",
    "A while loop in Python repeatedly executes a block of code as long as a specified condition is True."
   ]
  },
  {
   "cell_type": "markdown",
   "metadata": {},
   "source": [
    "#### TIMES TABLE IN while loop:"
   ]
  },
  {
   "cell_type": "code",
   "execution_count": 1,
   "metadata": {},
   "outputs": [
    {
     "name": "stdout",
     "output_type": "stream",
     "text": [
      "4 * 1 = 4\n",
      "4 * 2 = 8\n",
      "4 * 3 = 12\n",
      "4 * 4 = 16\n",
      "4 * 5 = 20\n",
      "4 * 6 = 24\n",
      "4 * 7 = 28\n",
      "4 * 8 = 32\n",
      "4 * 9 = 36\n",
      "4 * 10 = 40\n"
     ]
    }
   ],
   "source": [
    "number = int(input(\"Enter your number:\\t\"))\n",
    "i = 1\n",
    "while i < 11:\n",
    "    print(number, \"*\",i,\"=\",number * i)\n",
    "    i += 1"
   ]
  },
  {
   "cell_type": "code",
   "execution_count": null,
   "metadata": {},
   "outputs": [],
   "source": [
    "x = 8                  # this is itration\n",
    "while x > 5:           # here it is un stopable loop condition\n",
    "    print(\"x is greater than 5:\\t\", x)\n",
    "    x += 1                          # for stoping the loop, but cindition is unsopable"
   ]
  }
 ],
 "metadata": {
  "kernelspec": {
   "display_name": "Python 3",
   "language": "python",
   "name": "python3"
  },
  "language_info": {
   "codemirror_mode": {
    "name": "ipython",
    "version": 3
   },
   "file_extension": ".py",
   "mimetype": "text/x-python",
   "name": "python",
   "nbconvert_exporter": "python",
   "pygments_lexer": "ipython3",
   "version": "3.12.1"
  }
 },
 "nbformat": 4,
 "nbformat_minor": 2
}
