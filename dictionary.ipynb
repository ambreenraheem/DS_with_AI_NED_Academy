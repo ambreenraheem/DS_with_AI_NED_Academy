{
 "cells": [
  {
   "cell_type": "markdown",
   "metadata": {},
   "source": [
    "### 1. key value pair {}\n",
    "### 2. values are mutable in nature\n",
    "### 3. key always be imutable\n",
    "### 4. key always be unique\n",
    "### 5. homogeneous archetacture\n",
    "### 6. \n"
   ]
  },
  {
   "cell_type": "code",
   "execution_count": 1,
   "metadata": {},
   "outputs": [
    {
     "name": "stdout",
     "output_type": "stream",
     "text": [
      "{'Name': 'Ambreen', 'Gender': 'Female', 'Age': 40, 'Designation': 'Student'}\n",
      "<class 'dict'>\n"
     ]
    }
   ],
   "source": [
    "d={'Name':'Ambreen','Gender':'Female','Age':40,'Designation':'Student'}\n",
    "print(d)\n",
    "print(type(d))"
   ]
  },
  {
   "cell_type": "code",
   "execution_count": 7,
   "metadata": {},
   "outputs": [
    {
     "name": "stdout",
     "output_type": "stream",
     "text": [
      "{'Name': 'Ambreen', 'Gender': 'Female', 'Age': 40, 'Designation': 'Student', 'Skills': ['data science', 'ML', 'AI']}\n",
      "<class 'dict'>\n"
     ]
    }
   ],
   "source": [
    "d={'Name':'Ambreen','Gender':'Female','Age':40,'Designation':'Student','Skills':[\"data science\",\"ML\",\"AI\"]}\n",
    "print(d)\n",
    "print(type(d))"
   ]
  },
  {
   "cell_type": "code",
   "execution_count": 13,
   "metadata": {},
   "outputs": [
    {
     "name": "stdout",
     "output_type": "stream",
     "text": [
      "{'Name': 'Ambreen', 'Gender': 'Female', 'Age': '40', 'Skills': ['Data science', 'AI', 'GI', 'Communication Skills']}\n"
     ]
    }
   ],
   "source": [
    "# this is an other way of writing dictionary n update the dictionary\n",
    "d2=dict(Name='Ambreen',Gender='Female',Age='40',Skills=[\"Data science\",\"AI\",\"GI\",\"Communication Skills\"])\n",
    "# d.update(d2)\n",
    "print(d2)"
   ]
  },
  {
   "cell_type": "code",
   "execution_count": 10,
   "metadata": {},
   "outputs": [
    {
     "data": {
      "text/plain": [
       "'Ambreen'"
      ]
     },
     "execution_count": 10,
     "metadata": {},
     "output_type": "execute_result"
    }
   ],
   "source": [
    "# indexing\n",
    "d2['Name']"
   ]
  },
  {
   "cell_type": "code",
   "execution_count": 11,
   "metadata": {},
   "outputs": [
    {
     "data": {
      "text/plain": [
       "'40'"
      ]
     },
     "execution_count": 11,
     "metadata": {},
     "output_type": "execute_result"
    }
   ],
   "source": [
    "d2['Age']"
   ]
  },
  {
   "cell_type": "code",
   "execution_count": 12,
   "metadata": {},
   "outputs": [
    {
     "data": {
      "text/plain": [
       "'GI'"
      ]
     },
     "execution_count": 12,
     "metadata": {},
     "output_type": "execute_result"
    }
   ],
   "source": [
    "# indexing from list\n",
    "d2['Skills'][2]"
   ]
  },
  {
   "cell_type": "code",
   "execution_count": 14,
   "metadata": {},
   "outputs": [
    {
     "data": {
      "text/plain": [
       "'Communication Skills'"
      ]
     },
     "execution_count": 14,
     "metadata": {},
     "output_type": "execute_result"
    }
   ],
   "source": [
    "d2['Skills'][3]"
   ]
  },
  {
   "cell_type": "code",
   "execution_count": 15,
   "metadata": {},
   "outputs": [
    {
     "data": {
      "text/plain": [
       "'Data science'"
      ]
     },
     "execution_count": 15,
     "metadata": {},
     "output_type": "execute_result"
    }
   ],
   "source": [
    "d2['Skills'][0]"
   ]
  },
  {
   "cell_type": "code",
   "execution_count": 16,
   "metadata": {},
   "outputs": [
    {
     "data": {
      "text/plain": [
       "'Ambreen'"
      ]
     },
     "execution_count": 16,
     "metadata": {},
     "output_type": "execute_result"
    }
   ],
   "source": [
    "# an other function for indexing\n",
    "d2.get('Name')"
   ]
  },
  {
   "cell_type": "code",
   "execution_count": 18,
   "metadata": {},
   "outputs": [
    {
     "data": {
      "text/plain": [
       "'GI'"
      ]
     },
     "execution_count": 18,
     "metadata": {},
     "output_type": "execute_result"
    }
   ],
   "source": [
    "d2.get('Skills')[2]"
   ]
  },
  {
   "cell_type": "code",
   "execution_count": 19,
   "metadata": {},
   "outputs": [
    {
     "name": "stdout",
     "output_type": "stream",
     "text": [
      "{'Name': 'Ambreen', 'Age': 40, 'Gender': 'Female', 'Skills': ['Data Science', 'AI', 'DL', 'Data Analyst'], 'Marks': {'Data Science': 55, 'AI': 67, 'DL': 80}}\n",
      "<class 'dict'>\n"
     ]
    }
   ],
   "source": [
    "# dictionary inside the dictionary\n",
    "d3={'Name':'Ambreen','Age':40,'Gender':'Female','Skills':[\"Data Science\",\"AI\",\"DL\",\"Data Analyst\"],'Marks':{'Data Science':55,'AI':67,'DL':80}}\n",
    "print(d3)\n",
    "print(type(d3))"
   ]
  },
  {
   "cell_type": "code",
   "execution_count": 21,
   "metadata": {},
   "outputs": [
    {
     "data": {
      "text/plain": [
       "67"
      ]
     },
     "execution_count": 21,
     "metadata": {},
     "output_type": "execute_result"
    }
   ],
   "source": [
    "# slicing or indexing of dictionary inside the dictionary.\n",
    "d3['Marks']['AI']"
   ]
  },
  {
   "cell_type": "code",
   "execution_count": 22,
   "metadata": {},
   "outputs": [
    {
     "data": {
      "text/plain": [
       "80"
      ]
     },
     "execution_count": 22,
     "metadata": {},
     "output_type": "execute_result"
    }
   ],
   "source": [
    "d3['Marks']['DL']"
   ]
  },
  {
   "cell_type": "code",
   "execution_count": 27,
   "metadata": {},
   "outputs": [
    {
     "name": "stdout",
     "output_type": "stream",
     "text": [
      "{'Name': 'Ambreen', 'Gender': 'Female', 'Age': 40, 'Skills': ['Data Science', 'AI', 'DL', 'Data Analyst'], 'Marks': {'Data Science': 55, 'AI': 67, 'DL': 80}}\n"
     ]
    }
   ],
   "source": [
    "d2.update(d3)\n",
    "print(d2)"
   ]
  },
  {
   "cell_type": "code",
   "execution_count": 28,
   "metadata": {},
   "outputs": [
    {
     "name": "stdout",
     "output_type": "stream",
     "text": [
      "dict_items([('Name', 'Ambreen'), ('Gender', 'Female'), ('Age', 40), ('Skills', ['Data Science', 'AI', 'DL', 'Data Analyst']), ('Marks', {'Data Science': 55, 'AI': 67, 'DL': 80})])\n",
      "dict_keys(['Name', 'Gender', 'Age', 'Skills', 'Marks'])\n",
      "dict_values(['Ambreen', 'Female', 40, ['Data Science', 'AI', 'DL', 'Data Analyst'], {'Data Science': 55, 'AI': 67, 'DL': 80}])\n"
     ]
    }
   ],
   "source": [
    "# for complete dictionary\n",
    "# d2.items()\n",
    "# for retrieving keys\n",
    "# d2.keys()\n",
    "# for retrieving values\n",
    "#d2.values()\n",
    "# with print function\n",
    "print(d2.items())\n",
    "print(d2.keys())\n",
    "print(d2.values())"
   ]
  },
  {
   "cell_type": "code",
   "execution_count": 33,
   "metadata": {},
   "outputs": [
    {
     "name": "stdout",
     "output_type": "stream",
     "text": [
      "6\n",
      "Age\n",
      "Skills\n",
      "['Age', 'Gender', 'Marks', 'Name', 'Profession', 'Skills']\n"
     ]
    }
   ],
   "source": [
    "print(len(d2))\n",
    "print(min(d2))\n",
    "print(max(d2))\n",
    "print(sorted(d2))"
   ]
  },
  {
   "cell_type": "code",
   "execution_count": 31,
   "metadata": {},
   "outputs": [
    {
     "name": "stdout",
     "output_type": "stream",
     "text": [
      "{'Name': 'Ambreen', 'Gender': 'Female', 'Age': 40, 'Skills': ['Data Science', 'AI', 'DL', 'Data Analyst'], 'Marks': {'Data Science': 55, 'AI': 67, 'DL': 80}, 'Profession': 'Data Scientist'}\n"
     ]
    }
   ],
   "source": [
    "# updating of a key\n",
    "d2['Profession']='Data Scientist'\n",
    "print(d2)"
   ]
  },
  {
   "cell_type": "code",
   "execution_count": 37,
   "metadata": {},
   "outputs": [
    {
     "name": "stdout",
     "output_type": "stream",
     "text": [
      "{'Name': 'Ambreen', 'Gender': 'Female', 'Skills': ['Data Science', 'AI', 'DL', 'Data Analyst'], 'Marks': {'Data Science': 55, 'AI': 67, 'DL': 80}, 'Profession': 'Data Scientist', 'Age': 38}\n"
     ]
    }
   ],
   "source": [
    "# updating of a value\n",
    "d2['Age']=38\n",
    "print(d2)"
   ]
  },
  {
   "cell_type": "code",
   "execution_count": 38,
   "metadata": {},
   "outputs": [
    {
     "name": "stdout",
     "output_type": "stream",
     "text": [
      "{'Name': 'Ambreen', 'Gender': 'Female', 'Skills': ['Data Science', 'AI', 'DL', 'Data Analyst'], 'Marks': {'Data Science': 55, 'AI': 67, 'DL': 80}, 'Profession': 'Data Scientist'}\n"
     ]
    }
   ],
   "source": [
    "# pop(key)   for deleting\n",
    "d2.pop('Age')\n",
    "print(d2)"
   ]
  },
  {
   "cell_type": "code",
   "execution_count": 39,
   "metadata": {},
   "outputs": [
    {
     "name": "stdout",
     "output_type": "stream",
     "text": [
      "{'Name': 'Ambreen', 'Gender': 'Female', 'Skills': ['Data Science', 'AI', 'DL', 'Data Analyst'], 'Marks': {'Data Science': 55, 'AI': 67, 'DL': 80}}\n"
     ]
    }
   ],
   "source": [
    "# popitems() for deleting\n",
    "d2.popitem()\n",
    "print(d2)"
   ]
  },
  {
   "cell_type": "code",
   "execution_count": null,
   "metadata": {},
   "outputs": [],
   "source": []
  }
 ],
 "metadata": {
  "kernelspec": {
   "display_name": "Python 3",
   "language": "python",
   "name": "python3"
  },
  "language_info": {
   "codemirror_mode": {
    "name": "ipython",
    "version": 3
   },
   "file_extension": ".py",
   "mimetype": "text/x-python",
   "name": "python",
   "nbconvert_exporter": "python",
   "pygments_lexer": "ipython3",
   "version": "3.12.1"
  }
 },
 "nbformat": 4,
 "nbformat_minor": 2
}
