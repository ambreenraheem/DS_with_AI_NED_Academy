{
 "cells": [
  {
   "cell_type": "markdown",
   "metadata": {},
   "source": [
    "# Assignment : 3"
   ]
  },
  {
   "cell_type": "markdown",
   "metadata": {},
   "source": [
    "# Data Type (List)\n",
    "In Programming: A data structure that holds an ordered collection of items, which can be of different types (e.g., integers, strings). In Python, for example, a list can be created using square brackets: [ ]\\\n",
    "List is immuteable."
   ]
  },
  {
   "cell_type": "markdown",
   "metadata": {},
   "source": [
    "1. Declare an empty List"
   ]
  },
  {
   "cell_type": "code",
   "execution_count": 113,
   "metadata": {},
   "outputs": [
    {
     "name": "stdout",
     "output_type": "stream",
     "text": [
      "<class 'list'>\n",
      "Declearingn Empty List []\n"
     ]
    }
   ],
   "source": [
    "# 1. Declair an empty list\n",
    "months_of_year = []\n",
    "print(type(months_of_year))                              # it will help you to know what is the data type```\n",
    "print(\"Declearingn Empty List\", months_of_year)          # represention of List is square brackets"
   ]
  },
  {
   "cell_type": "markdown",
   "metadata": {},
   "source": [
    "2. Declare a list with more than 5 items\n",
    "3. Find the length of your list "
   ]
  },
  {
   "cell_type": "code",
   "execution_count": 114,
   "metadata": {},
   "outputs": [
    {
     "name": "stdout",
     "output_type": "stream",
     "text": [
      "['January', 'Febuary', 'March', 'April', 'May', 'June', 'July', 'August', 'September', 'October', 'November', 'December']\n",
      "The length of my ist is: 12\n"
     ]
    }
   ],
   "source": [
    "# Let's make a list\n",
    "months_of_year = [\"January\", \"Febuary\", \"March\", \"April\", \"May\", \"June\", \"July\", \"August\",\"September\", \"October\", \"November\", \"December\"]\n",
    "print(months_of_year) \n",
    "# For length of the List\n",
    "print(\"The length of my ist is:\",len(months_of_year))"
   ]
  },
  {
   "cell_type": "markdown",
   "metadata": {},
   "source": [
    "Indexing always starts from 0.\\\n",
    "You can retrieving items one by one."
   ]
  },
  {
   "cell_type": "code",
   "execution_count": 115,
   "metadata": {},
   "outputs": [
    {
     "name": "stdout",
     "output_type": "stream",
     "text": [
      "January\n",
      "Febuary\n",
      "March\n",
      "April\n"
     ]
    }
   ],
   "source": [
    "# Positive Indexing always starts from (0,1,2,3,4,.....) & Negative Indexing starts from (-1,-2,-3,-4,....)\n",
    "# You can retrieving items one by one.\n",
    "print(months_of_year[0])\n",
    "print(months_of_year[1])\n",
    "print(months_of_year[2])\n",
    "print(months_of_year[3])"
   ]
  },
  {
   "cell_type": "markdown",
   "metadata": {},
   "source": [
    "Slicing [ inclusive : exclusive ]. Slicing means cut off.\\\n",
    "Exclusive means you have to read your list before that particular index.\\\n",
    "empty square brackets with collin means bring all items [rows:columns]"
   ]
  },
  {
   "cell_type": "code",
   "execution_count": 116,
   "metadata": {},
   "outputs": [
    {
     "name": "stdout",
     "output_type": "stream",
     "text": [
      "['January', 'Febuary', 'March', 'April', 'May', 'June', 'July', 'August', 'September', 'October', 'November', 'December']\n",
      "['January', 'July']\n",
      "['May', 'June', 'July', 'August']\n",
      "September\n",
      "['August', 'September', 'October', 'November', 'December']\n"
     ]
    }
   ],
   "source": [
    "# 1. Slicing [inclusive:exclusive]. Slicing means cut off. Exclusive means you have to read your list before that particular index. \n",
    "# empty square brackets with collin means bring all items [rows:columns]\n",
    "print(months_of_year[:]) \n",
    "print(months_of_year[0::6])\n",
    "print(months_of_year[4:8])\n",
    "print(months_of_year[8])\n",
    "print(months_of_year[7:])"
   ]
  },
  {
   "cell_type": "markdown",
   "metadata": {},
   "source": [
    "4. Get the first item, the middle item and the last item of the list"
   ]
  },
  {
   "cell_type": "code",
   "execution_count": 117,
   "metadata": {},
   "outputs": [
    {
     "name": "stdout",
     "output_type": "stream",
     "text": [
      "['January', 'June', 'November']\n",
      "['January', 'Febuary', 'March', 'April', 'May', 'June', 'July', 'August', 'September', 'October', 'November']\n",
      "['July', 'August', 'September', 'October', 'November']\n"
     ]
    }
   ],
   "source": [
    "print(months_of_year[0::5])                # it is closed answer\n",
    "print(months_of_year[0:11])\n",
    "print(months_of_year[-6:-1])"
   ]
  },
  {
   "cell_type": "code",
   "execution_count": 118,
   "metadata": {},
   "outputs": [
    {
     "name": "stdout",
     "output_type": "stream",
     "text": [
      "First item: January ,Middle item: July ,Last item: December\n"
     ]
    }
   ],
   "source": [
    "first_item = months_of_year[0]\n",
    "middle_item = months_of_year[len(months_of_year) // 2]             # This will give the middle item\n",
    "last_item = months_of_year[-1]\n",
    "print(\"First item:\",first_item,\",Middle item:\",middle_item,\",Last item:\",last_item)"
   ]
  },
  {
   "cell_type": "markdown",
   "metadata": {},
   "source": [
    "5. Declare a list called mixed_data_types, put your (name, age, height, marital status, address)"
   ]
  },
  {
   "cell_type": "code",
   "execution_count": 119,
   "metadata": {},
   "outputs": [
    {
     "name": "stdout",
     "output_type": "stream",
     "text": [
      "['Ambreen', 40, 5.6, 'married', 'Rafi Pride-II Malir, Karachi, Pakistan']\n"
     ]
    }
   ],
   "source": [
    "                      # name , age,  Hieght , marital status ,  Address\n",
    "mixed_data_types = [\"Ambreen\" , 40 , 5.6 , \"married\" , \"Rafi Pride-II Malir, Karachi, Pakistan\" ]\n",
    "print(mixed_data_types)"
   ]
  },
  {
   "cell_type": "markdown",
   "metadata": {},
   "source": [
    "6. Declare a list variable named IT_companies and assign initial values Facebook, Google,\n",
    "Microsoft, Apple, IBM, Oracle and Amazon, Print the list using print() and Print the\n",
    "number of companies in the list"
   ]
  },
  {
   "cell_type": "code",
   "execution_count": 156,
   "metadata": {},
   "outputs": [
    {
     "name": "stdout",
     "output_type": "stream",
     "text": [
      "['Facebook', 'Google', 'Microsoft', 'Apple', 'IBM', 'Oracle', 'Amazon']\n",
      "Number of companies: 7\n"
     ]
    }
   ],
   "source": [
    "# Declare the list variable\n",
    "# IT_companies1 = [\"Facebook\", \"Google\", \"Microsoft\", \"Apple\", \"IBM\", \"Oracle\", \"Amazon\"]\n",
    "\n",
    "# Print the list\n",
    "#print(IT_companies1)\n",
    "\n",
    "# Print the number of companies in the list\n",
    "#print(\"Number of companies:\", len(IT_companies1))"
   ]
  },
  {
   "cell_type": "markdown",
   "metadata": {},
   "source": [
    "7. Print the first, middle and last company"
   ]
  },
  {
   "cell_type": "code",
   "execution_count": 157,
   "metadata": {},
   "outputs": [
    {
     "name": "stdout",
     "output_type": "stream",
     "text": [
      "['Facebook', 'Google', 'Microsoft', 'Apple', 'IBM', 'Oracle', 'Amazon']\n",
      "['Facebook', 'Apple', 'Amazon']\n"
     ]
    }
   ],
   "source": [
    "# Print the list\n",
    "# print(IT_companies1)\n",
    "# print(IT_companies1[0::3])"
   ]
  },
  {
   "cell_type": "markdown",
   "metadata": {},
   "source": [
    "8. Print the list after modifying one of the companies"
   ]
  },
  {
   "cell_type": "code",
   "execution_count": 167,
   "metadata": {},
   "outputs": [
    {
     "name": "stdout",
     "output_type": "stream",
     "text": [
      "['Meta', 'Google', 'Microsoft', 'Apple', 'IBM', 'Oracle', 'Amazon']\n"
     ]
    }
   ],
   "source": [
    "# Declare the list variable\n",
    "# IT_companies1 = [\"Facebook\", \"Google\", \"Microsoft\", \"Apple\", \"IBM\", \"Oracle\", \"Amazon\"]\n",
    "\n",
    "# Modify one of the companies (e.g., change \"Facebook\" to \"Meta\")\n",
    "# IT_companies1[0] = \"Meta\"\n",
    "\n",
    "# Print the modified list\n",
    "# print(IT_companies1)"
   ]
  },
  {
   "cell_type": "markdown",
   "metadata": {},
   "source": [
    "9. Add an IT company to IT_companies"
   ]
  },
  {
   "cell_type": "code",
   "execution_count": 168,
   "metadata": {},
   "outputs": [
    {
     "name": "stdout",
     "output_type": "stream",
     "text": [
      "After appending new company name in the List: ['Meta', 'Google', 'Microsoft', 'Apple', 'IBM', 'Oracle', 'Amazon', 'Netlix']\n"
     ]
    }
   ],
   "source": [
    "# IT_companies1.append('Netlix')\n",
    "# print(\"After appending new company name in the List:\",IT_companies1)"
   ]
  },
  {
   "cell_type": "markdown",
   "metadata": {},
   "source": [
    "10. Insert an IT company in the middle of the companies list"
   ]
  },
  {
   "cell_type": "code",
   "execution_count": 169,
   "metadata": {},
   "outputs": [
    {
     "name": "stdout",
     "output_type": "stream",
     "text": [
      "['Meta', 'Google', 'Microsoft', 'Apple', 'X-company', 'IBM', 'Oracle', 'Amazon', 'Netlix']\n"
     ]
    }
   ],
   "source": [
    "\n",
    "# Calculate the index for the middle company\n",
    "#middle_index = len(IT_companies1) // 2\n",
    "\n",
    "# Insert an IT company in the middle\n",
    "#IT_companies1.insert(middle_index, \"X-company\")\n",
    "\n",
    "# Print the updated list of companies\n",
    "# print(IT_companies1)"
   ]
  },
  {
   "cell_type": "markdown",
   "metadata": {},
   "source": [
    "11. Change one of the IT_companies names to uppercase (IBM excluded!)"
   ]
  },
  {
   "cell_type": "code",
   "execution_count": 170,
   "metadata": {},
   "outputs": [
    {
     "data": {
      "text/plain": [
       "'X-COMPANY'"
      ]
     },
     "execution_count": 170,
     "metadata": {},
     "output_type": "execute_result"
    }
   ],
   "source": [
    "# IT_companies1[4].upper()"
   ]
  },
  {
   "cell_type": "markdown",
   "metadata": {},
   "source": [
    "12. Sort the list using sort () method"
   ]
  },
  {
   "cell_type": "code",
   "execution_count": 171,
   "metadata": {},
   "outputs": [
    {
     "name": "stdout",
     "output_type": "stream",
     "text": [
      "['Amazon', 'Apple', 'Google', 'IBM', 'Meta', 'Microsoft', 'Netlix', 'Oracle', 'X-company']\n"
     ]
    }
   ],
   "source": [
    "# IT_companies1.sort()\n",
    "# print(IT_companies1)"
   ]
  },
  {
   "cell_type": "markdown",
   "metadata": {},
   "source": [
    "13. Reverse the list in descending order using reverse() method"
   ]
  },
  {
   "cell_type": "code",
   "execution_count": 172,
   "metadata": {},
   "outputs": [
    {
     "name": "stdout",
     "output_type": "stream",
     "text": [
      "['X-company', 'Oracle', 'Netlix', 'Microsoft', 'Meta', 'IBM', 'Google', 'Apple', 'Amazon']\n"
     ]
    }
   ],
   "source": [
    "# IT_companies1.reverse()\n",
    "# print(IT_companies1)"
   ]
  },
  {
   "cell_type": "markdown",
   "metadata": {},
   "source": [
    "14. Slice out the first 3 companies from the list"
   ]
  },
  {
   "cell_type": "code",
   "execution_count": null,
   "metadata": {},
   "outputs": [],
   "source": [
    "# print(IT_companies1[0:3])"
   ]
  },
  {
   "cell_type": "markdown",
   "metadata": {},
   "source": [
    "15. Slice out the last 3 companies from the list"
   ]
  },
  {
   "cell_type": "code",
   "execution_count": null,
   "metadata": {},
   "outputs": [],
   "source": [
    "# print(IT_companies1[6:9])"
   ]
  },
  {
   "cell_type": "markdown",
   "metadata": {},
   "source": [
    "16. Slice out the middle IT company or companies from the list"
   ]
  },
  {
   "cell_type": "code",
   "execution_count": 175,
   "metadata": {},
   "outputs": [
    {
     "name": "stdout",
     "output_type": "stream",
     "text": [
      "Meta\n"
     ]
    }
   ],
   "source": [
    "# print(IT_companies1[4])"
   ]
  },
  {
   "cell_type": "markdown",
   "metadata": {},
   "source": [
    "17. Remove the first IT company from the list"
   ]
  },
  {
   "cell_type": "code",
   "execution_count": 176,
   "metadata": {},
   "outputs": [
    {
     "name": "stdout",
     "output_type": "stream",
     "text": [
      "['X-company', 'Oracle', 'Netlix', 'Microsoft', 'Meta', 'IBM', 'Google', 'Apple', 'Amazon']\n"
     ]
    }
   ],
   "source": [
    "# print(IT_companies1)\n",
    "# IT_companies1.remove(\"X-company\")\n"
   ]
  },
  {
   "cell_type": "code",
   "execution_count": 177,
   "metadata": {},
   "outputs": [
    {
     "name": "stdout",
     "output_type": "stream",
     "text": [
      "['Oracle', 'Netlix', 'Microsoft', 'Meta', 'IBM', 'Google', 'Apple', 'Amazon']\n"
     ]
    }
   ],
   "source": [
    "# print(IT_companies1)"
   ]
  },
  {
   "cell_type": "markdown",
   "metadata": {},
   "source": [
    "18. Remove the middle IT company or companies from the list"
   ]
  },
  {
   "cell_type": "code",
   "execution_count": 178,
   "metadata": {},
   "outputs": [
    {
     "name": "stdout",
     "output_type": "stream",
     "text": [
      "['Oracle', 'Netlix', 'Microsoft', 'Meta', 'IBM', 'Google', 'Apple', 'Amazon']\n",
      "['Oracle', 'Netlix', 'Microsoft', 'Meta', 'Google', 'Apple', 'Amazon']\n"
     ]
    }
   ],
   "source": [
    "# print(IT_companies1)\n",
    "# IT_companies1.remove(\"IBM\")\n",
    "# print(IT_companies1)"
   ]
  },
  {
   "cell_type": "markdown",
   "metadata": {},
   "source": [
    "19. Remove the last IT company from the list"
   ]
  },
  {
   "cell_type": "code",
   "execution_count": 179,
   "metadata": {},
   "outputs": [
    {
     "name": "stdout",
     "output_type": "stream",
     "text": [
      "['Oracle', 'Netlix', 'Microsoft', 'Meta', 'Google', 'Apple', 'Amazon']\n",
      "['Oracle', 'Netlix', 'Microsoft', 'Meta', 'Google', 'Apple']\n"
     ]
    }
   ],
   "source": [
    "# print(IT_companies1)\n",
    "# IT_companies1.remove(\"Amazon\")\n",
    "# print(IT_companies1)"
   ]
  },
  {
   "cell_type": "markdown",
   "metadata": {},
   "source": [
    "20. Remove all IT companies from the list"
   ]
  },
  {
   "cell_type": "code",
   "execution_count": 181,
   "metadata": {},
   "outputs": [
    {
     "name": "stdout",
     "output_type": "stream",
     "text": [
      "['Oracle', 'Netlix', 'Microsoft', 'Meta', 'Google', 'Apple']\n"
     ]
    }
   ],
   "source": [
    "# print(IT_companies1)\n",
    "# IT_companies1.clear()"
   ]
  },
  {
   "cell_type": "code",
   "execution_count": 182,
   "metadata": {},
   "outputs": [
    {
     "name": "stdout",
     "output_type": "stream",
     "text": [
      "[]\n"
     ]
    }
   ],
   "source": [
    "# print(IT_companies1)"
   ]
  },
  {
   "cell_type": "markdown",
   "metadata": {},
   "source": [
    "21. Destroy the IT companies list"
   ]
  },
  {
   "cell_type": "code",
   "execution_count": 183,
   "metadata": {},
   "outputs": [],
   "source": [
    "# del IT_companies1"
   ]
  },
  {
   "cell_type": "code",
   "execution_count": 184,
   "metadata": {},
   "outputs": [
    {
     "name": "stdout",
     "output_type": "stream",
     "text": [
      "Now the List of 'IT_companies' is completely destroyed with the 'delete function'.\n"
     ]
    }
   ],
   "source": [
    "# print(\"Now the List of 'IT_companies' is completely destroyed with the 'delete function'.\")"
   ]
  },
  {
   "cell_type": "markdown",
   "metadata": {},
   "source": [
    "22. Join the following lists:\n",
    "23. front_end = ['HTML', 'CSS', 'JS', 'React', 'Redux']\n",
    "back_end = ['Node','Express', 'MongoDB']"
   ]
  },
  {
   "cell_type": "code",
   "execution_count": 29,
   "metadata": {},
   "outputs": [
    {
     "name": "stdout",
     "output_type": "stream",
     "text": [
      "['HTML', 'CSS', 'JS', 'React', 'Redux'] ['Node', 'Express', 'MongoDB']\n"
     ]
    }
   ],
   "source": [
    "front_end = ['HTML', 'CSS', 'JS', 'React', 'Redux']\n",
    "back_end = ['Node','Express', 'MongoDB']\n",
    "print(front_end,back_end)"
   ]
  },
  {
   "cell_type": "markdown",
   "metadata": {},
   "source": [
    "24. After joining the lists in. Copy the joined list and assign it to a variable\n",
    "full_stack. Then insert Python and SQL after Redux."
   ]
  },
  {
   "cell_type": "code",
   "execution_count": 38,
   "metadata": {},
   "outputs": [
    {
     "name": "stdout",
     "output_type": "stream",
     "text": [
      "['HTML', 'CSS', 'JavaScript', 'React', 'Redux', 'Node.js', 'Express', 'MongoDB']\n",
      "['HTML', 'CSS', 'JavaScript', 'React', 'Redux', 'Python', 'SQL', 'Node.js', 'Express', 'MongoDB']\n"
     ]
    }
   ],
   "source": [
    "join_all=front_end + back_end\n",
    "print(join_all)\n",
    "full_stack=join_all\n",
    "full_stack.insert(5,'Python')\n",
    "full_stack.insert(6,'SQL')\n",
    "print(full_stack)"
   ]
  },
  {
   "cell_type": "markdown",
   "metadata": {},
   "source": [
    "25. The following is a list of 10 students ages:\n",
    "26. ages = [19, 22, 19, 24, 20, 25, 26, 24, 25, 24]"
   ]
  },
  {
   "cell_type": "code",
   "execution_count": 11,
   "metadata": {},
   "outputs": [
    {
     "name": "stdout",
     "output_type": "stream",
     "text": [
      "This is a List of 10 students ages: [19, 22, 19, 24, 20, 25, 26, 24, 25, 24]\n"
     ]
    }
   ],
   "source": [
    "# The following is a list of 10 students ages:\n",
    "ages = [19, 22, 19, 24, 20, 25, 26, 24, 25, 24]\n",
    "print(\"This is a List of 10 students ages:\",ages)"
   ]
  },
  {
   "cell_type": "markdown",
   "metadata": {},
   "source": [
    "27. Sort the list and find the min and max age"
   ]
  },
  {
   "cell_type": "code",
   "execution_count": 208,
   "metadata": {},
   "outputs": [
    {
     "name": "stdout",
     "output_type": "stream",
     "text": [
      "[19, 19, 20, 22, 24, 24, 24, 25, 25, 26]\n"
     ]
    }
   ],
   "source": [
    "ages.sort()\n",
    "print(ages)"
   ]
  },
  {
   "cell_type": "code",
   "execution_count": 209,
   "metadata": {},
   "outputs": [
    {
     "data": {
      "text/plain": [
       "26"
      ]
     },
     "execution_count": 209,
     "metadata": {},
     "output_type": "execute_result"
    }
   ],
   "source": [
    "# maximum\n",
    "max(ages)"
   ]
  },
  {
   "cell_type": "code",
   "execution_count": 210,
   "metadata": {},
   "outputs": [
    {
     "data": {
      "text/plain": [
       "19"
      ]
     },
     "execution_count": 210,
     "metadata": {},
     "output_type": "execute_result"
    }
   ],
   "source": [
    "# minimum\n",
    "min(ages)"
   ]
  },
  {
   "cell_type": "markdown",
   "metadata": {},
   "source": [
    "28. Add the min age and the max age again to the list"
   ]
  },
  {
   "cell_type": "code",
   "execution_count": 212,
   "metadata": {},
   "outputs": [
    {
     "name": "stdout",
     "output_type": "stream",
     "text": [
      "[19, 19, 20, 22, 24, 24, 24, 25, 25, 26]\n",
      "[19, 19, 20, 22, 24, 24, 24, 25, 25, 26, 26, 19]\n"
     ]
    }
   ],
   "source": [
    "print(ages)\n",
    "ages.append(26)               # appendd means add\n",
    "ages.append(19)\n",
    "print(ages)"
   ]
  },
  {
   "cell_type": "markdown",
   "metadata": {},
   "source": [
    "29. Find the median age (one middle item or two middle items divided by two)"
   ]
  },
  {
   "cell_type": "code",
   "execution_count": 18,
   "metadata": {},
   "outputs": [
    {
     "name": "stdout",
     "output_type": "stream",
     "text": [
      "24.0\n"
     ]
    }
   ],
   "source": [
    "two_middle_items=24+24\n",
    "print(two_middle_items/2)"
   ]
  },
  {
   "cell_type": "markdown",
   "metadata": {},
   "source": [
    "30. Find the average age (sum of all items divided by their number)"
   ]
  },
  {
   "cell_type": "code",
   "execution_count": 19,
   "metadata": {},
   "outputs": [
    {
     "name": "stdout",
     "output_type": "stream",
     "text": [
      "273\n",
      "Sum of all items is: 273\n",
      "The average of age is: 22.75\n"
     ]
    }
   ],
   "source": [
    "sum_of_ages=19+19+20+22+24+24+24+25+25+26+26+19\n",
    "print(sum_of_ages)\n",
    "print(\"Sum of all items is:\", sum_of_ages)\n",
    "average =273/12\n",
    "print(\"The average of age is:\",average)"
   ]
  },
  {
   "cell_type": "markdown",
   "metadata": {},
   "source": [
    "31. Find the range of the ages (max minus min)"
   ]
  },
  {
   "cell_type": "code",
   "execution_count": 14,
   "metadata": {},
   "outputs": [
    {
     "name": "stdout",
     "output_type": "stream",
     "text": [
      "The range of the ages is: 7\n"
     ]
    }
   ],
   "source": [
    "# Calculate the range\n",
    "age_range = 26 - 19\n",
    "print(\"The range of the ages is:\", age_range)"
   ]
  },
  {
   "cell_type": "markdown",
   "metadata": {},
   "source": [
    "32. Compare the value of (min - average) and (max - average), use abs () method"
   ]
  },
  {
   "cell_type": "code",
   "execution_count": 22,
   "metadata": {},
   "outputs": [
    {
     "name": "stdout",
     "output_type": "stream",
     "text": [
      "Absolute average of minimum difference is: 3.75 Absolute average of maximum difference is: 3.25\n",
      "True\n"
     ]
    }
   ],
   "source": [
    "\n",
    "# Calculating min, max, and average\n",
    "min_value = 19\n",
    "max_value = 26\n",
    "average = 22.75\n",
    "\n",
    "# Calculating absolute differences\n",
    "diff_min = abs(min_value - average)\n",
    "diff_max = abs(max_value - average)\n",
    "print(\"Absolute average of minimum difference is:\",diff_min, \"Absolute average of maximum difference is:\", diff_max)\n",
    "\n",
    "# Comparing the two values\n",
    "print(diff_min>diff_max)"
   ]
  },
  {
   "cell_type": "markdown",
   "metadata": {},
   "source": [
    "33. ['China', 'Russia', 'USA', 'Finland', 'Sweden', 'Norway', 'Denmark']. Unpack the first three\n",
    "countries and the rest as scandic countries.\n",
    "33. Divide the countries list into two equal lists if it is even if not one more country for the first\n",
    "half."
   ]
  },
  {
   "cell_type": "code",
   "execution_count": 58,
   "metadata": {},
   "outputs": [
    {
     "name": "stdout",
     "output_type": "stream",
     "text": [
      "['China', 'Russia', 'USA', 'Finland', 'Sweden', 'Norway', 'Denmark']\n"
     ]
    }
   ],
   "source": [
    "countries=['China', 'Russia', 'USA', 'Finland', 'Sweden', 'Norway', 'Denmark']\n",
    "print(countries)"
   ]
  },
  {
   "cell_type": "code",
   "execution_count": 48,
   "metadata": {},
   "outputs": [
    {
     "name": "stdout",
     "output_type": "stream",
     "text": [
      "First Country: China\n",
      "Second Country: Russia\n",
      "Third Country: USA\n",
      "Scandinavian Countries: ['Finland', 'Sweden', 'Norway', 'Denmark']\n"
     ]
    }
   ],
   "source": [
    "# Unpacking the first three countries and the rest as Scandinavian countries\n",
    "country_1st, country_2nd, country_3rd, *scandic_countries = countries\n",
    "\n",
    "# Print the results\n",
    "print(\"First Country:\", country_1st)\n",
    "print(\"Second Country:\", country_2nd)\n",
    "print(\"Third Country:\", country_3rd)\n",
    "print(\"Scandinavian Countries:\", scandic_countries)"
   ]
  },
  {
   "cell_type": "code",
   "execution_count": 54,
   "metadata": {},
   "outputs": [
    {
     "name": "stdout",
     "output_type": "stream",
     "text": [
      "First Half: ['China', 'Russia', 'USA', 'Finland']\n",
      "Second Half: ['Sweden', 'Norway', 'Denmark']\n"
     ]
    }
   ],
   "source": [
    "# Calculate the midpoint\n",
    "midpoint = (len(countries) + 1) // 2  # Adding 1 ensures the first half gets the extra country if odd\n",
    "\n",
    "# Divide the list into two halves\n",
    "first_half = countries[:midpoint]\n",
    "second_half = countries[midpoint:]\n",
    "\n",
    "# Print the results\n",
    "print(\"First Half:\", first_half)\n",
    "print(\"Second Half:\", second_half)"
   ]
  },
  {
   "cell_type": "markdown",
   "metadata": {},
   "source": [
    "35. Find the middle country(ies) in the countries list"
   ]
  },
  {
   "cell_type": "code",
   "execution_count": 55,
   "metadata": {},
   "outputs": [
    {
     "name": "stdout",
     "output_type": "stream",
     "text": [
      "Middle Country(ies) index is: 3 and it is (Finland)\n"
     ]
    }
   ],
   "source": [
    "# Calculate the length of the list\n",
    "length = len(countries)\n",
    "\n",
    "# Find the middle index\n",
    "middle_index = length // 2\n",
    "print(\"Middle Country(ies) index is:\", middle_index,\"and it is (Finland)\")"
   ]
  },
  {
   "cell_type": "markdown",
   "metadata": {},
   "source": [
    "# Data Type (Tuples)\n",
    "Tuples are used to store multiple items in a single variable.\\\n",
    "Tuple is one of 4 built-in data types in Python used to store collections of data, the other 3 are List, Set, and Dictionary, all with different qualities and usage.\\\n",
    "A tuple is a collection which is ordered and immutable.\\\n",
    "Tuples are written with round brackets."
   ]
  },
  {
   "cell_type": "markdown",
   "metadata": {},
   "source": [
    "1. Create an empty tuple\n",
    "2. Create a tuple containing names of your sisters and your brothers (imaginary siblings are fine)\n",
    "3. Join brothers and sisters tuples and assign it to siblings\n",
    "4. How many siblings do you have?\n",
    "5. Modify the siblings tuple and add the name of your father and mother and assign it to\n",
    "family_members.\n",
    "6. Unpack siblings and parents from family_members"
   ]
  },
  {
   "cell_type": "code",
   "execution_count": 59,
   "metadata": {},
   "outputs": [
    {
     "name": "stdout",
     "output_type": "stream",
     "text": [
      "Empty Tuple: ()\n",
      "Siblings: ('Shabana', 'Noureen', 'Murk', 'Salman', 'Kashif', 'Waqaur', 'Adnan')\n",
      "Number of Siblings: 7\n",
      "Family Members: ('Shabana', 'Noureen', 'Murk', 'Salman', 'Kashif', 'Waqaur', 'Adnan', 'Dad', 'Mom')\n",
      "Unpacked Siblings: ('Shabana', 'Noureen', 'Murk', 'Salman', 'Kashif', 'Waqaur', 'Adnan')\n",
      "Unpacked Parents: ('Dad', 'Mom')\n"
     ]
    }
   ],
   "source": [
    "# empty tuple\n",
    "empty_tuple = ()\n",
    "\n",
    "# Create a tuple containing names of your sisters and your brothers\n",
    "sisters = (\"Shabana\", \"Noureen\", \"Murk\")\n",
    "brothers = (\"Salman\", \"Kashif\",\"Waqaur\",\"Adnan\")\n",
    "\n",
    "# Join brothers and sisters tuples and assign it to siblings\n",
    "siblings = sisters + brothers\n",
    "\n",
    "# 4. How many siblings do you have?\n",
    "number_of_siblings = len(siblings)\n",
    "\n",
    "# 5. Modify the siblings tuple and add the name of your father and mother and assign it to family_members\n",
    "family_members = siblings + (\"Dad\", \"Mom\")\n",
    "\n",
    "\n",
    "# 6. Unpack siblings and parents from family_members\n",
    "siblings_unpacked, parents_unpacked = family_members[:-2], family_members[-2:]\n",
    "\n",
    "# Output the results\n",
    "print(\"Empty Tuple:\", empty_tuple)\n",
    "print(\"Siblings:\", siblings)\n",
    "print(\"Number of Siblings:\", number_of_siblings)\n",
    "print(\"Family Members:\", family_members)\n",
    "print(\"Unpacked Siblings:\", siblings_unpacked)\n",
    "print(\"Unpacked Parents:\", parents_unpacked)"
   ]
  },
  {
   "cell_type": "markdown",
   "metadata": {},
   "source": [
    "7. Create fruits, vegetables and animal products tuples. Join the three tuples and assign it to a\n",
    "variable called food_stuff_tp.\n",
    "8. Change the about food_stuff_tp tuple to a food_stuff_lt list\n",
    "9. Slice out the middle item or items from the food_stuff_tp tuple or food_stuff_lt list.\n",
    "10. Slice out the first three items and the last three items from food_staff_lt list\n",
    "11. Delete the food_staff_tp tuple completely."
   ]
  },
  {
   "cell_type": "code",
   "execution_count": 65,
   "metadata": {},
   "outputs": [
    {
     "name": "stdout",
     "output_type": "stream",
     "text": [
      "Food Stuff Tuple: ('apple', 'banana', 'cherry', 'date', 'elderberry', 'carrot', 'lettuce', 'spinach', 'potato', 'onion', 'milk', 'cheese', 'egg', 'yogurt')\n",
      "Food Stuff List: ['apple', 'banana', 'cherry', 'date', 'elderberry', 'carrot', 'lettuce', 'spinach', 'potato', 'onion', 'milk', 'cheese', 'egg', 'yogurt']\n",
      "Middle Items: 7\n",
      "First Three Items: ['apple', 'banana', 'cherry']\n",
      "Last Three Items: ['cheese', 'egg', 'yogurt']\n"
     ]
    }
   ],
   "source": [
    "# 7. Create fruits, vegetables, and animal products tuples\n",
    "fruits = (\"apple\", \"banana\", \"cherry\", \"date\", \"elderberry\")\n",
    "vegetables = (\"carrot\", \"lettuce\", \"spinach\", \"potato\", \"onion\")\n",
    "animal_products = (\"milk\", \"cheese\", \"egg\", \"yogurt\")\n",
    "\n",
    "# Join the three tuples and assign it to a variable called food_stuff_tp\n",
    "food_stuff_tp = fruits + vegetables + animal_products\n",
    "\n",
    "# 8. Change the food_stuff_tp tuple to a food_stuff_lt list\n",
    "food_stuff_lt = list(food_stuff_tp)\n",
    "\n",
    "# 9. Slice out the middle item or items from the food_stuff_lt list\n",
    "middle_index = len(food_stuff_lt) // 2\n",
    "\n",
    "# 10. Slice out the first three items and the last three items from food_stuff_lt list\n",
    "first_three_items = food_stuff_lt[:3]\n",
    "last_three_items = food_stuff_lt[-3:]\n",
    "\n",
    "# 11. Delete the food_stuff_tp tuple completely\n",
    "# del food_stuff_tp\n",
    "\n",
    "# Output the results\n",
    "print(\"Food Stuff Tuple:\", food_stuff_tp)  # This will raise an error since it's deleted\n",
    "print(\"Food Stuff List:\", food_stuff_lt)\n",
    "print(\"Middle Items:\", middle_index)\n",
    "print(\"First Three Items:\", first_three_items)\n",
    "print(\"Last Three Items:\", last_three_items)"
   ]
  },
  {
   "cell_type": "markdown",
   "metadata": {},
   "source": [
    "# Data Type (Sets):\n"
   ]
  },
  {
   "cell_type": "markdown",
   "metadata": {},
   "source": [
    "Sets are useful for storing collections of unique items and performing mathematical operations like unions and intersections. They are frequently used in scenarios where the uniqueness of elements is important, such as filtering duplicates from a list.\n",
    "\n",
    "Common Operations: Sets support various operations such as union, intersection, difference, and symmetric difference.\n",
    "\n",
    "Mutable: Sets can be modified after their creation. You can add or remove items."
   ]
  },
  {
   "cell_type": "markdown",
   "metadata": {},
   "source": [
    "1. Find the length of the set it_companies"
   ]
  },
  {
   "cell_type": "code",
   "execution_count": 77,
   "metadata": {},
   "outputs": [],
   "source": [
    "it_companies = {'Facebook', 'Google', 'Microsoft', 'Apple', 'IBM', 'Oracle',\n",
    "'Amazon'}\n"
   ]
  },
  {
   "cell_type": "code",
   "execution_count": 76,
   "metadata": {},
   "outputs": [
    {
     "name": "stdout",
     "output_type": "stream",
     "text": [
      "7\n"
     ]
    }
   ],
   "source": [
    "it_companies = {'Facebook', 'Google', 'Microsoft', 'Apple', 'IBM', 'Oracle', 'Amazon'}\n",
    "length = len(it_companies)\n",
    "print(length)"
   ]
  },
  {
   "cell_type": "markdown",
   "metadata": {},
   "source": [
    "2. Add 'Twitter' to it_companies"
   ]
  },
  {
   "cell_type": "code",
   "execution_count": 80,
   "metadata": {},
   "outputs": [
    {
     "name": "stdout",
     "output_type": "stream",
     "text": [
      "{'Apple', 'Oracle', 'Amazon', 'Google', 'IBM', 'Microsoft', 'Facebook', 'Twitter'}\n"
     ]
    }
   ],
   "source": [
    "it_companies.add('Twitter')\n",
    "print(it_companies) "
   ]
  },
  {
   "cell_type": "markdown",
   "metadata": {},
   "source": [
    "3. Insert multiple IT companies at once to the set it_companies"
   ]
  },
  {
   "cell_type": "code",
   "execution_count": 81,
   "metadata": {},
   "outputs": [
    {
     "name": "stdout",
     "output_type": "stream",
     "text": [
      "{'Amazon', 'Snapchat', 'IBM', 'Microsoft', 'Spotify', 'Facebook', 'LinkedIn', 'Apple', 'Google', 'Oracle', 'Twitter'}\n"
     ]
    }
   ],
   "source": [
    "new_companies = {'LinkedIn', 'Snapchat', 'Spotify'}\n",
    "it_companies.update(new_companies)\n",
    "print(it_companies) "
   ]
  },
  {
   "cell_type": "markdown",
   "metadata": {},
   "source": [
    "4. Remove one of the companies from the set it_companies"
   ]
  },
  {
   "cell_type": "code",
   "execution_count": 82,
   "metadata": {},
   "outputs": [
    {
     "name": "stdout",
     "output_type": "stream",
     "text": [
      "{'Amazon', 'Snapchat', 'IBM', 'Microsoft', 'Spotify', 'LinkedIn', 'Apple', 'Google', 'Oracle', 'Twitter'}\n"
     ]
    }
   ],
   "source": [
    "it_companies.remove('Facebook')  # Replace 'Facebook' with any company you want to remove\n",
    "print(it_companies)"
   ]
  },
  {
   "cell_type": "markdown",
   "metadata": {},
   "source": [
    "5. remove: This method removes a specified element from the set. If the element is not found, it raises a KeyError.\\\n",
    "discard: This method also removes a specified element from the set, but if the element is not found, it does nothing and does not raise an error."
   ]
  },
  {
   "cell_type": "markdown",
   "metadata": {},
   "source": [
    "#### New Sets"
   ]
  },
  {
   "cell_type": "code",
   "execution_count": 69,
   "metadata": {},
   "outputs": [],
   "source": [
    "A = {19, 22, 24, 20, 25, 26}\n",
    "B = {19, 22, 20, 25, 26, 24, 28, 27}"
   ]
  },
  {
   "cell_type": "markdown",
   "metadata": {},
   "source": [
    "6. Join A and B"
   ]
  },
  {
   "cell_type": "code",
   "execution_count": 68,
   "metadata": {},
   "outputs": [
    {
     "name": "stdout",
     "output_type": "stream",
     "text": [
      "{19, 20, 22, 24, 25, 26, 27, 28}\n"
     ]
    }
   ],
   "source": [
    "A = {19, 22, 24, 20, 25, 26}\n",
    "B = {19, 22, 20, 25, 26, 24, 28, 27}\n",
    "union = A.union(B)  # or A | B\n",
    "print(union)"
   ]
  },
  {
   "cell_type": "markdown",
   "metadata": {},
   "source": [
    "7. Find A intersection B"
   ]
  },
  {
   "cell_type": "code",
   "execution_count": 67,
   "metadata": {},
   "outputs": [
    {
     "name": "stdout",
     "output_type": "stream",
     "text": [
      "{19, 20, 22, 24, 25, 26}\n"
     ]
    }
   ],
   "source": [
    "intersection = A.intersection(B)  # or A & B\n",
    "print(intersection)"
   ]
  },
  {
   "cell_type": "markdown",
   "metadata": {},
   "source": [
    "8. Is A subset of B"
   ]
  },
  {
   "cell_type": "code",
   "execution_count": 70,
   "metadata": {},
   "outputs": [
    {
     "name": "stdout",
     "output_type": "stream",
     "text": [
      "True\n"
     ]
    }
   ],
   "source": [
    "is_subset = A.issubset(B)\n",
    "print(is_subset)  # Output: True or False"
   ]
  },
  {
   "cell_type": "markdown",
   "metadata": {},
   "source": [
    "9. Are A and B disjoint sets"
   ]
  },
  {
   "cell_type": "code",
   "execution_count": 71,
   "metadata": {},
   "outputs": [
    {
     "name": "stdout",
     "output_type": "stream",
     "text": [
      "False\n"
     ]
    }
   ],
   "source": [
    "are_disjoint = A.isdisjoint(B)\n",
    "print(are_disjoint)  # Output: True or False"
   ]
  },
  {
   "cell_type": "markdown",
   "metadata": {},
   "source": [
    "10. Join A with B and B with A"
   ]
  },
  {
   "cell_type": "code",
   "execution_count": 73,
   "metadata": {},
   "outputs": [
    {
     "name": "stdout",
     "output_type": "stream",
     "text": [
      "{19, 20, 22, 24, 25, 26, 27, 28}\n",
      "{19, 20, 22, 24, 25, 26, 27, 28}\n"
     ]
    }
   ],
   "source": [
    "join_a_b = A.union(B)  # A joined with B\n",
    "join_b_a= B.union(A)  # B joined with A\n",
    "print(join_a_b)\n",
    "print(join_b_a)"
   ]
  },
  {
   "cell_type": "markdown",
   "metadata": {},
   "source": [
    "11. What is the symmetric difference between A and B"
   ]
  },
  {
   "cell_type": "code",
   "execution_count": 74,
   "metadata": {},
   "outputs": [
    {
     "name": "stdout",
     "output_type": "stream",
     "text": [
      "{27, 28}\n"
     ]
    }
   ],
   "source": [
    "symmetric_difference = A.symmetric_difference(B)  # or A ^ B\n",
    "print(symmetric_difference)"
   ]
  },
  {
   "cell_type": "code",
   "execution_count": null,
   "metadata": {},
   "outputs": [],
   "source": [
    "# del A\n",
    "# del B"
   ]
  },
  {
   "cell_type": "markdown",
   "metadata": {},
   "source": [
    "13. Convert the ages to a set and compare the length of the list and the set:\\\n",
    "First you have to print the set of ages."
   ]
  },
  {
   "cell_type": "code",
   "execution_count": 83,
   "metadata": {},
   "outputs": [
    {
     "name": "stdout",
     "output_type": "stream",
     "text": [
      "[19, 22, 19, 24, 20, 25, 26, 24, 25, 24]\n"
     ]
    }
   ],
   "source": [
    "age = [22, 19, 24, 25, 26, 24, 25, 24]\n",
    "print(ages)"
   ]
  },
  {
   "cell_type": "code",
   "execution_count": 95,
   "metadata": {},
   "outputs": [
    {
     "name": "stdout",
     "output_type": "stream",
     "text": [
      "{19, 22, 24, 25, 26}\n",
      "[22, 19, 24, 25, 26, 24, 25, 24]\n",
      "Length of the list: 8\n",
      "Length of the set: 5\n",
      "The List is bigger than the Set. True\n"
     ]
    }
   ],
   "source": [
    "# Convert to set\n",
    "age_set = set(age)\n",
    "print(age_set)\n",
    "\n",
    "age_list = list(age)\n",
    "print(age_list)\n",
    "\n",
    "# Compare lengths\n",
    "length_list = len(age)\n",
    "length_set = len(age_set)\n",
    "\n",
    "print(\"Length of the list:\", length_list)  # Output: 8\n",
    "print(\"Length of the set:\", length_set)    # Output: 5 (duplicates removed)\n",
    "\n",
    "# Which one is bigger?\n",
    "print(\"The List is bigger than the Set.\", length_list > length_set,)"
   ]
  },
  {
   "cell_type": "markdown",
   "metadata": {},
   "source": [
    "Tuple:\n",
    "\n",
    "A tuple is similar to a list but is immutable, meaning once created, the items cannot be changed.\n",
    "Tuples are often used to group related data.\n",
    "Example: (1, 2, 3, 'apple', 'banana')\n",
    "\n",
    "\n",
    "Set:\n",
    "\n",
    "A set is an unordered collection of unique items, meaning it cannot contain duplicates.\n",
    "Sets are mutable, but since they are unordered, the items do not have a specific index.\n",
    "Example: {1, 2, 3, 'apple', 'banana'}"
   ]
  }
 ],
 "metadata": {
  "kernelspec": {
   "display_name": "Python 3",
   "language": "python",
   "name": "python3"
  },
  "language_info": {
   "codemirror_mode": {
    "name": "ipython",
    "version": 3
   },
   "file_extension": ".py",
   "mimetype": "text/x-python",
   "name": "python",
   "nbconvert_exporter": "python",
   "pygments_lexer": "ipython3",
   "version": "3.12.1"
  }
 },
 "nbformat": 4,
 "nbformat_minor": 2
}
