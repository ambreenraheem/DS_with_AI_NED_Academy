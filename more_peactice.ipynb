{
 "cells": [
  {
   "cell_type": "markdown",
   "metadata": {},
   "source": [
    "## More practice of all class work"
   ]
  },
  {
   "cell_type": "markdown",
   "metadata": {},
   "source": [
    "Static program:"
   ]
  },
  {
   "cell_type": "code",
   "execution_count": 3,
   "metadata": {},
   "outputs": [],
   "source": [
    "# Assigning variable\n",
    "name= \"Ahmed\"\n",
    "namek= \"Kashif\"\n",
    "nameA= \"Ambreen\"\n",
    "namew= \"Waquar\"\n",
    "age= 35\n",
    "agek= 44\n",
    "ageA= 40\n",
    "agew= 54\n",
    "student=\"Post Gradute Program\"\n",
    "course=\"Data Science with Artificial Intelligence\"\n",
    "duration_of_course= \"One year\"\n",
    "course_mode1=\"on site\"\n",
    "course_mode2=\"online\"\n",
    "date_of_admission=\"25_June_2024\"\n",
    "date_of_admissionk= \"23_June_2024\"\n",
    "date_of_admissionA= \"25_June_2024\"\n",
    "date_of_admissionw= \"20_June_2024\"\n",
    "teacher=\"Sir Sajid Majeed\"\n",
    "subject=\"Pythin for Data Science\"\n",
    "university_name=\"NED Academy (Empowring For Professional Excellence)\"\n",
    "city=\"Karachi\"\n",
    "cityk= \"Islamabad\"\n",
    "cityA= \"Karachi\"\n",
    "cityw= \"Hyderabad\""
   ]
  },
  {
   "cell_type": "code",
   "execution_count": 8,
   "metadata": {},
   "outputs": [
    {
     "name": "stdout",
     "output_type": "stream",
     "text": [
      "Name:\t\t\t Ahmed\n",
      "Age:\t\t\t 35\n",
      "Student:\t\t Post Gradute Program\n",
      "Duration of course:\t One year\n",
      "Course mode:\t\t on site\n",
      "Admission date:\t\t 25_June_2024\n",
      "Teacher Name:\t\t Sir Sajid Majeed\n",
      "Subject:\t\t Pythin for Data Science\n",
      "University Name:\t NED Academy (Empowring For Professional Excellence)\n",
      "City Name:\t\t Karachi\n"
     ]
    }
   ],
   "source": [
    "# 1st data \n",
    "print(\"Name:\\t\\t\\t\", name)\n",
    "print(\"Age:\\t\\t\\t\", age)\n",
    "print(\"Student:\\t\\t\", student)\n",
    "print(\"Duration of course:\\t\", duration_of_course)\n",
    "print(\"Course mode:\\t\\t\", course_mode1)\n",
    "print(\"Admission date:\\t\\t\", date_of_admission)\n",
    "print(\"Teacher Name:\\t\\t\", teacher)\n",
    "print(\"Subject:\\t\\t\", subject)\n",
    "print(\"University Name:\\t\", university_name)\n",
    "print(\"City Name:\\t\\t\", city)"
   ]
  },
  {
   "cell_type": "code",
   "execution_count": 4,
   "metadata": {},
   "outputs": [
    {
     "name": "stdout",
     "output_type": "stream",
     "text": [
      "Name:\t\t\t Kashif\n",
      "Age:\t\t\t 44\n",
      "Student:\t\t Post Gradute Program\n",
      "Duration of course:\t One year\n",
      "Course mode:\t\t online\n",
      "Admission date:\t\t 23_June_2024\n",
      "Teacher Name:\t\t Sir Sajid Majeed\n",
      "Subject:\t\t Pythin for Data Science\n",
      "University Name:\t NED Academy (Empowring For Professional Excellence)\n",
      "City Name:\t\t Islamabad\n"
     ]
    }
   ],
   "source": [
    "# 2nd data\n",
    "print(\"Name:\\t\\t\\t\", namek)\n",
    "print(\"Age:\\t\\t\\t\", agek)\n",
    "print(\"Student:\\t\\t\", student)\n",
    "print(\"Duration of course:\\t\", duration_of_course)\n",
    "print(\"Course mode:\\t\\t\", course_mode2)\n",
    "print(\"Admission date:\\t\\t\", date_of_admissionk)\n",
    "print(\"Teacher Name:\\t\\t\", teacher)\n",
    "print(\"Subject:\\t\\t\", subject)\n",
    "print(\"University Name:\\t\", university_name)\n",
    "print(\"City Name:\\t\\t\", cityk)"
   ]
  },
  {
   "cell_type": "code",
   "execution_count": 6,
   "metadata": {},
   "outputs": [
    {
     "name": "stdout",
     "output_type": "stream",
     "text": [
      "Name:\t\t\t Ambreen\n",
      "Age:\t\t\t 40\n",
      "Student:\t\t Post Gradute Program\n",
      "Duration of course:\t One year\n",
      "Course mode:\t\t on site\n",
      "Admission date:\t\t 25_June_2024\n",
      "Teacher Name:\t\t Sir Sajid Majeed\n",
      "Subject:\t\t Pythin for Data Science\n",
      "University Name:\t NED Academy (Empowring For Professional Excellence)\n",
      "City Name:\t\t Karachi\n"
     ]
    }
   ],
   "source": [
    "# 3rd data\n",
    "print(\"Name:\\t\\t\\t\", nameA)\n",
    "print(\"Age:\\t\\t\\t\", ageA)\n",
    "print(\"Student:\\t\\t\", student)\n",
    "print(\"Duration of course:\\t\", duration_of_course)\n",
    "print(\"Course mode:\\t\\t\", course_mode1)\n",
    "print(\"Admission date:\\t\\t\", date_of_admissionA)\n",
    "print(\"Teacher Name:\\t\\t\", teacher)\n",
    "print(\"Subject:\\t\\t\", subject)\n",
    "print(\"University Name:\\t\", university_name)\n",
    "print(\"City Name:\\t\\t\", cityA)"
   ]
  },
  {
   "cell_type": "code",
   "execution_count": 9,
   "metadata": {},
   "outputs": [
    {
     "name": "stdout",
     "output_type": "stream",
     "text": [
      "Name:\t\t\t Waquar\n",
      "Age:\t\t\t 54\n",
      "Student:\t\t Post Gradute Program\n",
      "Duration of course:\t One year\n",
      "Course mode:\t\t online\n",
      "Admission date:\t\t 20_June_2024\n",
      "Teacher Name:\t\t Sir Sajid Majeed\n",
      "Subject:\t\t Pythin for Data Science\n",
      "University Name:\t NED Academy (Empowring For Professional Excellence)\n",
      "City Name:\t\t Hyderabad\n"
     ]
    }
   ],
   "source": [
    "# 4th data\n",
    "print(\"Name:\\t\\t\\t\", namew)\n",
    "print(\"Age:\\t\\t\\t\", agew)\n",
    "print(\"Student:\\t\\t\", student)\n",
    "print(\"Duration of course:\\t\", duration_of_course)\n",
    "print(\"Course mode:\\t\\t\", course_mode2)\n",
    "print(\"Admission date:\\t\\t\", date_of_admissionw)\n",
    "print(\"Teacher Name:\\t\\t\", teacher)\n",
    "print(\"Subject:\\t\\t\", subject)\n",
    "print(\"University Name:\\t\", university_name)\n",
    "print(\"City Name:\\t\\t\", cityw)"
   ]
  },
  {
   "cell_type": "markdown",
   "metadata": {},
   "source": [
    "#### Dynamic program:"
   ]
  },
  {
   "cell_type": "code",
   "execution_count": 32,
   "metadata": {},
   "outputs": [],
   "source": [
    "data1={'name':'Ahmed','age':35,'student': 'Post Gradute Program','duration of course':'One Year','course_mode1':'on site','date_of_admission':'25_June_2024','teacher':'Sir Sajid Majeed','subject':'Pythin for Data Science','university_name':'NED Academy (Empowring For Professional Excellence)','city':'Karachi'}\n",
    "data2={'namek':'Kashif','agek': 44, 'student': 'Post Gradute Program', 'duration_of_course':'One Year','course_mode2':'online','date_of_admissionk':'23_June_2024','teacher':'Sir Sajid Majeed','subject':'Python for Data Science','university_name':'NED Academy (Empowring For Professional Excellence)','cityk':'Islamabad'}"
   ]
  },
  {
   "cell_type": "code",
   "execution_count": 35,
   "metadata": {},
   "outputs": [
    {
     "name": "stdout",
     "output_type": "stream",
     "text": [
      "Your desired data is:\t dataA\n",
      "Your desired data is:\t dataK\n"
     ]
    }
   ],
   "source": [
    "dataA={'name':'Ahmed','age':35,'student': 'Post Gradute Program','duration of course':'One Year','course_mode1':'on site','date_of_admission':'25_June_2024','teacher':'Sir Sajid Majeed','subject':'Pythin for Data Science','university_name':'NED Academy (Empowring For Professional Excellence)','city':'Karachi'}\n",
    "dataK={'namek':'Kashif','agek': 44, 'student': 'Post Gradute Program', 'duration_of_course':'One Year','course_mode2':'online','date_of_admissionk':'23_June_2024','teacher':'Sir Sajid Majeed','subject':'Python for Data Science','university_name':'NED Academy (Empowring For Professional Excellence)','cityk':'Islamabad'}\n",
    "\n",
    "dataA=input(\"Enter your desired data\")\n",
    "dataK=input(\"Enter your desired data\")\n",
    "print(\"Your desired data is:\\t\",dataA)\n",
    "print(\"Your desired data is:\\t\",dataK)\n",
    "# Will continue later"
   ]
  },
  {
   "cell_type": "markdown",
   "metadata": {},
   "source": [
    "#### \"This is time-consuming, so we need to work with a dictionary to create and manage data for each person.\""
   ]
  },
  {
   "cell_type": "markdown",
   "metadata": {},
   "source": [
    "## Dictionary"
   ]
  },
  {
   "cell_type": "code",
   "execution_count": 13,
   "metadata": {},
   "outputs": [
    {
     "name": "stdout",
     "output_type": "stream",
     "text": [
      "{'name': 'Ahmed', 'age': 35, 'student': 'Post Gradute Program', 'duration of course': 'One Year', 'course_mode1': 'on site', 'date_of_admission': '25_June_2024', 'teacher': 'Sir Sajid Majeed', 'subject': 'Pythin for Data Science', 'university_name': 'NED Academy (Empowring For Professional Excellence)', 'city': 'Karachi'}\n",
      "{'namek': 'Kashif', 'agek': 44, 'student': 'Post Gradute Program', 'duration_of_course': 'One Year', 'course_mode2': 'online', 'date_of_admissionk': '23_June_2024', 'teacher': 'Sir Sajid Majeed', 'subject': 'Python for Data Science', 'university_name': 'NED Academy (Empowring For Professional Excellence)', 'cityk': 'Islamabad'}\n",
      "{'nameA': 'Ambreen', 'agek': 40, 'student': 'Post Gradute Program', 'duration_of_course': 'One Year', 'course_mode1': 'on site', 'date_of_admissionA': '25_June_2024', 'teacher': 'Sir Sajid Majeed', 'subject': 'Python for Data Science', 'university_name': 'NED Academy (Empowring For Professional Excellence)', 'cityA': 'Karachi'}\n",
      "{'namew': 'Waquar', 'agew': 54, 'student': 'Post Gradute Program', 'duration_of_course': 'One Year', 'course_mode2': 'online', 'date_of_admissionw': '20_June_2024', 'teacher': 'Sir Sajid Majeed', 'subject': 'Python for Data Science', 'university_name': 'NED Academy (Empowring For Professional Excellence)', 'cityw': 'Hyderabad'}\n"
     ]
    }
   ],
   "source": [
    "data1={'name':'Ahmed','age':35,'student': 'Post Gradute Program','duration of course':'One Year','course_mode1':'on site','date_of_admission':'25_June_2024','teacher':'Sir Sajid Majeed','subject':'Pythin for Data Science','university_name':'NED Academy (Empowring For Professional Excellence)','city':'Karachi'}\n",
    "data2={'namek':'Kashif','agek': 44, 'student': 'Post Gradute Program', 'duration_of_course':'One Year','course_mode2':'online','date_of_admissionk':'23_June_2024','teacher':'Sir Sajid Majeed','subject':'Python for Data Science','university_name':'NED Academy (Empowring For Professional Excellence)','cityk':'Islamabad'}\n",
    "data3={'nameA':'Ambreen','agek': 40, 'student': 'Post Gradute Program', 'duration_of_course':'One Year','course_mode1':'on site','date_of_admissionA':'25_June_2024','teacher':'Sir Sajid Majeed','subject':'Python for Data Science','university_name':'NED Academy (Empowring For Professional Excellence)','cityA':'Karachi'}\n",
    "data4={'namew':'Waquar','agew': 54, 'student': 'Post Gradute Program', 'duration_of_course':'One Year','course_mode2':'online','date_of_admissionw':'20_June_2024','teacher':'Sir Sajid Majeed','subject':'Python for Data Science','university_name':'NED Academy (Empowring For Professional Excellence)','cityw':'Hyderabad'}\n",
    "print(data1)\n",
    "print(data2)\n",
    "print(data3)\n",
    "print(data4)"
   ]
  },
  {
   "cell_type": "markdown",
   "metadata": {},
   "source": [
    "#### Conditional Statement with Dictionary"
   ]
  },
  {
   "cell_type": "code",
   "execution_count": 28,
   "metadata": {},
   "outputs": [
    {
     "name": "stdout",
     "output_type": "stream",
     "text": [
      "This is Ambreen's Data: {'nameA': 'Ambreen', 'agek': 40, 'student': 'Post Gradute Program', 'duration_of_course': 'One Year', 'course_mode1': 'on site', 'date_of_admissionA': '25_June_2024', 'teacher': 'Sir Sajid Majeed', 'subject': 'Python for Data Science', 'university_name': 'NED Academy (Empowring For Professional Excellence)', 'cityA': 'Karachi'}\n"
     ]
    }
   ],
   "source": [
    "user_input=input(\"Enter your desired data information:\")\n",
    "if user_input==\"data1\":\n",
    "    print(\"This is Ahmed's Data:\", data1)\n",
    "elif user_input==\"data2\":\n",
    "        print(\"This is Kashif's Data:\", data2)\n",
    "elif user_input==\"data3\":\n",
    "            print(\"This is Ambreen's Data:\", data3)\n",
    "elif user_input==\"data4\":\n",
    "                print(\"This is Waquar's Data:\",data4)\n",
    "else:\n",
    "    print(\"Please Enter correct Name that you need to know.\")"
   ]
  },
  {
   "cell_type": "code",
   "execution_count": null,
   "metadata": {},
   "outputs": [],
   "source": []
  }
 ],
 "metadata": {
  "kernelspec": {
   "display_name": "Python 3",
   "language": "python",
   "name": "python3"
  },
  "language_info": {
   "codemirror_mode": {
    "name": "ipython",
    "version": 3
   },
   "file_extension": ".py",
   "mimetype": "text/x-python",
   "name": "python",
   "nbconvert_exporter": "python",
   "pygments_lexer": "ipython3",
   "version": "3.12.1"
  }
 },
 "nbformat": 4,
 "nbformat_minor": 2
}
