{
 "cells": [
  {
   "cell_type": "markdown",
   "metadata": {},
   "source": [
    "## More practice of all class work"
   ]
  },
  {
   "cell_type": "markdown",
   "metadata": {},
   "source": [
    "Static program:"
   ]
  },
  {
   "cell_type": "code",
   "execution_count": 3,
   "metadata": {},
   "outputs": [],
   "source": [
    "# Assigning variable\n",
    "name= \"Ahmed\"\n",
    "namek= \"Kashif\"\n",
    "nameA= \"Ambreen\"\n",
    "namew= \"Waquar\"\n",
    "age= 35\n",
    "agek= 44\n",
    "ageA= 40\n",
    "agew= 54\n",
    "student=\"Post Gradute Program\"\n",
    "course=\"Data Science with Artificial Intelligence\"\n",
    "duration_of_course= \"One year\"\n",
    "course_mode1=\"on site\"\n",
    "course_mode2=\"online\"\n",
    "date_of_admission=\"25_June_2024\"\n",
    "date_of_admissionk= \"23_June_2024\"\n",
    "date_of_admissionA= \"25_June_2024\"\n",
    "date_of_admissionw= \"20_June_2024\"\n",
    "teacher=\"Sir Sajid Majeed\"\n",
    "subject=\"Pythin for Data Science\"\n",
    "university_name=\"NED Academy (Empowring For Professional Excellence)\"\n",
    "city=\"Karachi\"\n",
    "cityk= \"Islamabad\"\n",
    "cityA= \"Karachi\"\n",
    "cityw= \"Hyderabad\""
   ]
  },
  {
   "cell_type": "code",
   "execution_count": 8,
   "metadata": {},
   "outputs": [
    {
     "name": "stdout",
     "output_type": "stream",
     "text": [
      "Name:\t\t\t Ahmed\n",
      "Age:\t\t\t 35\n",
      "Student:\t\t Post Gradute Program\n",
      "Duration of course:\t One year\n",
      "Course mode:\t\t on site\n",
      "Admission date:\t\t 25_June_2024\n",
      "Teacher Name:\t\t Sir Sajid Majeed\n",
      "Subject:\t\t Pythin for Data Science\n",
      "University Name:\t NED Academy (Empowring For Professional Excellence)\n",
      "City Name:\t\t Karachi\n"
     ]
    }
   ],
   "source": [
    "# 1st data \n",
    "print(\"Name:\\t\\t\\t\", name)\n",
    "print(\"Age:\\t\\t\\t\", age)\n",
    "print(\"Student:\\t\\t\", student)\n",
    "print(\"Duration of course:\\t\", duration_of_course)\n",
    "print(\"Course mode:\\t\\t\", course_mode1)\n",
    "print(\"Admission date:\\t\\t\", date_of_admission)\n",
    "print(\"Teacher Name:\\t\\t\", teacher)\n",
    "print(\"Subject:\\t\\t\", subject)\n",
    "print(\"University Name:\\t\", university_name)\n",
    "print(\"City Name:\\t\\t\", city)"
   ]
  },
  {
   "cell_type": "code",
   "execution_count": 4,
   "metadata": {},
   "outputs": [
    {
     "name": "stdout",
     "output_type": "stream",
     "text": [
      "Name:\t\t\t Kashif\n",
      "Age:\t\t\t 44\n",
      "Student:\t\t Post Gradute Program\n",
      "Duration of course:\t One year\n",
      "Course mode:\t\t online\n",
      "Admission date:\t\t 23_June_2024\n",
      "Teacher Name:\t\t Sir Sajid Majeed\n",
      "Subject:\t\t Pythin for Data Science\n",
      "University Name:\t NED Academy (Empowring For Professional Excellence)\n",
      "City Name:\t\t Islamabad\n"
     ]
    }
   ],
   "source": [
    "# 2nd data\n",
    "print(\"Name:\\t\\t\\t\", namek)\n",
    "print(\"Age:\\t\\t\\t\", agek)\n",
    "print(\"Student:\\t\\t\", student)\n",
    "print(\"Duration of course:\\t\", duration_of_course)\n",
    "print(\"Course mode:\\t\\t\", course_mode2)\n",
    "print(\"Admission date:\\t\\t\", date_of_admissionk)\n",
    "print(\"Teacher Name:\\t\\t\", teacher)\n",
    "print(\"Subject:\\t\\t\", subject)\n",
    "print(\"University Name:\\t\", university_name)\n",
    "print(\"City Name:\\t\\t\", cityk)"
   ]
  },
  {
   "cell_type": "code",
   "execution_count": 6,
   "metadata": {},
   "outputs": [
    {
     "name": "stdout",
     "output_type": "stream",
     "text": [
      "Name:\t\t\t Ambreen\n",
      "Age:\t\t\t 40\n",
      "Student:\t\t Post Gradute Program\n",
      "Duration of course:\t One year\n",
      "Course mode:\t\t on site\n",
      "Admission date:\t\t 25_June_2024\n",
      "Teacher Name:\t\t Sir Sajid Majeed\n",
      "Subject:\t\t Pythin for Data Science\n",
      "University Name:\t NED Academy (Empowring For Professional Excellence)\n",
      "City Name:\t\t Karachi\n"
     ]
    }
   ],
   "source": [
    "# 3rd data\n",
    "print(\"Name:\\t\\t\\t\", nameA)\n",
    "print(\"Age:\\t\\t\\t\", ageA)\n",
    "print(\"Student:\\t\\t\", student)\n",
    "print(\"Duration of course:\\t\", duration_of_course)\n",
    "print(\"Course mode:\\t\\t\", course_mode1)\n",
    "print(\"Admission date:\\t\\t\", date_of_admissionA)\n",
    "print(\"Teacher Name:\\t\\t\", teacher)\n",
    "print(\"Subject:\\t\\t\", subject)\n",
    "print(\"University Name:\\t\", university_name)\n",
    "print(\"City Name:\\t\\t\", cityA)"
   ]
  },
  {
   "cell_type": "code",
   "execution_count": 9,
   "metadata": {},
   "outputs": [
    {
     "name": "stdout",
     "output_type": "stream",
     "text": [
      "Name:\t\t\t Waquar\n",
      "Age:\t\t\t 54\n",
      "Student:\t\t Post Gradute Program\n",
      "Duration of course:\t One year\n",
      "Course mode:\t\t online\n",
      "Admission date:\t\t 20_June_2024\n",
      "Teacher Name:\t\t Sir Sajid Majeed\n",
      "Subject:\t\t Pythin for Data Science\n",
      "University Name:\t NED Academy (Empowring For Professional Excellence)\n",
      "City Name:\t\t Hyderabad\n"
     ]
    }
   ],
   "source": [
    "# 4th data\n",
    "print(\"Name:\\t\\t\\t\", namew)\n",
    "print(\"Age:\\t\\t\\t\", agew)\n",
    "print(\"Student:\\t\\t\", student)\n",
    "print(\"Duration of course:\\t\", duration_of_course)\n",
    "print(\"Course mode:\\t\\t\", course_mode2)\n",
    "print(\"Admission date:\\t\\t\", date_of_admissionw)\n",
    "print(\"Teacher Name:\\t\\t\", teacher)\n",
    "print(\"Subject:\\t\\t\", subject)\n",
    "print(\"University Name:\\t\", university_name)\n",
    "print(\"City Name:\\t\\t\", cityw)"
   ]
  },
  {
   "cell_type": "markdown",
   "metadata": {},
   "source": [
    "#### Dynamic program:"
   ]
  },
  {
   "cell_type": "code",
   "execution_count": 4,
   "metadata": {},
   "outputs": [
    {
     "name": "stdout",
     "output_type": "stream",
     "text": [
      "Your desired data is:\t {'name': 'Ahmed', 'age': 35, 'student': 'Post Gradute Program', 'duration of course': 'One Year', 'course_mode1': 'on site', 'date_of_admission': '25_June_2024', 'teacher': 'Sir Sajid Majeed', 'subject': 'Pythin for Data Science', 'university_name': 'NED Academy (Empowring For Professional Excellence)', 'city': 'Karachi'}\n",
      "Your desired data is:\t {'namek': 'Kashif', 'agek': 44, 'student': 'Post Gradute Program', 'duration_of_course': 'One Year', 'course_mode2': 'online', 'date_of_admissionk': '23_June_2024', 'teacher': 'Sir Sajid Majeed', 'subject': 'Python for Data Science', 'university_name': 'NED Academy (Empowring For Professional Excellence)', 'cityk': 'Islamabad'}\n"
     ]
    }
   ],
   "source": [
    "# static program\n",
    "\n",
    "data1={'name':'Ahmed','age':35,'student': 'Post Gradute Program','duration of course':'One Year','course_mode1':'on site','date_of_admission':'25_June_2024','teacher':'Sir Sajid Majeed','subject':'Pythin for Data Science','university_name':'NED Academy (Empowring For Professional Excellence)','city':'Karachi'}\n",
    "data2={'namek':'Kashif','agek': 44, 'student': 'Post Gradute Program', 'duration_of_course':'One Year','course_mode2':'online','date_of_admissionk':'23_June_2024','teacher':'Sir Sajid Majeed','subject':'Python for Data Science','university_name':'NED Academy (Empowring For Professional Excellence)','cityk':'Islamabad'}\n",
    "print(\"Your desired data is:\\t\",data1)\n",
    "print(\"Your desired data is:\\t\",data2)"
   ]
  },
  {
   "cell_type": "code",
   "execution_count": 10,
   "metadata": {},
   "outputs": [
    {
     "name": "stdout",
     "output_type": "stream",
     "text": [
      "Your desired data is:  {'name': 'Ahmed', 'age': 35, 'student': 'Post Gradute Program', 'duration of course': 'One Year', 'course_mode1': 'on site', 'date_of_admission': '25_June_2024', 'teacher': 'Sir Sajid Majeed', 'subject': 'Pythin for Data Science', 'university_name': 'NED Academy (Empowring For Professional Excellence)', 'city': 'Karachi'}\n",
      "Your desired data is:  {'namek': 'Kashif', 'agek': 44, 'student': 'Post Gradute Program', 'duration_of_course': 'One Year', 'course_mode2': 'online', 'date_of_admissionk': '23_June_2024', 'teacher': 'Sir Sajid Majeed', 'subject': 'Python for Data Science', 'university_name': 'NED Academy (Empowring For Professional Excellence)', 'cityk': 'Islamabad'}\n"
     ]
    }
   ],
   "source": [
    "dataA={'name':'Ahmed','age':35,'student': 'Post Gradute Program','duration of course':'One Year','course_mode1':'on site','date_of_admission':'25_June_2024','teacher':'Sir Sajid Majeed','subject':'Pythin for Data Science','university_name':'NED Academy (Empowring For Professional Excellence)','city':'Karachi'}\n",
    "dataK={'namek':'Kashif','agek': 44, 'student': 'Post Gradute Program', 'duration_of_course':'One Year','course_mode2':'online','date_of_admissionk':'23_June_2024','teacher':'Sir Sajid Majeed','subject':'Python for Data Science','university_name':'NED Academy (Empowring For Professional Excellence)','cityk':'Islamabad'}\n",
    "\n",
    "input(\"Enter your desired data\")\n",
    "input(\"Enter your desired data\")\n",
    "print(\"Your desired data is: \", dataA)\n",
    "print(\"Your desired data is: \", dataK)"
   ]
  },
  {
   "cell_type": "markdown",
   "metadata": {},
   "source": [
    "#### \"This is time-consuming, so we need to work with a dictionary to create and manage data for each person.\""
   ]
  },
  {
   "cell_type": "markdown",
   "metadata": {},
   "source": [
    "## Dictionary"
   ]
  },
  {
   "cell_type": "code",
   "execution_count": 16,
   "metadata": {},
   "outputs": [
    {
     "name": "stdout",
     "output_type": "stream",
     "text": [
      "{'name': 'Ahmed', 'age': 35, 'student': 'Post Gradute Program', 'duration of course': 'One Year', 'course_mode1': 'on site', 'date_of_admission': '25_June_2024', 'teacher': 'Sir Sajid Majeed', 'subject': 'Pythin for Data Science', 'university_name': 'NED Academy (Empowring For Professional Excellence)', 'city': 'Karachi'}\n",
      "{'namek': 'Kashif', 'agek': 44, 'student': 'Post Gradute Program', 'duration_of_course': 'One Year', 'course_mode2': 'online', 'date_of_admissionk': '23_June_2024', 'teacher': 'Sir Sajid Majeed', 'subject': 'Python for Data Science', 'university_name': 'NED Academy (Empowring For Professional Excellence)', 'cityk': 'Islamabad'}\n",
      "{'nameA': 'Ambreen', 'agek': 40, 'student': 'Post Gradute Program', 'duration_of_course': 'One Year', 'course_mode1': 'on site', 'date_of_admissionA': '25_June_2024', 'teacher': 'Sir Sajid Majeed', 'subject': 'Python for Data Science', 'university_name': 'NED Academy (Empowring For Professional Excellence)', 'cityA': 'Karachi'}\n",
      "{'namew': 'Waquar', 'agew': 54, 'student': 'Post Gradute Program', 'duration_of_course': 'One Year', 'course_mode2': 'online', 'date_of_admissionw': '20_June_2024', 'teacher': 'Sir Sajid Majeed', 'subject': 'Python for Data Science', 'university_name': 'NED Academy (Empowring For Professional Excellence)', 'cityw': 'Hyderabad'}\n"
     ]
    }
   ],
   "source": [
    "data1={'name':'Ahmed','age':35,'student': 'Post Gradute Program','duration of course':'One Year','course_mode1':'on site','date_of_admission':'25_June_2024','teacher':'Sir Sajid Majeed','subject':'Pythin for Data Science','university_name':'NED Academy (Empowring For Professional Excellence)','city':'Karachi'}\n",
    "data2={'namek':'Kashif','agek': 44, 'student': 'Post Gradute Program', 'duration_of_course':'One Year','course_mode2':'online','date_of_admissionk':'23_June_2024','teacher':'Sir Sajid Majeed','subject':'Python for Data Science','university_name':'NED Academy (Empowring For Professional Excellence)','cityk':'Islamabad'}\n",
    "data3={'nameA':'Ambreen','agek': 40, 'student': 'Post Gradute Program', 'duration_of_course':'One Year','course_mode1':'on site','date_of_admissionA':'25_June_2024','teacher':'Sir Sajid Majeed','subject':'Python for Data Science','university_name':'NED Academy (Empowring For Professional Excellence)','cityA':'Karachi'}\n",
    "data4={'namew':'Waquar','agew': 54, 'student': 'Post Gradute Program', 'duration_of_course':'One Year','course_mode2':'online','date_of_admissionw':'20_June_2024','teacher':'Sir Sajid Majeed','subject':'Python for Data Science','university_name':'NED Academy (Empowring For Professional Excellence)','cityw':'Hyderabad'}\n",
    "print(data1)\n",
    "print(data2)\n",
    "print(data3)\n",
    "print(data4)"
   ]
  },
  {
   "cell_type": "markdown",
   "metadata": {},
   "source": [
    "#### Dictionary with Conditional Statement"
   ]
  },
  {
   "cell_type": "code",
   "execution_count": 18,
   "metadata": {},
   "outputs": [
    {
     "name": "stdout",
     "output_type": "stream",
     "text": [
      "This is Waquar's Data: {'namew': 'Waquar', 'agew': 54, 'student': 'Post Gradute Program', 'duration_of_course': 'One Year', 'course_mode2': 'online', 'date_of_admissionw': '20_June_2024', 'teacher': 'Sir Sajid Majeed', 'subject': 'Python for Data Science', 'university_name': 'NED Academy (Empowring For Professional Excellence)', 'cityw': 'Hyderabad'}\n"
     ]
    }
   ],
   "source": [
    "user_input=input(\"Enter your desired data information:\")\n",
    "if user_input==\"data1\":\n",
    "    print(\"This is Ahmed's Data:\", data1)\n",
    "elif user_input==\"data2\":\n",
    "    print(\"This is Kashif's Data:\", data2)\n",
    "elif user_input==\"data3\":\n",
    "    print(\"This is Ambreen's Data:\", data3)\n",
    "elif user_input==\"data4\":\n",
    "    print(\"This is Waquar's Data:\",data4)\n",
    "else:\n",
    "    print(\"Please Enter correct Name that you need to know.\")"
   ]
  },
  {
   "cell_type": "markdown",
   "metadata": {},
   "source": [
    "## Arthmetic Operators for practice:"
   ]
  },
  {
   "cell_type": "markdown",
   "metadata": {},
   "source": [
    "### Some more examples of percentage"
   ]
  },
  {
   "cell_type": "markdown",
   "metadata": {},
   "source": [
    "### 1- Naheed has Rs.120. She spends 25% of the amount. How much money is left with her?"
   ]
  },
  {
   "cell_type": "code",
   "execution_count": 1,
   "metadata": {},
   "outputs": [
    {
     "data": {
      "text/plain": [
       "90"
      ]
     },
     "execution_count": 1,
     "metadata": {},
     "output_type": "execute_result"
    }
   ],
   "source": [
    "total_amount = 120\n",
    "rate_of_expenditure = total_amount*25/100\n",
    "\n",
    "total_amount-30"
   ]
  },
  {
   "cell_type": "code",
   "execution_count": 2,
   "metadata": {},
   "outputs": [
    {
     "name": "stdout",
     "output_type": "stream",
     "text": [
      "30.0\n",
      "90\n"
     ]
    }
   ],
   "source": [
    "print(120*25/100)            # for example\n",
    "print(120-30)"
   ]
  },
  {
   "cell_type": "markdown",
   "metadata": {},
   "source": [
    "### 2- 75% students out of 60 were present in a test. How many students were absent?"
   ]
  },
  {
   "cell_type": "code",
   "execution_count": 3,
   "metadata": {},
   "outputs": [
    {
     "data": {
      "text/plain": [
       "15"
      ]
     },
     "execution_count": 3,
     "metadata": {},
     "output_type": "execute_result"
    }
   ],
   "source": [
    "present_students = 60\n",
    "persentage_of_students = present_students*75/100\n",
    "\n",
    "present_students-45"
   ]
  },
  {
   "cell_type": "code",
   "execution_count": 4,
   "metadata": {},
   "outputs": [
    {
     "name": "stdout",
     "output_type": "stream",
     "text": [
      "45.0\n",
      "15\n"
     ]
    }
   ],
   "source": [
    "print(60*75/100)       # for example\n",
    "print(60-45)"
   ]
  },
  {
   "cell_type": "markdown",
   "metadata": {},
   "source": [
    "### 3- I obtained 60 marks out of 75 marks. what is the percentage of my marks?"
   ]
  },
  {
   "cell_type": "code",
   "execution_count": 5,
   "metadata": {},
   "outputs": [
    {
     "name": "stdout",
     "output_type": "stream",
     "text": [
      "The percentage of Marks is: 80.0\n"
     ]
    }
   ],
   "source": [
    "obtained_marks = 60\n",
    "total_marks = 75\n",
    "Find_percentage = '?'\n",
    "per = obtained_marks/total_marks*100\n",
    "print(\"The percentage of Marks is:\",per)"
   ]
  },
  {
   "cell_type": "code",
   "execution_count": 6,
   "metadata": {},
   "outputs": [
    {
     "data": {
      "text/plain": [
       "80.0"
      ]
     },
     "execution_count": 6,
     "metadata": {},
     "output_type": "execute_result"
    }
   ],
   "source": [
    "60/75*100               # for example"
   ]
  },
  {
   "cell_type": "markdown",
   "metadata": {},
   "source": [
    "### 4- The cost of a book is Rs 60. The shop offers a discount of 40% on the selling price. What is the discounted price of the book?"
   ]
  },
  {
   "cell_type": "code",
   "execution_count": 19,
   "metadata": {},
   "outputs": [
    {
     "data": {
      "text/plain": [
       "24.0"
      ]
     },
     "execution_count": 19,
     "metadata": {},
     "output_type": "execute_result"
    }
   ],
   "source": [
    "cost_of_a_book = 60\n",
    "discount_percentage = 40\n",
    "discounted_price = \"?\"\n",
    "disc_price = discount_percentage/100*cost_of_a_book\n",
    "disc_price\n"
   ]
  },
  {
   "cell_type": "code",
   "execution_count": 28,
   "metadata": {},
   "outputs": [
    {
     "name": "stdout",
     "output_type": "stream",
     "text": [
      "discounted percentage is:  24.0\n",
      "discounted price of a book is:  36\n"
     ]
    }
   ],
   "source": [
    "# rough work\n",
    "print(\"discounted percentage is: \", 40/100*60)\n",
    "print(\"discounted price of a book is: \", 60 - 24)"
   ]
  },
  {
   "cell_type": "markdown",
   "metadata": {},
   "source": [
    "### 5- A shop offers 30 % off during Eid on prices of refigerators, electric ovens, and all other items on display. What will be the selling price of 2 electric irons, each with a tag of Rs 2000?"
   ]
  },
  {
   "cell_type": "code",
   "execution_count": 35,
   "metadata": {},
   "outputs": [
    {
     "name": "stdout",
     "output_type": "stream",
     "text": [
      "600.0\n",
      "1400.0\n",
      "2800\n"
     ]
    }
   ],
   "source": [
    "shop_offer_percentage = 30\n",
    "each_electric_item_price = 2000\n",
    "electric_2_irons_price = \" ? \"\n",
    "eid_offer = shop_offer_percentage/100*each_electric_item_price\n",
    "print(eid_offer)\n",
    "print(each_electric_item_price - eid_offer)\n",
    "print(1400*2)"
   ]
  },
  {
   "cell_type": "code",
   "execution_count": 36,
   "metadata": {},
   "outputs": [
    {
     "name": "stdout",
     "output_type": "stream",
     "text": [
      "600.0\n",
      "1400\n",
      "2800\n"
     ]
    }
   ],
   "source": [
    "# rough work\n",
    "print(30/100*2000)\n",
    "print(2000 - 600)\n",
    "print(1400*2)"
   ]
  },
  {
   "cell_type": "markdown",
   "metadata": {},
   "source": [
    "### 6- A man's salary increased from Rs 10,000 to 15,000 after his promotion. What is the percentage increase?"
   ]
  },
  {
   "cell_type": "code",
   "execution_count": 46,
   "metadata": {},
   "outputs": [
    {
     "name": "stdout",
     "output_type": "stream",
     "text": [
      "Inceased salary is:  5000\n",
      "The increased percentage of salary is:  50.0 %\n"
     ]
    }
   ],
   "source": [
    "old_salary = 10000\n",
    "new_salary = 15000\n",
    "Find_percentage = \" ? \" \n",
    "increase_in_salary = new_salary - old_salary\n",
    "print(\"Inceased salary is: \",increase_in_salary)\n",
    "percentage_increased = (increase_in_salary/old_salary)*100\n",
    "print(\"The increased percentage of salary is: \", percentage_increased,\"%\")"
   ]
  },
  {
   "cell_type": "code",
   "execution_count": 51,
   "metadata": {},
   "outputs": [
    {
     "name": "stdout",
     "output_type": "stream",
     "text": [
      "5000 Rs increased salary\n",
      "50.0 %\n"
     ]
    }
   ],
   "source": [
    "# rough work\n",
    "print(15000-10000,\"Rs increased salary\")\n",
    "print((5000/10000)*100,\"%\")"
   ]
  }
 ],
 "metadata": {
  "kernelspec": {
   "display_name": "Python 3",
   "language": "python",
   "name": "python3"
  },
  "language_info": {
   "codemirror_mode": {
    "name": "ipython",
    "version": 3
   },
   "file_extension": ".py",
   "mimetype": "text/x-python",
   "name": "python",
   "nbconvert_exporter": "python",
   "pygments_lexer": "ipython3",
   "version": "3.12.1"
  }
 },
 "nbformat": 4,
 "nbformat_minor": 2
}
